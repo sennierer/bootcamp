{
 "cells": [
  {
   "cell_type": "markdown",
   "metadata": {},
   "source": [
    "# Fine-Tuning Models\n",
    "\n",
    "Improving your model with fine-tuning the model parameters and selecting the best variables. Introduction of the the bias-variance trade-off."
   ]
  },
  {
   "cell_type": "markdown",
   "metadata": {},
   "source": [
    "* K fold cross validation\n",
    "* K parameter optimization\n",
    "* Overfitting - underfitting\n",
    "* Bias - variance trade-off\n",
    "* Feature engineering, feature selection, GRID, Feature importance"
   ]
  },
  {
   "cell_type": "markdown",
   "metadata": {},
   "source": [
    "## The Bias-Variance Trade-Off\n",
    "\n",
    "Main idea: you want to create models that are as **good at prediction** as possible but that are still **applicable to new data**.\n",
    "* Overfitting\n",
    "* Underfititng\n",
    "\n",
    "*Underfitting, overfitting and generalization*: Together, this bundle of concepts related to the balance between underfitting and overfitting is referred to as the **bias-variance trade-off**."
   ]
  },
  {
   "cell_type": "markdown",
   "metadata": {},
   "source": [
    "![bias_variance](../files/0401_bias_variance.png \"Bias-Variance\")"
   ]
  },
  {
   "cell_type": "markdown",
   "metadata": {},
   "source": [
    "### Underfitting and Overfitting models"
   ]
  },
  {
   "cell_type": "markdown",
   "metadata": {},
   "source": [
    "![bias_variance_table](../files/0402_bias_variance_table.png \"Bias-Variance Table\")"
   ]
  },
  {
   "cell_type": "markdown",
   "metadata": {},
   "source": [
    "### Demonstrating the concept of over and underfitting with kNN\n",
    "\n",
    "Fit a model with various `k`-params to training set:"
   ]
  },
  {
   "cell_type": "markdown",
   "metadata": {},
   "source": [
    "![bias_variance_table](../files/0403_training_data_only_99_1.png \"Bias-Variance Table\")"
   ]
  },
  {
   "cell_type": "markdown",
   "metadata": {},
   "source": [
    "Now compare the fit to training and test set:"
   ]
  },
  {
   "cell_type": "markdown",
   "metadata": {},
   "source": [
    "![bias_variance_table](../files/0404_training_data_and_test_99_1.png \"Bias-Variance Table\")"
   ]
  },
  {
   "cell_type": "markdown",
   "metadata": {},
   "source": [
    "After examining a very hig and low `k` params let's see one in the middle (50):"
   ]
  },
  {
   "cell_type": "markdown",
   "metadata": {},
   "source": [
    "![bias_variance_table](../files/0405_training_data_and_test_99_50_1.png \"Bias-Variance Table\")"
   ]
  },
  {
   "cell_type": "markdown",
   "metadata": {},
   "source": [
    "Now, as a summary:"
   ]
  },
  {
   "cell_type": "markdown",
   "metadata": {},
   "source": [
    "![bias_variance_table](../files/0406_over_underfitting.png \"Bias-Variance Table\")"
   ]
  },
  {
   "cell_type": "markdown",
   "metadata": {},
   "source": [
    "## Avoiding Under or Overfitting: Cross-Validation (CV)"
   ]
  },
  {
   "cell_type": "markdown",
   "metadata": {},
   "source": [
    "![CV](../files/0407_cv.png \"Cross-Validation\")"
   ]
  },
  {
   "cell_type": "markdown",
   "metadata": {},
   "source": [
    "### Loading our data and packages"
   ]
  },
  {
   "cell_type": "code",
   "execution_count": 1,
   "metadata": {
    "collapsed": true
   },
   "outputs": [],
   "source": [
    "import pandas as pd\n",
    "import numpy as np\n",
    "import seaborn as sns\n",
    "import matplotlib.pyplot as plt\n",
    "import matplotlib.mlab as mlab\n",
    "%matplotlib inline"
   ]
  },
  {
   "cell_type": "code",
   "execution_count": 2,
   "metadata": {
    "collapsed": true
   },
   "outputs": [],
   "source": [
    "data = pd.read_csv(\"../files/bank-data.csv\", sep=\";\")\n",
    "data.drop(data.ix[:,1:10], axis=1, inplace=True)\n",
    "data.drop(\"poutcome\", axis=1, inplace=True)\n",
    "n = 4500\n",
    "sample_yes = data.ix[data.y == \"yes\"].sample(n=n, replace=False)\n",
    "sample_no = data.ix[data.y == \"no\"].sample(n=n, replace=False)\n",
    "df = pd.concat([sample_yes, sample_no])\n",
    "df = df.sample(frac=1)       # Shuffle the whole set\n",
    "X = df.drop('y', axis=1)  \n",
    "y = df.ix[:, 'y']\n",
    "y.replace(\"yes\", 1, inplace=True)\n",
    "y.replace(\"no\", 0, inplace=True)"
   ]
  },
  {
   "cell_type": "markdown",
   "metadata": {},
   "source": [
    "### Testing Cross-Validation on our Bank Data"
   ]
  },
  {
   "cell_type": "code",
   "execution_count": 3,
   "metadata": {
    "collapsed": false
   },
   "outputs": [
    {
     "data": {
      "text/plain": [
       "((7200, 10), (7200,), (1800, 10), (1800,))"
      ]
     },
     "execution_count": 3,
     "metadata": {},
     "output_type": "execute_result"
    }
   ],
   "source": [
    "from sklearn.cross_validation import train_test_split\n",
    "\n",
    "X_train, X_test, y_train, y_test = train_test_split(X, y, test_size=0.2, random_state=0)\n",
    "X_train.shape, y_train.shape, X_test.shape, y_test.shape"
   ]
  },
  {
   "cell_type": "code",
   "execution_count": 4,
   "metadata": {
    "collapsed": true
   },
   "outputs": [],
   "source": [
    "from sklearn.cross_validation import cross_val_score\n",
    "from sklearn.neighbors import KNeighborsClassifier\n",
    "from sklearn import metrics"
   ]
  },
  {
   "cell_type": "code",
   "execution_count": 5,
   "metadata": {
    "collapsed": false
   },
   "outputs": [
    {
     "name": "stdout",
     "output_type": "stream",
     "text": [
      "Scores: \n",
      "[ 0.84604716  0.83611111  0.84305556  0.86527778  0.85277778  0.86111111\n",
      "  0.85833333  0.82638889  0.85138889  0.84979138]\n",
      "\n",
      "Average of CV Scores: 0.85\n",
      "Std of CV Scores: 0.01\n"
     ]
    }
   ],
   "source": [
    "knn = KNeighborsClassifier()\n",
    "knn.n_neighbors = 5\n",
    "knn.fit(X_train, y_train)\n",
    "\n",
    "scores = cross_val_score(knn, X_train, y_train, cv = 10)\n",
    "print \"Scores: \"\n",
    "print scores\n",
    "print\n",
    "print \"Average of CV Scores: %.2f\" % scores.mean()\n",
    "print \"Std of CV Scores: %.2f\" % scores.std()"
   ]
  },
  {
   "cell_type": "markdown",
   "metadata": {},
   "source": [
    "## Parameter Tuning\n",
    "\n",
    "### The `k` parameter"
   ]
  },
  {
   "cell_type": "code",
   "execution_count": 6,
   "metadata": {
    "collapsed": false
   },
   "outputs": [],
   "source": [
    "# the range of number of neighbors you want to test\n",
    "n_neighbors = np.arange(1, 100, 2)\n",
    " \n",
    "# here you store the models for each dataset used\n",
    "train_scores = list()\n",
    "test_scores = list()\n",
    "cv_scores = list()\n",
    " \n",
    "# loop through possible n_neighbors and try them out\n",
    "for n in n_neighbors:\n",
    "    knn.n_neighbors = n\n",
    "    knn.fit(X_train, y_train)\n",
    "    train_scores.append(1 - metrics.accuracy_score(y_train, knn.predict(X_train)))  # this will over-estimate the accuracy\n",
    "    test_scores.append(1 - metrics.accuracy_score(y_test, knn.predict(X_test)))\n",
    "    cv_scores.append(1 - cross_val_score(knn, X_train, y_train, cv = 10).mean())  # you take the mean of the CV scores"
   ]
  },
  {
   "cell_type": "code",
   "execution_count": 7,
   "metadata": {
    "collapsed": false
   },
   "outputs": [
    {
     "data": {
      "image/png": "[encoded data removed]",
      "text/plain": [
       "<matplotlib.figure.Figure at 0x102769110>"
      ]
     },
     "metadata": {},
     "output_type": "display_data"
    }
   ],
   "source": [
    "# let's plot the error you get with different values of k\n",
    "plt.figure(figsize=(10,7.5))\n",
    "plt.plot(n_neighbors, train_scores, c=\"black\", label=\"Training Set\")\n",
    "plt.plot(n_neighbors, test_scores, c=\"black\", linestyle=\"--\", label=\"Test Set\")\n",
    "plt.plot(n_neighbors, cv_scores, c=\"green\", label=\"Cross-Validation\")\n",
    "plt.xlabel('Number of K Nearest Neighbors')\n",
    "plt.ylabel('Classification Error')\n",
    "plt.gca().invert_xaxis()\n",
    "plt.legend(loc = \"lower left\")\n",
    "plt.show()"
   ]
  },
  {
   "cell_type": "code",
   "execution_count": 8,
   "metadata": {
    "collapsed": false
   },
   "outputs": [
    {
     "name": "stdout",
     "output_type": "stream",
     "text": [
      "The best values of k are:\n",
      "1 according to the Training Set\n",
      "25 according to the Test Set and\n",
      "29 according to Cross-Validation\n"
     ]
    }
   ],
   "source": [
    "# what do these different datasets think is the best value of k?\n",
    "print(\n",
    "    'The best values of k are:\\n' \\\n",
    "    '{} according to the Training Set\\n' \\\n",
    "    '{} according to the Test Set and\\n' \\\n",
    "    '{} according to Cross-Validation'.format(\n",
    "        min(n_neighbors[train_scores == min(train_scores)]),\n",
    "        min(n_neighbors[test_scores == min(test_scores)]),\n",
    "        min(n_neighbors[cv_scores == min(cv_scores)])        \n",
    "    )\n",
    ")    "
   ]
  },
  {
   "cell_type": "markdown",
   "metadata": {},
   "source": [
    "### The `distance` parameter"
   ]
  },
  {
   "cell_type": "code",
   "execution_count": 9,
   "metadata": {
    "collapsed": false
   },
   "outputs": [
    {
     "name": "stdout",
     "output_type": "stream",
     "text": [
      "Average of CV Scores: \n",
      "[0.85861182752624488, 0.86083481974738041, 0.85930762415736839]\n",
      "\n",
      "Std of CV Scores: \n",
      "[0.012285851911938902, 0.011412271121424662, 0.013588074655006548]\n"
     ]
    }
   ],
   "source": [
    "param = ['euclidean', 'manhattan', 'chebyshev']\n",
    "score_means = list()\n",
    "score_stds = list()\n",
    "\n",
    "for p in param:\n",
    "    knn = KNeighborsClassifier(n_neighbors= 13, metric=p)\n",
    "    knn.fit(X_train, y_train)\n",
    "    score_means.append(cross_val_score(knn, X_train, y_train, cv = 10).mean())\n",
    "    score_stds.append(cross_val_score(knn, X_train, y_train, cv = 10).std())\n",
    "    \n",
    "print \"Average of CV Scores: \"\n",
    "print score_means\n",
    "print\n",
    "print \"Std of CV Scores: \"\n",
    "print score_stds"
   ]
  },
  {
   "cell_type": "markdown",
   "metadata": {},
   "source": [
    "### The `weights` parameter"
   ]
  },
  {
   "cell_type": "code",
   "execution_count": 10,
   "metadata": {
    "collapsed": false
   },
   "outputs": [
    {
     "name": "stdout",
     "output_type": "stream",
     "text": [
      "Average of CV Scores: \n",
      "[0.85861182752624488, 0.85680704304127819]\n",
      "\n",
      "Std of CV Scores: \n",
      "[0.012285851911938902, 0.013311697579505509]\n"
     ]
    }
   ],
   "source": [
    "param = ['uniform', 'distance']\n",
    "score_means = list()\n",
    "score_stds = list()\n",
    "\n",
    "for p in param:\n",
    "    knn = KNeighborsClassifier(n_neighbors= 13, weights=p)\n",
    "    knn.fit(X_train, y_train)\n",
    "    score_means.append(cross_val_score(knn, X_train, y_train, cv = 10).mean())\n",
    "    score_stds.append(cross_val_score(knn, X_train, y_train, cv = 10).std())\n",
    "    \n",
    "print \"Average of CV Scores: \"\n",
    "print score_means\n",
    "print\n",
    "print \"Std of CV Scores: \"\n",
    "print score_stds"
   ]
  },
  {
   "cell_type": "markdown",
   "metadata": {},
   "source": [
    "### Complex param tuning"
   ]
  },
  {
   "cell_type": "code",
   "execution_count": 11,
   "metadata": {
    "collapsed": false
   },
   "outputs": [
    {
     "data": {
      "text/html": [
       "<div>\n",
       "<table border=\"1\" class=\"dataframe\">\n",
       "  <thead>\n",
       "    <tr style=\"text-align: right;\">\n",
       "      <th></th>\n",
       "      <th>uniform</th>\n",
       "      <th>distance</th>\n",
       "    </tr>\n",
       "  </thead>\n",
       "  <tbody>\n",
       "    <tr>\n",
       "      <th>euclidean</th>\n",
       "      <td>0.858612</td>\n",
       "      <td>0.856807</td>\n",
       "    </tr>\n",
       "    <tr>\n",
       "      <th>manhattan</th>\n",
       "      <td>0.860835</td>\n",
       "      <td>0.861113</td>\n",
       "    </tr>\n",
       "    <tr>\n",
       "      <th>chebyshev</th>\n",
       "      <td>0.859308</td>\n",
       "      <td>0.857780</td>\n",
       "    </tr>\n",
       "  </tbody>\n",
       "</table>\n",
       "</div>"
      ],
      "text/plain": [
       "            uniform  distance\n",
       "euclidean  0.858612  0.856807\n",
       "manhattan  0.860835  0.861113\n",
       "chebyshev  0.859308  0.857780"
      ]
     },
     "execution_count": 11,
     "metadata": {},
     "output_type": "execute_result"
    }
   ],
   "source": [
    "dists = ['euclidean', 'manhattan', 'chebyshev']\n",
    "weights = ['uniform', 'distance']\n",
    "param_tuning = pd.DataFrame(0, index=dists, columns=weights)\n",
    "\n",
    "for w in weights:\n",
    "    for d in dists:\n",
    "        knn = KNeighborsClassifier(n_neighbors= 13, weights=w, metric=d)\n",
    "        knn.fit(X_train, y_train)\n",
    "        param_tuning.loc[d,w] = cross_val_score(knn, X_train, y_train, cv = 10).mean()\n",
    "\n",
    "param_tuning"
   ]
  },
  {
   "cell_type": "code",
   "execution_count": 12,
   "metadata": {
    "collapsed": false
   },
   "outputs": [
    {
     "data": {
      "text/html": [
       "<div>\n",
       "<table border=\"1\" class=\"dataframe\">\n",
       "  <thead>\n",
       "    <tr style=\"text-align: right;\">\n",
       "      <th></th>\n",
       "      <th>uniform</th>\n",
       "      <th>distance</th>\n",
       "    </tr>\n",
       "  </thead>\n",
       "  <tbody>\n",
       "    <tr>\n",
       "      <th>euclidean</th>\n",
       "      <td>NaN</td>\n",
       "      <td>0.856807</td>\n",
       "    </tr>\n",
       "    <tr>\n",
       "      <th>manhattan</th>\n",
       "      <td>NaN</td>\n",
       "      <td>NaN</td>\n",
       "    </tr>\n",
       "    <tr>\n",
       "      <th>chebyshev</th>\n",
       "      <td>NaN</td>\n",
       "      <td>NaN</td>\n",
       "    </tr>\n",
       "  </tbody>\n",
       "</table>\n",
       "</div>"
      ],
      "text/plain": [
       "           uniform  distance\n",
       "euclidean      NaN  0.856807\n",
       "manhattan      NaN       NaN\n",
       "chebyshev      NaN       NaN"
      ]
     },
     "execution_count": 12,
     "metadata": {},
     "output_type": "execute_result"
    }
   ],
   "source": [
    "param_tuning[param_tuning == param_tuning.min().min()]"
   ]
  },
  {
   "cell_type": "markdown",
   "metadata": {},
   "source": [
    "### GridSearchCV"
   ]
  },
  {
   "cell_type": "code",
   "execution_count": 13,
   "metadata": {
    "collapsed": false
   },
   "outputs": [
    {
     "data": {
      "text/plain": [
       "{'metric': 'manhattan', 'n_neighbors': 43, 'weights': 'distance'}"
      ]
     },
     "execution_count": 13,
     "metadata": {},
     "output_type": "execute_result"
    }
   ],
   "source": [
    "from sklearn.grid_search import GridSearchCV\n",
    "\n",
    "k = np.arange(1, 100, 2)\n",
    "parameters = {'n_neighbors': k, 'weights': weights, 'metric': dists}\n",
    "knn = KNeighborsClassifier()\n",
    "clf = GridSearchCV(knn, parameters, cv=10)\n",
    "clf.fit(X_train, y_train)\n",
    "\n",
    "clf.best_score_\n",
    "clf.best_params_"
   ]
  },
  {
   "cell_type": "code",
   "execution_count": 14,
   "metadata": {
    "collapsed": false
   },
   "outputs": [
    {
     "data": {
      "text/plain": [
       "[mean: 0.81083, std: 0.01620, params: {'n_neighbors': 1, 'metric': 'euclidean', 'weights': 'uniform'},\n",
       " mean: 0.81083, std: 0.01620, params: {'n_neighbors': 1, 'metric': 'euclidean', 'weights': 'distance'},\n",
       " mean: 0.84056, std: 0.01156, params: {'n_neighbors': 3, 'metric': 'euclidean', 'weights': 'uniform'},\n",
       " mean: 0.83500, std: 0.01222, params: {'n_neighbors': 3, 'metric': 'euclidean', 'weights': 'distance'},\n",
       " mean: 0.84903, std: 0.01114, params: {'n_neighbors': 5, 'metric': 'euclidean', 'weights': 'uniform'},\n",
       " mean: 0.84431, std: 0.01208, params: {'n_neighbors': 5, 'metric': 'euclidean', 'weights': 'distance'},\n",
       " mean: 0.85722, std: 0.01229, params: {'n_neighbors': 7, 'metric': 'euclidean', 'weights': 'uniform'},\n",
       " mean: 0.85500, std: 0.01408, params: {'n_neighbors': 7, 'metric': 'euclidean', 'weights': 'distance'},\n",
       " mean: 0.85708, std: 0.01413, params: {'n_neighbors': 9, 'metric': 'euclidean', 'weights': 'uniform'},\n",
       " mean: 0.85611, std: 0.01580, params: {'n_neighbors': 9, 'metric': 'euclidean', 'weights': 'distance'},\n",
       " mean: 0.85764, std: 0.01207, params: {'n_neighbors': 11, 'metric': 'euclidean', 'weights': 'uniform'},\n",
       " mean: 0.85708, std: 0.01187, params: {'n_neighbors': 11, 'metric': 'euclidean', 'weights': 'distance'},\n",
       " mean: 0.85861, std: 0.01229, params: {'n_neighbors': 13, 'metric': 'euclidean', 'weights': 'uniform'},\n",
       " mean: 0.85681, std: 0.01331, params: {'n_neighbors': 13, 'metric': 'euclidean', 'weights': 'distance'},\n",
       " mean: 0.85917, std: 0.01319, params: {'n_neighbors': 15, 'metric': 'euclidean', 'weights': 'uniform'},\n",
       " mean: 0.85750, std: 0.01359, params: {'n_neighbors': 15, 'metric': 'euclidean', 'weights': 'distance'},\n",
       " mean: 0.85931, std: 0.01347, params: {'n_neighbors': 17, 'metric': 'euclidean', 'weights': 'uniform'},\n",
       " mean: 0.85875, std: 0.01248, params: {'n_neighbors': 17, 'metric': 'euclidean', 'weights': 'distance'},\n",
       " mean: 0.85875, std: 0.01234, params: {'n_neighbors': 19, 'metric': 'euclidean', 'weights': 'uniform'},\n",
       " mean: 0.85958, std: 0.01209, params: {'n_neighbors': 19, 'metric': 'euclidean', 'weights': 'distance'},\n",
       " mean: 0.85819, std: 0.01285, params: {'n_neighbors': 21, 'metric': 'euclidean', 'weights': 'uniform'},\n",
       " mean: 0.86014, std: 0.01261, params: {'n_neighbors': 21, 'metric': 'euclidean', 'weights': 'distance'},\n",
       " mean: 0.85917, std: 0.01358, params: {'n_neighbors': 23, 'metric': 'euclidean', 'weights': 'uniform'},\n",
       " mean: 0.86125, std: 0.01269, params: {'n_neighbors': 23, 'metric': 'euclidean', 'weights': 'distance'},\n",
       " mean: 0.85972, std: 0.01187, params: {'n_neighbors': 25, 'metric': 'euclidean', 'weights': 'uniform'},\n",
       " mean: 0.86181, std: 0.01256, params: {'n_neighbors': 25, 'metric': 'euclidean', 'weights': 'distance'},\n",
       " mean: 0.85958, std: 0.01124, params: {'n_neighbors': 27, 'metric': 'euclidean', 'weights': 'uniform'},\n",
       " mean: 0.86194, std: 0.01200, params: {'n_neighbors': 27, 'metric': 'euclidean', 'weights': 'distance'},\n",
       " mean: 0.86014, std: 0.01287, params: {'n_neighbors': 29, 'metric': 'euclidean', 'weights': 'uniform'},\n",
       " mean: 0.86222, std: 0.01250, params: {'n_neighbors': 29, 'metric': 'euclidean', 'weights': 'distance'},\n",
       " mean: 0.85903, std: 0.01265, params: {'n_neighbors': 31, 'metric': 'euclidean', 'weights': 'uniform'},\n",
       " mean: 0.86097, std: 0.01210, params: {'n_neighbors': 31, 'metric': 'euclidean', 'weights': 'distance'},\n",
       " mean: 0.85917, std: 0.01305, params: {'n_neighbors': 33, 'metric': 'euclidean', 'weights': 'uniform'},\n",
       " mean: 0.86139, std: 0.01212, params: {'n_neighbors': 33, 'metric': 'euclidean', 'weights': 'distance'},\n",
       " mean: 0.85819, std: 0.01230, params: {'n_neighbors': 35, 'metric': 'euclidean', 'weights': 'uniform'},\n",
       " mean: 0.86208, std: 0.01216, params: {'n_neighbors': 35, 'metric': 'euclidean', 'weights': 'distance'},\n",
       " mean: 0.85708, std: 0.01239, params: {'n_neighbors': 37, 'metric': 'euclidean', 'weights': 'uniform'},\n",
       " mean: 0.86181, std: 0.01320, params: {'n_neighbors': 37, 'metric': 'euclidean', 'weights': 'distance'},\n",
       " mean: 0.85639, std: 0.01224, params: {'n_neighbors': 39, 'metric': 'euclidean', 'weights': 'uniform'},\n",
       " mean: 0.86069, std: 0.01254, params: {'n_neighbors': 39, 'metric': 'euclidean', 'weights': 'distance'},\n",
       " mean: 0.85681, std: 0.01137, params: {'n_neighbors': 41, 'metric': 'euclidean', 'weights': 'uniform'},\n",
       " mean: 0.86153, std: 0.01253, params: {'n_neighbors': 41, 'metric': 'euclidean', 'weights': 'distance'},\n",
       " mean: 0.85472, std: 0.01101, params: {'n_neighbors': 43, 'metric': 'euclidean', 'weights': 'uniform'},\n",
       " mean: 0.86125, std: 0.01365, params: {'n_neighbors': 43, 'metric': 'euclidean', 'weights': 'distance'},\n",
       " mean: 0.85569, std: 0.01100, params: {'n_neighbors': 45, 'metric': 'euclidean', 'weights': 'uniform'},\n",
       " mean: 0.86167, std: 0.01249, params: {'n_neighbors': 45, 'metric': 'euclidean', 'weights': 'distance'},\n",
       " mean: 0.85583, std: 0.01031, params: {'n_neighbors': 47, 'metric': 'euclidean', 'weights': 'uniform'},\n",
       " mean: 0.86208, std: 0.01303, params: {'n_neighbors': 47, 'metric': 'euclidean', 'weights': 'distance'},\n",
       " mean: 0.85764, std: 0.01156, params: {'n_neighbors': 49, 'metric': 'euclidean', 'weights': 'uniform'},\n",
       " mean: 0.86125, std: 0.01319, params: {'n_neighbors': 49, 'metric': 'euclidean', 'weights': 'distance'},\n",
       " mean: 0.85667, std: 0.01157, params: {'n_neighbors': 51, 'metric': 'euclidean', 'weights': 'uniform'},\n",
       " mean: 0.86125, std: 0.01339, params: {'n_neighbors': 51, 'metric': 'euclidean', 'weights': 'distance'},\n",
       " mean: 0.85722, std: 0.01096, params: {'n_neighbors': 53, 'metric': 'euclidean', 'weights': 'uniform'},\n",
       " mean: 0.86139, std: 0.01269, params: {'n_neighbors': 53, 'metric': 'euclidean', 'weights': 'distance'},\n",
       " mean: 0.85736, std: 0.01104, params: {'n_neighbors': 55, 'metric': 'euclidean', 'weights': 'uniform'},\n",
       " mean: 0.86181, std: 0.01388, params: {'n_neighbors': 55, 'metric': 'euclidean', 'weights': 'distance'},\n",
       " mean: 0.85708, std: 0.01100, params: {'n_neighbors': 57, 'metric': 'euclidean', 'weights': 'uniform'},\n",
       " mean: 0.86194, std: 0.01379, params: {'n_neighbors': 57, 'metric': 'euclidean', 'weights': 'distance'},\n",
       " mean: 0.85736, std: 0.01133, params: {'n_neighbors': 59, 'metric': 'euclidean', 'weights': 'uniform'},\n",
       " mean: 0.86167, std: 0.01345, params: {'n_neighbors': 59, 'metric': 'euclidean', 'weights': 'distance'},\n",
       " mean: 0.85750, std: 0.01223, params: {'n_neighbors': 61, 'metric': 'euclidean', 'weights': 'uniform'},\n",
       " mean: 0.86181, std: 0.01335, params: {'n_neighbors': 61, 'metric': 'euclidean', 'weights': 'distance'},\n",
       " mean: 0.85736, std: 0.01147, params: {'n_neighbors': 63, 'metric': 'euclidean', 'weights': 'uniform'},\n",
       " mean: 0.86181, std: 0.01356, params: {'n_neighbors': 63, 'metric': 'euclidean', 'weights': 'distance'},\n",
       " mean: 0.85750, std: 0.01158, params: {'n_neighbors': 65, 'metric': 'euclidean', 'weights': 'uniform'},\n",
       " mean: 0.86097, std: 0.01339, params: {'n_neighbors': 65, 'metric': 'euclidean', 'weights': 'distance'},\n",
       " mean: 0.85736, std: 0.01232, params: {'n_neighbors': 67, 'metric': 'euclidean', 'weights': 'uniform'},\n",
       " mean: 0.86097, std: 0.01390, params: {'n_neighbors': 67, 'metric': 'euclidean', 'weights': 'distance'},\n",
       " mean: 0.85792, std: 0.01216, params: {'n_neighbors': 69, 'metric': 'euclidean', 'weights': 'uniform'},\n",
       " mean: 0.86069, std: 0.01331, params: {'n_neighbors': 69, 'metric': 'euclidean', 'weights': 'distance'},\n",
       " mean: 0.85819, std: 0.01273, params: {'n_neighbors': 71, 'metric': 'euclidean', 'weights': 'uniform'},\n",
       " mean: 0.86083, std: 0.01408, params: {'n_neighbors': 71, 'metric': 'euclidean', 'weights': 'distance'},\n",
       " mean: 0.85847, std: 0.01283, params: {'n_neighbors': 73, 'metric': 'euclidean', 'weights': 'uniform'},\n",
       " mean: 0.86000, std: 0.01378, params: {'n_neighbors': 73, 'metric': 'euclidean', 'weights': 'distance'},\n",
       " mean: 0.85903, std: 0.01273, params: {'n_neighbors': 75, 'metric': 'euclidean', 'weights': 'uniform'},\n",
       " mean: 0.86042, std: 0.01401, params: {'n_neighbors': 75, 'metric': 'euclidean', 'weights': 'distance'},\n",
       " mean: 0.85903, std: 0.01219, params: {'n_neighbors': 77, 'metric': 'euclidean', 'weights': 'uniform'},\n",
       " mean: 0.86028, std: 0.01371, params: {'n_neighbors': 77, 'metric': 'euclidean', 'weights': 'distance'},\n",
       " mean: 0.85875, std: 0.01283, params: {'n_neighbors': 79, 'metric': 'euclidean', 'weights': 'uniform'},\n",
       " mean: 0.86000, std: 0.01294, params: {'n_neighbors': 79, 'metric': 'euclidean', 'weights': 'distance'},\n",
       " mean: 0.85875, std: 0.01254, params: {'n_neighbors': 81, 'metric': 'euclidean', 'weights': 'uniform'},\n",
       " mean: 0.85958, std: 0.01295, params: {'n_neighbors': 81, 'metric': 'euclidean', 'weights': 'distance'},\n",
       " mean: 0.85875, std: 0.01270, params: {'n_neighbors': 83, 'metric': 'euclidean', 'weights': 'uniform'},\n",
       " mean: 0.85931, std: 0.01280, params: {'n_neighbors': 83, 'metric': 'euclidean', 'weights': 'distance'},\n",
       " mean: 0.85875, std: 0.01323, params: {'n_neighbors': 85, 'metric': 'euclidean', 'weights': 'uniform'},\n",
       " mean: 0.86000, std: 0.01273, params: {'n_neighbors': 85, 'metric': 'euclidean', 'weights': 'distance'},\n",
       " mean: 0.85917, std: 0.01371, params: {'n_neighbors': 87, 'metric': 'euclidean', 'weights': 'uniform'},\n",
       " mean: 0.85958, std: 0.01306, params: {'n_neighbors': 87, 'metric': 'euclidean', 'weights': 'distance'},\n",
       " mean: 0.85903, std: 0.01320, params: {'n_neighbors': 89, 'metric': 'euclidean', 'weights': 'uniform'},\n",
       " mean: 0.85958, std: 0.01231, params: {'n_neighbors': 89, 'metric': 'euclidean', 'weights': 'distance'},\n",
       " mean: 0.85889, std: 0.01423, params: {'n_neighbors': 91, 'metric': 'euclidean', 'weights': 'uniform'},\n",
       " mean: 0.85958, std: 0.01228, params: {'n_neighbors': 91, 'metric': 'euclidean', 'weights': 'distance'},\n",
       " mean: 0.85819, std: 0.01422, params: {'n_neighbors': 93, 'metric': 'euclidean', 'weights': 'uniform'},\n",
       " mean: 0.85903, std: 0.01215, params: {'n_neighbors': 93, 'metric': 'euclidean', 'weights': 'distance'},\n",
       " mean: 0.85764, std: 0.01300, params: {'n_neighbors': 95, 'metric': 'euclidean', 'weights': 'uniform'},\n",
       " mean: 0.85889, std: 0.01259, params: {'n_neighbors': 95, 'metric': 'euclidean', 'weights': 'distance'},\n",
       " mean: 0.85764, std: 0.01329, params: {'n_neighbors': 97, 'metric': 'euclidean', 'weights': 'uniform'},\n",
       " mean: 0.85847, std: 0.01268, params: {'n_neighbors': 97, 'metric': 'euclidean', 'weights': 'distance'},\n",
       " mean: 0.85667, std: 0.01326, params: {'n_neighbors': 99, 'metric': 'euclidean', 'weights': 'uniform'},\n",
       " mean: 0.85792, std: 0.01255, params: {'n_neighbors': 99, 'metric': 'euclidean', 'weights': 'distance'},\n",
       " mean: 0.81292, std: 0.01435, params: {'n_neighbors': 1, 'metric': 'manhattan', 'weights': 'uniform'},\n",
       " mean: 0.81292, std: 0.01435, params: {'n_neighbors': 1, 'metric': 'manhattan', 'weights': 'distance'},\n",
       " mean: 0.84431, std: 0.01255, params: {'n_neighbors': 3, 'metric': 'manhattan', 'weights': 'uniform'},\n",
       " mean: 0.83847, std: 0.01477, params: {'n_neighbors': 3, 'metric': 'manhattan', 'weights': 'distance'},\n",
       " mean: 0.85208, std: 0.01015, params: {'n_neighbors': 5, 'metric': 'manhattan', 'weights': 'uniform'},\n",
       " mean: 0.84847, std: 0.01402, params: {'n_neighbors': 5, 'metric': 'manhattan', 'weights': 'distance'},\n",
       " mean: 0.85556, std: 0.01104, params: {'n_neighbors': 7, 'metric': 'manhattan', 'weights': 'uniform'},\n",
       " mean: 0.85708, std: 0.01430, params: {'n_neighbors': 7, 'metric': 'manhattan', 'weights': 'distance'},\n",
       " mean: 0.86028, std: 0.01308, params: {'n_neighbors': 9, 'metric': 'manhattan', 'weights': 'uniform'},\n",
       " mean: 0.85903, std: 0.01434, params: {'n_neighbors': 9, 'metric': 'manhattan', 'weights': 'distance'},\n",
       " mean: 0.86250, std: 0.01299, params: {'n_neighbors': 11, 'metric': 'manhattan', 'weights': 'uniform'},\n",
       " mean: 0.86028, std: 0.01348, params: {'n_neighbors': 11, 'metric': 'manhattan', 'weights': 'distance'},\n",
       " mean: 0.86083, std: 0.01141, params: {'n_neighbors': 13, 'metric': 'manhattan', 'weights': 'uniform'},\n",
       " mean: 0.86111, std: 0.01223, params: {'n_neighbors': 13, 'metric': 'manhattan', 'weights': 'distance'},\n",
       " mean: 0.86139, std: 0.01296, params: {'n_neighbors': 15, 'metric': 'manhattan', 'weights': 'uniform'},\n",
       " mean: 0.86222, std: 0.01286, params: {'n_neighbors': 15, 'metric': 'manhattan', 'weights': 'distance'},\n",
       " mean: 0.86194, std: 0.01383, params: {'n_neighbors': 17, 'metric': 'manhattan', 'weights': 'uniform'},\n",
       " mean: 0.86111, std: 0.01231, params: {'n_neighbors': 17, 'metric': 'manhattan', 'weights': 'distance'},\n",
       " mean: 0.86236, std: 0.01302, params: {'n_neighbors': 19, 'metric': 'manhattan', 'weights': 'uniform'},\n",
       " mean: 0.86417, std: 0.01193, params: {'n_neighbors': 19, 'metric': 'manhattan', 'weights': 'distance'},\n",
       " mean: 0.86194, std: 0.01253, params: {'n_neighbors': 21, 'metric': 'manhattan', 'weights': 'uniform'},\n",
       " mean: 0.86361, std: 0.01214, params: {'n_neighbors': 21, 'metric': 'manhattan', 'weights': 'distance'},\n",
       " mean: 0.86194, std: 0.01315, params: {'n_neighbors': 23, 'metric': 'manhattan', 'weights': 'uniform'},\n",
       " mean: 0.86264, std: 0.01132, params: {'n_neighbors': 23, 'metric': 'manhattan', 'weights': 'distance'},\n",
       " mean: 0.86083, std: 0.01365, params: {'n_neighbors': 25, 'metric': 'manhattan', 'weights': 'uniform'},\n",
       " mean: 0.86264, std: 0.01250, params: {'n_neighbors': 25, 'metric': 'manhattan', 'weights': 'distance'},\n",
       " mean: 0.86236, std: 0.01197, params: {'n_neighbors': 27, 'metric': 'manhattan', 'weights': 'uniform'},\n",
       " mean: 0.86194, std: 0.01118, params: {'n_neighbors': 27, 'metric': 'manhattan', 'weights': 'distance'},\n",
       " mean: 0.86056, std: 0.01231, params: {'n_neighbors': 29, 'metric': 'manhattan', 'weights': 'uniform'},\n",
       " mean: 0.86319, std: 0.01168, params: {'n_neighbors': 29, 'metric': 'manhattan', 'weights': 'distance'},\n",
       " mean: 0.86097, std: 0.01296, params: {'n_neighbors': 31, 'metric': 'manhattan', 'weights': 'uniform'},\n",
       " mean: 0.86236, std: 0.01214, params: {'n_neighbors': 31, 'metric': 'manhattan', 'weights': 'distance'},\n",
       " mean: 0.86083, std: 0.01350, params: {'n_neighbors': 33, 'metric': 'manhattan', 'weights': 'uniform'},\n",
       " mean: 0.86292, std: 0.01202, params: {'n_neighbors': 33, 'metric': 'manhattan', 'weights': 'distance'},\n",
       " mean: 0.86042, std: 0.01285, params: {'n_neighbors': 35, 'metric': 'manhattan', 'weights': 'uniform'},\n",
       " mean: 0.86333, std: 0.01279, params: {'n_neighbors': 35, 'metric': 'manhattan', 'weights': 'distance'},\n",
       " mean: 0.85931, std: 0.01301, params: {'n_neighbors': 37, 'metric': 'manhattan', 'weights': 'uniform'},\n",
       " mean: 0.86417, std: 0.01344, params: {'n_neighbors': 37, 'metric': 'manhattan', 'weights': 'distance'},\n",
       " mean: 0.85889, std: 0.01324, params: {'n_neighbors': 39, 'metric': 'manhattan', 'weights': 'uniform'},\n",
       " mean: 0.86417, std: 0.01401, params: {'n_neighbors': 39, 'metric': 'manhattan', 'weights': 'distance'},\n",
       " mean: 0.85847, std: 0.01263, params: {'n_neighbors': 41, 'metric': 'manhattan', 'weights': 'uniform'},\n",
       " mean: 0.86403, std: 0.01481, params: {'n_neighbors': 41, 'metric': 'manhattan', 'weights': 'distance'},\n",
       " mean: 0.85833, std: 0.01141, params: {'n_neighbors': 43, 'metric': 'manhattan', 'weights': 'uniform'},\n",
       " mean: 0.86458, std: 0.01448, params: {'n_neighbors': 43, 'metric': 'manhattan', 'weights': 'distance'},\n",
       " mean: 0.85778, std: 0.01154, params: {'n_neighbors': 45, 'metric': 'manhattan', 'weights': 'uniform'},\n",
       " mean: 0.86431, std: 0.01381, params: {'n_neighbors': 45, 'metric': 'manhattan', 'weights': 'distance'},\n",
       " mean: 0.85917, std: 0.01054, params: {'n_neighbors': 47, 'metric': 'manhattan', 'weights': 'uniform'},\n",
       " mean: 0.86375, std: 0.01349, params: {'n_neighbors': 47, 'metric': 'manhattan', 'weights': 'distance'},\n",
       " mean: 0.85806, std: 0.01086, params: {'n_neighbors': 49, 'metric': 'manhattan', 'weights': 'uniform'},\n",
       " mean: 0.86375, std: 0.01348, params: {'n_neighbors': 49, 'metric': 'manhattan', 'weights': 'distance'},\n",
       " mean: 0.85806, std: 0.01101, params: {'n_neighbors': 51, 'metric': 'manhattan', 'weights': 'uniform'},\n",
       " mean: 0.86403, std: 0.01372, params: {'n_neighbors': 51, 'metric': 'manhattan', 'weights': 'distance'},\n",
       " mean: 0.85736, std: 0.01130, params: {'n_neighbors': 53, 'metric': 'manhattan', 'weights': 'uniform'},\n",
       " mean: 0.86306, std: 0.01358, params: {'n_neighbors': 53, 'metric': 'manhattan', 'weights': 'distance'},\n",
       " mean: 0.85833, std: 0.01255, params: {'n_neighbors': 55, 'metric': 'manhattan', 'weights': 'uniform'},\n",
       " mean: 0.86333, std: 0.01307, params: {'n_neighbors': 55, 'metric': 'manhattan', 'weights': 'distance'},\n",
       " mean: 0.85847, std: 0.01217, params: {'n_neighbors': 57, 'metric': 'manhattan', 'weights': 'uniform'},\n",
       " mean: 0.86306, std: 0.01291, params: {'n_neighbors': 57, 'metric': 'manhattan', 'weights': 'distance'},\n",
       " mean: 0.85847, std: 0.01148, params: {'n_neighbors': 59, 'metric': 'manhattan', 'weights': 'uniform'},\n",
       " mean: 0.86236, std: 0.01311, params: {'n_neighbors': 59, 'metric': 'manhattan', 'weights': 'distance'},\n",
       " mean: 0.85903, std: 0.01261, params: {'n_neighbors': 61, 'metric': 'manhattan', 'weights': 'uniform'},\n",
       " mean: 0.86236, std: 0.01253, params: {'n_neighbors': 61, 'metric': 'manhattan', 'weights': 'distance'},\n",
       " mean: 0.85931, std: 0.01279, params: {'n_neighbors': 63, 'metric': 'manhattan', 'weights': 'uniform'},\n",
       " mean: 0.86278, std: 0.01256, params: {'n_neighbors': 63, 'metric': 'manhattan', 'weights': 'distance'},\n",
       " mean: 0.85986, std: 0.01267, params: {'n_neighbors': 65, 'metric': 'manhattan', 'weights': 'uniform'},\n",
       " mean: 0.86264, std: 0.01277, params: {'n_neighbors': 65, 'metric': 'manhattan', 'weights': 'distance'},\n",
       " mean: 0.86014, std: 0.01278, params: {'n_neighbors': 67, 'metric': 'manhattan', 'weights': 'uniform'},\n",
       " mean: 0.86292, std: 0.01277, params: {'n_neighbors': 67, 'metric': 'manhattan', 'weights': 'distance'},\n",
       " mean: 0.85972, std: 0.01247, params: {'n_neighbors': 69, 'metric': 'manhattan', 'weights': 'uniform'},\n",
       " mean: 0.86347, std: 0.01255, params: {'n_neighbors': 69, 'metric': 'manhattan', 'weights': 'distance'},\n",
       " mean: 0.85917, std: 0.01227, params: {'n_neighbors': 71, 'metric': 'manhattan', 'weights': 'uniform'},\n",
       " mean: 0.86319, std: 0.01234, params: {'n_neighbors': 71, 'metric': 'manhattan', 'weights': 'distance'},\n",
       " mean: 0.86014, std: 0.01237, params: {'n_neighbors': 73, 'metric': 'manhattan', 'weights': 'uniform'},\n",
       " mean: 0.86292, std: 0.01268, params: {'n_neighbors': 73, 'metric': 'manhattan', 'weights': 'distance'},\n",
       " mean: 0.86014, std: 0.01223, params: {'n_neighbors': 75, 'metric': 'manhattan', 'weights': 'uniform'},\n",
       " mean: 0.86250, std: 0.01224, params: {'n_neighbors': 75, 'metric': 'manhattan', 'weights': 'distance'},\n",
       " mean: 0.86000, std: 0.01138, params: {'n_neighbors': 77, 'metric': 'manhattan', 'weights': 'uniform'},\n",
       " mean: 0.86194, std: 0.01221, params: {'n_neighbors': 77, 'metric': 'manhattan', 'weights': 'distance'},\n",
       " mean: 0.86014, std: 0.01259, params: {'n_neighbors': 79, 'metric': 'manhattan', 'weights': 'uniform'},\n",
       " mean: 0.86208, std: 0.01303, params: {'n_neighbors': 79, 'metric': 'manhattan', 'weights': 'distance'},\n",
       " mean: 0.85986, std: 0.01254, params: {'n_neighbors': 81, 'metric': 'manhattan', 'weights': 'uniform'},\n",
       " mean: 0.86167, std: 0.01299, params: {'n_neighbors': 81, 'metric': 'manhattan', 'weights': 'distance'},\n",
       " mean: 0.85944, std: 0.01250, params: {'n_neighbors': 83, 'metric': 'manhattan', 'weights': 'uniform'},\n",
       " mean: 0.86167, std: 0.01301, params: {'n_neighbors': 83, 'metric': 'manhattan', 'weights': 'distance'},\n",
       " mean: 0.85986, std: 0.01235, params: {'n_neighbors': 85, 'metric': 'manhattan', 'weights': 'uniform'},\n",
       " mean: 0.86125, std: 0.01248, params: {'n_neighbors': 85, 'metric': 'manhattan', 'weights': 'distance'},\n",
       " mean: 0.85917, std: 0.01267, params: {'n_neighbors': 87, 'metric': 'manhattan', 'weights': 'uniform'},\n",
       " mean: 0.86083, std: 0.01308, params: {'n_neighbors': 87, 'metric': 'manhattan', 'weights': 'distance'},\n",
       " mean: 0.85972, std: 0.01204, params: {'n_neighbors': 89, 'metric': 'manhattan', 'weights': 'uniform'},\n",
       " mean: 0.86139, std: 0.01266, params: {'n_neighbors': 89, 'metric': 'manhattan', 'weights': 'distance'},\n",
       " mean: 0.85917, std: 0.01217, params: {'n_neighbors': 91, 'metric': 'manhattan', 'weights': 'uniform'},\n",
       " mean: 0.86111, std: 0.01284, params: {'n_neighbors': 91, 'metric': 'manhattan', 'weights': 'distance'},\n",
       " mean: 0.85944, std: 0.01299, params: {'n_neighbors': 93, 'metric': 'manhattan', 'weights': 'uniform'},\n",
       " mean: 0.86111, std: 0.01309, params: {'n_neighbors': 93, 'metric': 'manhattan', 'weights': 'distance'},\n",
       " mean: 0.85903, std: 0.01209, params: {'n_neighbors': 95, 'metric': 'manhattan', 'weights': 'uniform'},\n",
       " mean: 0.86083, std: 0.01333, params: {'n_neighbors': 95, 'metric': 'manhattan', 'weights': 'distance'},\n",
       " mean: 0.85944, std: 0.01162, params: {'n_neighbors': 97, 'metric': 'manhattan', 'weights': 'uniform'},\n",
       " mean: 0.86097, std: 0.01323, params: {'n_neighbors': 97, 'metric': 'manhattan', 'weights': 'distance'},\n",
       " mean: 0.85889, std: 0.01140, params: {'n_neighbors': 99, 'metric': 'manhattan', 'weights': 'uniform'},\n",
       " mean: 0.86097, std: 0.01320, params: {'n_neighbors': 99, 'metric': 'manhattan', 'weights': 'distance'},\n",
       " mean: 0.80847, std: 0.01122, params: {'n_neighbors': 1, 'metric': 'chebyshev', 'weights': 'uniform'},\n",
       " mean: 0.80847, std: 0.01122, params: {'n_neighbors': 1, 'metric': 'chebyshev', 'weights': 'distance'},\n",
       " mean: 0.84222, std: 0.01009, params: {'n_neighbors': 3, 'metric': 'chebyshev', 'weights': 'uniform'},\n",
       " mean: 0.83458, std: 0.00953, params: {'n_neighbors': 3, 'metric': 'chebyshev', 'weights': 'distance'},\n",
       " mean: 0.85097, std: 0.01009, params: {'n_neighbors': 5, 'metric': 'chebyshev', 'weights': 'uniform'},\n",
       " mean: 0.84347, std: 0.01074, params: {'n_neighbors': 5, 'metric': 'chebyshev', 'weights': 'distance'},\n",
       " mean: 0.85722, std: 0.01431, params: {'n_neighbors': 7, 'metric': 'chebyshev', 'weights': 'uniform'},\n",
       " mean: 0.85181, std: 0.01401, params: {'n_neighbors': 7, 'metric': 'chebyshev', 'weights': 'distance'},\n",
       " mean: 0.85847, std: 0.01357, params: {'n_neighbors': 9, 'metric': 'chebyshev', 'weights': 'uniform'},\n",
       " mean: 0.85347, std: 0.01545, params: {'n_neighbors': 9, 'metric': 'chebyshev', 'weights': 'distance'},\n",
       " mean: 0.86014, std: 0.01197, params: {'n_neighbors': 11, 'metric': 'chebyshev', 'weights': 'uniform'},\n",
       " mean: 0.85681, std: 0.01516, params: {'n_neighbors': 11, 'metric': 'chebyshev', 'weights': 'distance'},\n",
       " mean: 0.85931, std: 0.01359, params: {'n_neighbors': 13, 'metric': 'chebyshev', 'weights': 'uniform'},\n",
       " mean: 0.85778, std: 0.01691, params: {'n_neighbors': 13, 'metric': 'chebyshev', 'weights': 'distance'},\n",
       " mean: 0.86042, std: 0.01272, params: {'n_neighbors': 15, 'metric': 'chebyshev', 'weights': 'uniform'},\n",
       " mean: 0.85986, std: 0.01587, params: {'n_neighbors': 15, 'metric': 'chebyshev', 'weights': 'distance'},\n",
       " mean: 0.85972, std: 0.01213, params: {'n_neighbors': 17, 'metric': 'chebyshev', 'weights': 'uniform'},\n",
       " mean: 0.86000, std: 0.01578, params: {'n_neighbors': 17, 'metric': 'chebyshev', 'weights': 'distance'},\n",
       " mean: 0.86042, std: 0.01180, params: {'n_neighbors': 19, 'metric': 'chebyshev', 'weights': 'uniform'},\n",
       " mean: 0.86014, std: 0.01416, params: {'n_neighbors': 19, 'metric': 'chebyshev', 'weights': 'distance'},\n",
       " mean: 0.86139, std: 0.01168, params: {'n_neighbors': 21, 'metric': 'chebyshev', 'weights': 'uniform'},\n",
       " mean: 0.86125, std: 0.01428, params: {'n_neighbors': 21, 'metric': 'chebyshev', 'weights': 'distance'},\n",
       " mean: 0.86069, std: 0.01287, params: {'n_neighbors': 23, 'metric': 'chebyshev', 'weights': 'uniform'},\n",
       " mean: 0.86097, std: 0.01360, params: {'n_neighbors': 23, 'metric': 'chebyshev', 'weights': 'distance'},\n",
       " mean: 0.85917, std: 0.01204, params: {'n_neighbors': 25, 'metric': 'chebyshev', 'weights': 'uniform'},\n",
       " mean: 0.86194, std: 0.01306, params: {'n_neighbors': 25, 'metric': 'chebyshev', 'weights': 'distance'},\n",
       " mean: 0.85958, std: 0.01136, params: {'n_neighbors': 27, 'metric': 'chebyshev', 'weights': 'uniform'},\n",
       " mean: 0.86125, std: 0.01381, params: {'n_neighbors': 27, 'metric': 'chebyshev', 'weights': 'distance'},\n",
       " mean: 0.85847, std: 0.01169, params: {'n_neighbors': 29, 'metric': 'chebyshev', 'weights': 'uniform'},\n",
       " mean: 0.86194, std: 0.01301, params: {'n_neighbors': 29, 'metric': 'chebyshev', 'weights': 'distance'},\n",
       " mean: 0.85847, std: 0.01081, params: {'n_neighbors': 31, 'metric': 'chebyshev', 'weights': 'uniform'},\n",
       " mean: 0.86222, std: 0.01311, params: {'n_neighbors': 31, 'metric': 'chebyshev', 'weights': 'distance'},\n",
       " mean: 0.85764, std: 0.01210, params: {'n_neighbors': 33, 'metric': 'chebyshev', 'weights': 'uniform'},\n",
       " mean: 0.86139, std: 0.01157, params: {'n_neighbors': 33, 'metric': 'chebyshev', 'weights': 'distance'},\n",
       " mean: 0.85750, std: 0.01147, params: {'n_neighbors': 35, 'metric': 'chebyshev', 'weights': 'uniform'},\n",
       " mean: 0.86167, std: 0.01308, params: {'n_neighbors': 35, 'metric': 'chebyshev', 'weights': 'distance'},\n",
       " mean: 0.85778, std: 0.01240, params: {'n_neighbors': 37, 'metric': 'chebyshev', 'weights': 'uniform'},\n",
       " mean: 0.86250, std: 0.01326, params: {'n_neighbors': 37, 'metric': 'chebyshev', 'weights': 'distance'},\n",
       " mean: 0.85694, std: 0.01078, params: {'n_neighbors': 39, 'metric': 'chebyshev', 'weights': 'uniform'},\n",
       " mean: 0.86153, std: 0.01325, params: {'n_neighbors': 39, 'metric': 'chebyshev', 'weights': 'distance'},\n",
       " mean: 0.85667, std: 0.01075, params: {'n_neighbors': 41, 'metric': 'chebyshev', 'weights': 'uniform'},\n",
       " mean: 0.86181, std: 0.01313, params: {'n_neighbors': 41, 'metric': 'chebyshev', 'weights': 'distance'},\n",
       " mean: 0.85667, std: 0.01137, params: {'n_neighbors': 43, 'metric': 'chebyshev', 'weights': 'uniform'},\n",
       " mean: 0.86236, std: 0.01288, params: {'n_neighbors': 43, 'metric': 'chebyshev', 'weights': 'distance'},\n",
       " mean: 0.85625, std: 0.01086, params: {'n_neighbors': 45, 'metric': 'chebyshev', 'weights': 'uniform'},\n",
       " mean: 0.86250, std: 0.01238, params: {'n_neighbors': 45, 'metric': 'chebyshev', 'weights': 'distance'},\n",
       " mean: 0.85694, std: 0.01111, params: {'n_neighbors': 47, 'metric': 'chebyshev', 'weights': 'uniform'},\n",
       " mean: 0.86278, std: 0.01147, params: {'n_neighbors': 47, 'metric': 'chebyshev', 'weights': 'distance'},\n",
       " mean: 0.85694, std: 0.01099, params: {'n_neighbors': 49, 'metric': 'chebyshev', 'weights': 'uniform'},\n",
       " mean: 0.86361, std: 0.01231, params: {'n_neighbors': 49, 'metric': 'chebyshev', 'weights': 'distance'},\n",
       " mean: 0.85917, std: 0.01163, params: {'n_neighbors': 51, 'metric': 'chebyshev', 'weights': 'uniform'},\n",
       " mean: 0.86264, std: 0.01338, params: {'n_neighbors': 51, 'metric': 'chebyshev', 'weights': 'distance'},\n",
       " mean: 0.85944, std: 0.01096, params: {'n_neighbors': 53, 'metric': 'chebyshev', 'weights': 'uniform'},\n",
       " mean: 0.86278, std: 0.01248, params: {'n_neighbors': 53, 'metric': 'chebyshev', 'weights': 'distance'},\n",
       " mean: 0.85917, std: 0.01080, params: {'n_neighbors': 55, 'metric': 'chebyshev', 'weights': 'uniform'},\n",
       " mean: 0.86181, std: 0.01326, params: {'n_neighbors': 55, 'metric': 'chebyshev', 'weights': 'distance'},\n",
       " mean: 0.85861, std: 0.01224, params: {'n_neighbors': 57, 'metric': 'chebyshev', 'weights': 'uniform'},\n",
       " mean: 0.86069, std: 0.01285, params: {'n_neighbors': 57, 'metric': 'chebyshev', 'weights': 'distance'},\n",
       " mean: 0.85889, std: 0.01165, params: {'n_neighbors': 59, 'metric': 'chebyshev', 'weights': 'uniform'},\n",
       " mean: 0.86000, std: 0.01229, params: {'n_neighbors': 59, 'metric': 'chebyshev', 'weights': 'distance'},\n",
       " mean: 0.86000, std: 0.01033, params: {'n_neighbors': 61, 'metric': 'chebyshev', 'weights': 'uniform'},\n",
       " mean: 0.86167, std: 0.01293, params: {'n_neighbors': 61, 'metric': 'chebyshev', 'weights': 'distance'},\n",
       " mean: 0.86069, std: 0.01207, params: {'n_neighbors': 63, 'metric': 'chebyshev', 'weights': 'uniform'},\n",
       " mean: 0.86181, std: 0.01324, params: {'n_neighbors': 63, 'metric': 'chebyshev', 'weights': 'distance'},\n",
       " mean: 0.86069, std: 0.01185, params: {'n_neighbors': 65, 'metric': 'chebyshev', 'weights': 'uniform'},\n",
       " mean: 0.86153, std: 0.01300, params: {'n_neighbors': 65, 'metric': 'chebyshev', 'weights': 'distance'},\n",
       " mean: 0.85972, std: 0.01230, params: {'n_neighbors': 67, 'metric': 'chebyshev', 'weights': 'uniform'},\n",
       " mean: 0.86167, std: 0.01281, params: {'n_neighbors': 67, 'metric': 'chebyshev', 'weights': 'distance'},\n",
       " mean: 0.85931, std: 0.01197, params: {'n_neighbors': 69, 'metric': 'chebyshev', 'weights': 'uniform'},\n",
       " mean: 0.86181, std: 0.01297, params: {'n_neighbors': 69, 'metric': 'chebyshev', 'weights': 'distance'},\n",
       " mean: 0.86000, std: 0.01236, params: {'n_neighbors': 71, 'metric': 'chebyshev', 'weights': 'uniform'},\n",
       " mean: 0.86194, std: 0.01391, params: {'n_neighbors': 71, 'metric': 'chebyshev', 'weights': 'distance'},\n",
       " mean: 0.85917, std: 0.01268, params: {'n_neighbors': 73, 'metric': 'chebyshev', 'weights': 'uniform'},\n",
       " mean: 0.86125, std: 0.01324, params: {'n_neighbors': 73, 'metric': 'chebyshev', 'weights': 'distance'},\n",
       " mean: 0.85931, std: 0.01228, params: {'n_neighbors': 75, 'metric': 'chebyshev', 'weights': 'uniform'},\n",
       " mean: 0.86069, std: 0.01344, params: {'n_neighbors': 75, 'metric': 'chebyshev', 'weights': 'distance'},\n",
       " mean: 0.85847, std: 0.01260, params: {'n_neighbors': 77, 'metric': 'chebyshev', 'weights': 'uniform'},\n",
       " mean: 0.86083, std: 0.01256, params: {'n_neighbors': 77, 'metric': 'chebyshev', 'weights': 'distance'},\n",
       " mean: 0.85931, std: 0.01225, params: {'n_neighbors': 79, 'metric': 'chebyshev', 'weights': 'uniform'},\n",
       " mean: 0.86000, std: 0.01278, params: {'n_neighbors': 79, 'metric': 'chebyshev', 'weights': 'distance'},\n",
       " mean: 0.85833, std: 0.01227, params: {'n_neighbors': 81, 'metric': 'chebyshev', 'weights': 'uniform'},\n",
       " mean: 0.86056, std: 0.01275, params: {'n_neighbors': 81, 'metric': 'chebyshev', 'weights': 'distance'},\n",
       " mean: 0.85833, std: 0.01259, params: {'n_neighbors': 83, 'metric': 'chebyshev', 'weights': 'uniform'},\n",
       " mean: 0.86069, std: 0.01283, params: {'n_neighbors': 83, 'metric': 'chebyshev', 'weights': 'distance'},\n",
       " mean: 0.85764, std: 0.01156, params: {'n_neighbors': 85, 'metric': 'chebyshev', 'weights': 'uniform'},\n",
       " mean: 0.86111, std: 0.01241, params: {'n_neighbors': 85, 'metric': 'chebyshev', 'weights': 'distance'},\n",
       " mean: 0.85722, std: 0.01341, params: {'n_neighbors': 87, 'metric': 'chebyshev', 'weights': 'uniform'},\n",
       " mean: 0.86125, std: 0.01356, params: {'n_neighbors': 87, 'metric': 'chebyshev', 'weights': 'distance'},\n",
       " mean: 0.85722, std: 0.01350, params: {'n_neighbors': 89, 'metric': 'chebyshev', 'weights': 'uniform'},\n",
       " mean: 0.86181, std: 0.01337, params: {'n_neighbors': 89, 'metric': 'chebyshev', 'weights': 'distance'},\n",
       " mean: 0.85667, std: 0.01336, params: {'n_neighbors': 91, 'metric': 'chebyshev', 'weights': 'uniform'},\n",
       " mean: 0.86194, std: 0.01283, params: {'n_neighbors': 91, 'metric': 'chebyshev', 'weights': 'distance'},\n",
       " mean: 0.85667, std: 0.01323, params: {'n_neighbors': 93, 'metric': 'chebyshev', 'weights': 'uniform'},\n",
       " mean: 0.86083, std: 0.01265, params: {'n_neighbors': 93, 'metric': 'chebyshev', 'weights': 'distance'},\n",
       " mean: 0.85667, std: 0.01367, params: {'n_neighbors': 95, 'metric': 'chebyshev', 'weights': 'uniform'},\n",
       " mean: 0.86097, std: 0.01203, params: {'n_neighbors': 95, 'metric': 'chebyshev', 'weights': 'distance'},\n",
       " mean: 0.85417, std: 0.01296, params: {'n_neighbors': 97, 'metric': 'chebyshev', 'weights': 'uniform'},\n",
       " mean: 0.86111, std: 0.01172, params: {'n_neighbors': 97, 'metric': 'chebyshev', 'weights': 'distance'},\n",
       " mean: 0.85486, std: 0.01222, params: {'n_neighbors': 99, 'metric': 'chebyshev', 'weights': 'uniform'},\n",
       " mean: 0.86000, std: 0.01213, params: {'n_neighbors': 99, 'metric': 'chebyshev', 'weights': 'distance'}]"
      ]
     },
     "execution_count": 14,
     "metadata": {},
     "output_type": "execute_result"
    }
   ],
   "source": [
    "clf.grid_scores_"
   ]
  },
  {
   "cell_type": "markdown",
   "metadata": {},
   "source": [
    "## Feature selection and transformation "
   ]
  },
  {
   "cell_type": "markdown",
   "metadata": {},
   "source": [
    "### Normalization / standardization"
   ]
  },
  {
   "cell_type": "code",
   "execution_count": 15,
   "metadata": {
    "collapsed": true
   },
   "outputs": [],
   "source": [
    "from sklearn import preprocessing\n",
    "X_scaled = preprocessing.scale(X)"
   ]
  },
  {
   "cell_type": "code",
   "execution_count": 16,
   "metadata": {
    "collapsed": false
   },
   "outputs": [
    {
     "data": {
      "text/plain": [
       "<matplotlib.axes._subplots.AxesSubplot at 0x10809d150>"
      ]
     },
     "execution_count": 16,
     "metadata": {},
     "output_type": "execute_result"
    },
    {
     "data": {
      "image/png": "[encoded data removed]",
      "text/plain": [
       "<matplotlib.figure.Figure at 0x10809de10>"
      ]
     },
     "metadata": {},
     "output_type": "display_data"
    }
   ],
   "source": [
    "sns.distplot(X_scaled[:,0], bins=10)"
   ]
  },
  {
   "cell_type": "code",
   "execution_count": 17,
   "metadata": {
    "collapsed": false
   },
   "outputs": [
    {
     "data": {
      "text/plain": [
       "<matplotlib.axes._subplots.AxesSubplot at 0x107dfcf90>"
      ]
     },
     "execution_count": 17,
     "metadata": {},
     "output_type": "execute_result"
    },
    {
     "data": {
      "image/png": "[encoded data removed]",
      "text/plain": [
       "<matplotlib.figure.Figure at 0x10809ded0>"
      ]
     },
     "metadata": {},
     "output_type": "display_data"
    }
   ],
   "source": [
    "sns.distplot(X.age, bins=10)"
   ]
  },
  {
   "cell_type": "code",
   "execution_count": 18,
   "metadata": {
    "collapsed": false
   },
   "outputs": [
    {
     "name": "stdout",
     "output_type": "stream",
     "text": [
      "[ 0.77805523  0.65825654  2.33696017  0.35374939 -0.44294937 -0.76550176\n",
      " -0.93376582 -1.13074553 -0.91764111 -0.42786806]\n",
      "\n",
      "age               0.778012\n",
      "duration          0.658220\n",
      "campaign          2.336830\n",
      "pdays             0.353730\n",
      "previous         -0.442925\n",
      "emp.var.rate     -0.765459\n",
      "cons.price.idx   -0.933714\n",
      "cons.conf.idx    -1.130683\n",
      "euribor3m        -0.917590\n",
      "nr.employed      -0.427844\n",
      "dtype: float64\n"
     ]
    }
   ],
   "source": [
    "print X_scaled[0]\n",
    "print\n",
    "print ((X.iloc[0] - X.mean()) / X.std())"
   ]
  },
  {
   "cell_type": "code",
   "execution_count": 19,
   "metadata": {
    "collapsed": false
   },
   "outputs": [
    {
     "data": {
      "text/plain": [
       "<matplotlib.axes._subplots.AxesSubplot at 0x1077347d0>"
      ]
     },
     "execution_count": 19,
     "metadata": {},
     "output_type": "execute_result"
    },
    {
     "data": {
      "image/png": "[encoded data removed]",
      "text/plain": [
       "<matplotlib.figure.Figure at 0x108003d10>"
      ]
     },
     "metadata": {},
     "output_type": "display_data"
    }
   ],
   "source": [
    "sns.distplot(X.duration, bins=10)"
   ]
  },
  {
   "cell_type": "code",
   "execution_count": 20,
   "metadata": {
    "collapsed": false
   },
   "outputs": [
    {
     "data": {
      "text/plain": [
       "<matplotlib.axes._subplots.AxesSubplot at 0x107e5b450>"
      ]
     },
     "execution_count": 20,
     "metadata": {},
     "output_type": "execute_result"
    },
    {
     "data": {
      "image/png": "[encoded data removed]",
      "text/plain": [
       "<matplotlib.figure.Figure at 0x1080e1390>"
      ]
     },
     "metadata": {},
     "output_type": "display_data"
    }
   ],
   "source": [
    "sns.distplot(np.log(X.duration), bins=10)"
   ]
  },
  {
   "cell_type": "markdown",
   "metadata": {},
   "source": [
    "### Feature Selection\n",
    "\n",
    "#### Removing features with low variance"
   ]
  },
  {
   "cell_type": "code",
   "execution_count": 21,
   "metadata": {
    "collapsed": false
   },
   "outputs": [
    {
     "data": {
      "text/plain": [
       "age                  147.453844\n",
       "duration          128147.352353\n",
       "campaign               5.861196\n",
       "pdays              97500.066603\n",
       "previous               0.483899\n",
       "emp.var.rate           2.979204\n",
       "cons.price.idx         0.401524\n",
       "cons.conf.idx         28.392509\n",
       "euribor3m              3.573198\n",
       "nr.employed         7563.254240\n",
       "dtype: float64"
      ]
     },
     "execution_count": 21,
     "metadata": {},
     "output_type": "execute_result"
    }
   ],
   "source": [
    "X.var()"
   ]
  },
  {
   "cell_type": "code",
   "execution_count": 22,
   "metadata": {
    "collapsed": false
   },
   "outputs": [],
   "source": [
    "from sklearn.feature_selection import VarianceThreshold\n",
    "\n",
    "sel = VarianceThreshold(threshold=(1))\n",
    "opt_X = sel.fit_transform(X)"
   ]
  },
  {
   "cell_type": "code",
   "execution_count": 23,
   "metadata": {
    "collapsed": false
   },
   "outputs": [
    {
     "data": {
      "text/plain": [
       "(9000, 8)"
      ]
     },
     "execution_count": 23,
     "metadata": {},
     "output_type": "execute_result"
    }
   ],
   "source": [
    "opt_X = pd.DataFrame(opt_X)\n",
    "opt_X.shape"
   ]
  },
  {
   "cell_type": "code",
   "execution_count": 24,
   "metadata": {
    "collapsed": false
   },
   "outputs": [
    {
     "data": {
      "text/html": [
       "<div>\n",
       "<table border=\"1\" class=\"dataframe\">\n",
       "  <thead>\n",
       "    <tr style=\"text-align: right;\">\n",
       "      <th></th>\n",
       "      <th>0</th>\n",
       "      <th>1</th>\n",
       "      <th>2</th>\n",
       "      <th>3</th>\n",
       "      <th>4</th>\n",
       "      <th>5</th>\n",
       "      <th>6</th>\n",
       "      <th>7</th>\n",
       "    </tr>\n",
       "  </thead>\n",
       "  <tbody>\n",
       "    <tr>\n",
       "      <th>0</th>\n",
       "      <td>50.0</td>\n",
       "      <td>623.0</td>\n",
       "      <td>8.0</td>\n",
       "      <td>999.0</td>\n",
       "      <td>-1.8</td>\n",
       "      <td>-46.2</td>\n",
       "      <td>1.250</td>\n",
       "      <td>5099.1</td>\n",
       "    </tr>\n",
       "    <tr>\n",
       "      <th>1</th>\n",
       "      <td>34.0</td>\n",
       "      <td>230.0</td>\n",
       "      <td>1.0</td>\n",
       "      <td>999.0</td>\n",
       "      <td>1.1</td>\n",
       "      <td>-36.4</td>\n",
       "      <td>4.859</td>\n",
       "      <td>5191.0</td>\n",
       "    </tr>\n",
       "    <tr>\n",
       "      <th>2</th>\n",
       "      <td>49.0</td>\n",
       "      <td>282.0</td>\n",
       "      <td>1.0</td>\n",
       "      <td>999.0</td>\n",
       "      <td>1.1</td>\n",
       "      <td>-36.4</td>\n",
       "      <td>4.860</td>\n",
       "      <td>5191.0</td>\n",
       "    </tr>\n",
       "    <tr>\n",
       "      <th>3</th>\n",
       "      <td>58.0</td>\n",
       "      <td>901.0</td>\n",
       "      <td>1.0</td>\n",
       "      <td>999.0</td>\n",
       "      <td>-1.8</td>\n",
       "      <td>-46.2</td>\n",
       "      <td>1.250</td>\n",
       "      <td>5099.1</td>\n",
       "    </tr>\n",
       "    <tr>\n",
       "      <th>4</th>\n",
       "      <td>42.0</td>\n",
       "      <td>172.0</td>\n",
       "      <td>2.0</td>\n",
       "      <td>999.0</td>\n",
       "      <td>-0.1</td>\n",
       "      <td>-42.0</td>\n",
       "      <td>4.076</td>\n",
       "      <td>5195.8</td>\n",
       "    </tr>\n",
       "  </tbody>\n",
       "</table>\n",
       "</div>"
      ],
      "text/plain": [
       "      0      1    2      3    4     5      6       7\n",
       "0  50.0  623.0  8.0  999.0 -1.8 -46.2  1.250  5099.1\n",
       "1  34.0  230.0  1.0  999.0  1.1 -36.4  4.859  5191.0\n",
       "2  49.0  282.0  1.0  999.0  1.1 -36.4  4.860  5191.0\n",
       "3  58.0  901.0  1.0  999.0 -1.8 -46.2  1.250  5099.1\n",
       "4  42.0  172.0  2.0  999.0 -0.1 -42.0  4.076  5195.8"
      ]
     },
     "execution_count": 24,
     "metadata": {},
     "output_type": "execute_result"
    }
   ],
   "source": [
    "opt_X.head()"
   ]
  },
  {
   "cell_type": "markdown",
   "metadata": {},
   "source": [
    "### Univariate feature selection\n",
    "\n",
    "Selecting the best features based on univariate statistical tests.\n",
    "* For regression: f_regression\n",
    "* For classification: chi2 (non-negative) or f_classif\n"
   ]
  },
  {
   "cell_type": "code",
   "execution_count": 25,
   "metadata": {
    "collapsed": false
   },
   "outputs": [
    {
     "data": {
      "text/html": [
       "<div>\n",
       "<table border=\"1\" class=\"dataframe\">\n",
       "  <thead>\n",
       "    <tr style=\"text-align: right;\">\n",
       "      <th></th>\n",
       "      <th>age</th>\n",
       "      <th>duration</th>\n",
       "      <th>campaign</th>\n",
       "      <th>pdays</th>\n",
       "      <th>previous</th>\n",
       "      <th>emp.var.rate</th>\n",
       "      <th>cons.price.idx</th>\n",
       "      <th>cons.conf.idx</th>\n",
       "      <th>euribor3m</th>\n",
       "      <th>nr.employed</th>\n",
       "    </tr>\n",
       "  </thead>\n",
       "  <tbody>\n",
       "    <tr>\n",
       "      <th>35409</th>\n",
       "      <td>50</td>\n",
       "      <td>623</td>\n",
       "      <td>8</td>\n",
       "      <td>999</td>\n",
       "      <td>0</td>\n",
       "      <td>-1.8</td>\n",
       "      <td>92.893</td>\n",
       "      <td>-46.2</td>\n",
       "      <td>1.250</td>\n",
       "      <td>5099.1</td>\n",
       "    </tr>\n",
       "    <tr>\n",
       "      <th>2715</th>\n",
       "      <td>34</td>\n",
       "      <td>230</td>\n",
       "      <td>1</td>\n",
       "      <td>999</td>\n",
       "      <td>0</td>\n",
       "      <td>1.1</td>\n",
       "      <td>93.994</td>\n",
       "      <td>-36.4</td>\n",
       "      <td>4.859</td>\n",
       "      <td>5191.0</td>\n",
       "    </tr>\n",
       "    <tr>\n",
       "      <th>3334</th>\n",
       "      <td>49</td>\n",
       "      <td>282</td>\n",
       "      <td>1</td>\n",
       "      <td>999</td>\n",
       "      <td>0</td>\n",
       "      <td>1.1</td>\n",
       "      <td>93.994</td>\n",
       "      <td>-36.4</td>\n",
       "      <td>4.860</td>\n",
       "      <td>5191.0</td>\n",
       "    </tr>\n",
       "    <tr>\n",
       "      <th>35008</th>\n",
       "      <td>58</td>\n",
       "      <td>901</td>\n",
       "      <td>1</td>\n",
       "      <td>999</td>\n",
       "      <td>0</td>\n",
       "      <td>-1.8</td>\n",
       "      <td>92.893</td>\n",
       "      <td>-46.2</td>\n",
       "      <td>1.250</td>\n",
       "      <td>5099.1</td>\n",
       "    </tr>\n",
       "    <tr>\n",
       "      <th>26925</th>\n",
       "      <td>42</td>\n",
       "      <td>172</td>\n",
       "      <td>2</td>\n",
       "      <td>999</td>\n",
       "      <td>0</td>\n",
       "      <td>-0.1</td>\n",
       "      <td>93.200</td>\n",
       "      <td>-42.0</td>\n",
       "      <td>4.076</td>\n",
       "      <td>5195.8</td>\n",
       "    </tr>\n",
       "  </tbody>\n",
       "</table>\n",
       "</div>"
      ],
      "text/plain": [
       "       age  duration  campaign  pdays  previous  emp.var.rate  cons.price.idx  \\\n",
       "35409   50       623         8    999         0          -1.8          92.893   \n",
       "2715    34       230         1    999         0           1.1          93.994   \n",
       "3334    49       282         1    999         0           1.1          93.994   \n",
       "35008   58       901         1    999         0          -1.8          92.893   \n",
       "26925   42       172         2    999         0          -0.1          93.200   \n",
       "\n",
       "       cons.conf.idx  euribor3m  nr.employed  \n",
       "35409          -46.2      1.250       5099.1  \n",
       "2715           -36.4      4.859       5191.0  \n",
       "3334           -36.4      4.860       5191.0  \n",
       "35008          -46.2      1.250       5099.1  \n",
       "26925          -42.0      4.076       5195.8  "
      ]
     },
     "execution_count": 25,
     "metadata": {},
     "output_type": "execute_result"
    }
   ],
   "source": [
    "X.head()"
   ]
  },
  {
   "cell_type": "code",
   "execution_count": 26,
   "metadata": {
    "collapsed": false
   },
   "outputs": [
    {
     "data": {
      "text/plain": [
       "(9000, 4)"
      ]
     },
     "execution_count": 26,
     "metadata": {},
     "output_type": "execute_result"
    }
   ],
   "source": [
    "from sklearn.feature_selection import SelectKBest\n",
    "\n",
    "X_new = SelectKBest(k=4).fit_transform(X, y)\n",
    "X_new.shape"
   ]
  },
  {
   "cell_type": "code",
   "execution_count": 27,
   "metadata": {
    "collapsed": false
   },
   "outputs": [
    {
     "data": {
      "text/html": [
       "<div>\n",
       "<table border=\"1\" class=\"dataframe\">\n",
       "  <thead>\n",
       "    <tr style=\"text-align: right;\">\n",
       "      <th></th>\n",
       "      <th>0</th>\n",
       "      <th>1</th>\n",
       "      <th>2</th>\n",
       "      <th>3</th>\n",
       "    </tr>\n",
       "  </thead>\n",
       "  <tbody>\n",
       "    <tr>\n",
       "      <th>0</th>\n",
       "      <td>623.0</td>\n",
       "      <td>-1.8</td>\n",
       "      <td>1.250</td>\n",
       "      <td>5099.1</td>\n",
       "    </tr>\n",
       "    <tr>\n",
       "      <th>1</th>\n",
       "      <td>230.0</td>\n",
       "      <td>1.1</td>\n",
       "      <td>4.859</td>\n",
       "      <td>5191.0</td>\n",
       "    </tr>\n",
       "    <tr>\n",
       "      <th>2</th>\n",
       "      <td>282.0</td>\n",
       "      <td>1.1</td>\n",
       "      <td>4.860</td>\n",
       "      <td>5191.0</td>\n",
       "    </tr>\n",
       "    <tr>\n",
       "      <th>3</th>\n",
       "      <td>901.0</td>\n",
       "      <td>-1.8</td>\n",
       "      <td>1.250</td>\n",
       "      <td>5099.1</td>\n",
       "    </tr>\n",
       "    <tr>\n",
       "      <th>4</th>\n",
       "      <td>172.0</td>\n",
       "      <td>-0.1</td>\n",
       "      <td>4.076</td>\n",
       "      <td>5195.8</td>\n",
       "    </tr>\n",
       "  </tbody>\n",
       "</table>\n",
       "</div>"
      ],
      "text/plain": [
       "       0    1      2       3\n",
       "0  623.0 -1.8  1.250  5099.1\n",
       "1  230.0  1.1  4.859  5191.0\n",
       "2  282.0  1.1  4.860  5191.0\n",
       "3  901.0 -1.8  1.250  5099.1\n",
       "4  172.0 -0.1  4.076  5195.8"
      ]
     },
     "execution_count": 27,
     "metadata": {},
     "output_type": "execute_result"
    }
   ],
   "source": [
    "X_new = pd.DataFrame(X_new)\n",
    "X_new.head()"
   ]
  },
  {
   "cell_type": "code",
   "execution_count": 28,
   "metadata": {
    "collapsed": false,
    "scrolled": true
   },
   "outputs": [
    {
     "data": {
      "image/png": "[encoded data removed]",
      "text/plain": [
       "<matplotlib.figure.Figure at 0x1080e1450>"
      ]
     },
     "metadata": {},
     "output_type": "display_data"
    }
   ],
   "source": [
    "feature_num = np.arange(1,10)\n",
    "knn = KNeighborsClassifier(n_neighbors=29, metric='manhattan', weights='distance')\n",
    "scores = list()\n",
    "\n",
    "for num in feature_num:\n",
    "    X_new = SelectKBest(k=num).fit_transform(X, y)\n",
    "    X_train, X_test, y_train, y_test = train_test_split(X_new, y, test_size=0.2, random_state=0)\n",
    "    scores.append(cross_val_score(knn, X_train, y_train, cv = 10).mean())\n",
    "    \n",
    "plt.figure(figsize=(8,6))\n",
    "plt.plot(feature_num, scores, c=\"black\")\n",
    "plt.xlabel('Number of Features')\n",
    "plt.ylabel('Classification Score')\n",
    "plt.show()"
   ]
  },
  {
   "cell_type": "markdown",
   "metadata": {},
   "source": [
    "## Feature engineering\n",
    "\n",
    "* aggregation: Min/Max as 2 features we could substract to get interval\n",
    "* decomposation: dates and times, just use hour of the day"
   ]
  },
  {
   "cell_type": "markdown",
   "metadata": {},
   "source": [
    "## Final Classification Model"
   ]
  },
  {
   "cell_type": "code",
   "execution_count": 29,
   "metadata": {
    "collapsed": true
   },
   "outputs": [],
   "source": [
    "data = pd.read_csv(\"../files/bank-data.csv\", sep=\";\")\n",
    "data.drop(data.ix[:,1:10], axis=1, inplace=True)\n",
    "data.drop(\"poutcome\", axis=1, inplace=True)\n",
    "n = 4500\n",
    "sample_yes = data.ix[data.y == \"yes\"].sample(n=n, replace=False)\n",
    "sample_no = data.ix[data.y == \"no\"].sample(n=n, replace=False)\n",
    "df = pd.concat([sample_yes, sample_no])\n",
    "df = df.sample(frac=1)       # Shuffle the whole set\n",
    "X = df.drop('y', axis=1)  \n",
    "y = df.ix[:, 'y']\n",
    "y.replace(\"yes\", 1, inplace=True)\n",
    "y.replace(\"no\", 0, inplace=True)"
   ]
  },
  {
   "cell_type": "code",
   "execution_count": 30,
   "metadata": {
    "collapsed": false
   },
   "outputs": [],
   "source": [
    "X_best = X\n",
    "X_best['duration'] = X_best['duration'].apply(lambda x: np.log(x))\n",
    "X_best = preprocessing.scale(X_best)"
   ]
  },
  {
   "cell_type": "code",
   "execution_count": 31,
   "metadata": {
    "collapsed": false
   },
   "outputs": [
    {
     "data": {
      "text/plain": [
       "(9000, 5)"
      ]
     },
     "execution_count": 31,
     "metadata": {},
     "output_type": "execute_result"
    }
   ],
   "source": [
    "X_best = SelectKBest(k=5).fit_transform(X_best, y)\n",
    "X_best.shape"
   ]
  },
  {
   "cell_type": "code",
   "execution_count": 32,
   "metadata": {
    "collapsed": true
   },
   "outputs": [],
   "source": [
    "X_train, X_test, y_train, y_test = train_test_split(X_best, y, test_size=0.2, random_state=0)"
   ]
  },
  {
   "cell_type": "code",
   "execution_count": 33,
   "metadata": {
    "collapsed": false
   },
   "outputs": [
    {
     "data": {
      "text/plain": [
       "GridSearchCV(cv=10, error_score='raise',\n",
       "       estimator=KNeighborsClassifier(algorithm='auto', leaf_size=30, metric='minkowski',\n",
       "           metric_params=None, n_jobs=1, n_neighbors=5, p=2,\n",
       "           weights='uniform'),\n",
       "       fit_params={}, iid=True, n_jobs=1,\n",
       "       param_grid={'n_neighbors': array([ 1,  3,  5,  7,  9, 11, 13, 15, 17, 19, 21, 23, 25, 27, 29, 31, 33,\n",
       "       35, 37, 39, 41, 43, 45, 47, 49, 51, 53, 55, 57, 59, 61, 63, 65, 67,\n",
       "       69, 71, 73, 75, 77, 79, 81, 83, 85, 87, 89, 91, 93, 95, 97, 99]), 'metric': ['euclidean', 'manhattan', 'chebyshev'], 'weights': ['uniform', 'distance']},\n",
       "       pre_dispatch='2*n_jobs', refit=True, scoring=None, verbose=0)"
      ]
     },
     "execution_count": 33,
     "metadata": {},
     "output_type": "execute_result"
    }
   ],
   "source": [
    "k = np.arange(1, 100, 2)\n",
    "parameters = {'n_neighbors': k, 'weights': weights, 'metric': dists}\n",
    "knn = KNeighborsClassifier()\n",
    "clf = GridSearchCV(knn, parameters, cv=10)\n",
    "clf.fit(X_train, y_train)"
   ]
  },
  {
   "cell_type": "code",
   "execution_count": 34,
   "metadata": {
    "collapsed": false
   },
   "outputs": [
    {
     "name": "stdout",
     "output_type": "stream",
     "text": [
      "0.883055555556\n",
      "{'n_neighbors': 11, 'metric': 'manhattan', 'weights': 'uniform'}\n"
     ]
    }
   ],
   "source": [
    "print clf.best_score_\n",
    "print clf.best_params_"
   ]
  }
 ],
 "metadata": {
  "kernelspec": {
   "display_name": "Python 2",
   "language": "python",
   "name": "python2"
  },
  "language_info": {
   "codemirror_mode": {
    "name": "ipython",
    "version": 2
   },
   "file_extension": ".py",
   "mimetype": "text/x-python",
   "name": "python",
   "nbconvert_exporter": "python",
   "pygments_lexer": "ipython2",
   "version": "2.7.11"
  }
 },
 "nbformat": 4,
 "nbformat_minor": 0
}
