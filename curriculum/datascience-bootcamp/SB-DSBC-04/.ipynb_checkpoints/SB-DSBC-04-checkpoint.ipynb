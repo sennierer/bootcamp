{
 "cells": [
  {
   "cell_type": "markdown",
   "metadata": {},
   "source": [
    "# Fine-Tuning Models\n",
    "\n",
    "© 2016 STREAMBRIGHT DATA LLC, ALL RIGHTS RESERVED\n",
    "\n",
    "Introduction of the the bias-variance trade-off. Improving your model with fine-tuning the model parameters and selecting the best variables.\n",
    "* Bias - variance trade-off\n",
    "* Overfitting - underfitting\n",
    "* K fold cross validation\n",
    "* Parameter optimization\n",
    "* Feature engineering, feature selection, GRID, Feature importance"
   ]
  },
  {
   "cell_type": "markdown",
   "metadata": {},
   "source": [
    "## The Bias-Variance Trade-Off\n",
    "\n",
    "Main idea: you want to create models that are as **good at prediction** as possible but that are still **applicable to new data**.\n",
    "* Overfitting\n",
    "* Underfititng\n",
    "\n",
    "*Underfitting, overfitting and generalization*: Together, this bundle of concepts related to the balance between underfitting and overfitting is referred to as the **bias-variance trade-off**."
   ]
  },
  {
   "cell_type": "markdown",
   "metadata": {},
   "source": [
    "![bias_variance](../files/0401_bias_variance.png \"Bias-Variance\")"
   ]
  },
  {
   "cell_type": "markdown",
   "metadata": {},
   "source": [
    "### Underfitting and Overfitting models"
   ]
  },
  {
   "cell_type": "markdown",
   "metadata": {},
   "source": [
    "![bias_variance_table](../files/0402_bias_variance_table.png \"Bias-Variance Table\")"
   ]
  },
  {
   "cell_type": "markdown",
   "metadata": {},
   "source": [
    "### Demonstrating the concept of over and underfitting with kNN\n",
    "\n",
    "Fit a model with various `k`-params to training set:"
   ]
  },
  {
   "cell_type": "markdown",
   "metadata": {},
   "source": [
    "![bias_variance_table](../files/0403_training_data_only_99_1.png \"Bias-Variance Table\")"
   ]
  },
  {
   "cell_type": "markdown",
   "metadata": {},
   "source": [
    "Now compare the fit to training and test set:"
   ]
  },
  {
   "cell_type": "markdown",
   "metadata": {},
   "source": [
    "![bias_variance_table](../files/0404_training_data_and_test_99_1.png \"Bias-Variance Table\")"
   ]
  },
  {
   "cell_type": "markdown",
   "metadata": {},
   "source": [
    "After examining a very hig and low `k` params let's see one in the middle (50):"
   ]
  },
  {
   "cell_type": "markdown",
   "metadata": {},
   "source": [
    "![bias_variance_table](../files/0405_training_data_and_test_99_50_1.png \"Bias-Variance Table\")"
   ]
  },
  {
   "cell_type": "markdown",
   "metadata": {},
   "source": [
    "Now, as a summary:"
   ]
  },
  {
   "cell_type": "markdown",
   "metadata": {},
   "source": [
    "![bias_variance_table](../files/0406_over_underfitting.png \"Bias-Variance Table\")"
   ]
  },
  {
   "cell_type": "markdown",
   "metadata": {},
   "source": [
    "## Avoiding Under or Overfitting: Cross-Validation (CV)"
   ]
  },
  {
   "cell_type": "markdown",
   "metadata": {},
   "source": [
    "* Training set: train the model\n",
    "* Valudation set: tune the parameters, choose the right model\n",
    "* Test set: test the final model with final parameters\n",
    "\n",
    "Alternative: K-fold cross-validation"
   ]
  },
  {
   "cell_type": "markdown",
   "metadata": {},
   "source": [
    "![CV](../files/0407_cv.png \"Cross-Validation\")"
   ]
  },
  {
   "cell_type": "markdown",
   "metadata": {},
   "source": [
    "### Loading our data and packages"
   ]
  },
  {
   "cell_type": "code",
   "execution_count": 1,
   "metadata": {
    "collapsed": true
   },
   "outputs": [],
   "source": [
    "import pandas as pd\n",
    "import numpy as np\n",
    "import matplotlib\n",
    "%matplotlib inline\n",
    "import matplotlib.pyplot as plt\n",
    "import matplotlib.mlab as mlab\n",
    "import seaborn as sns"
   ]
  },
  {
   "cell_type": "code",
   "execution_count": 2,
   "metadata": {
    "collapsed": false
   },
   "outputs": [],
   "source": [
    "data = pd.read_csv(\"../files/bank.csv\")\n",
    "data.drop(data.ix[:,1:10], axis=1, inplace=True)\n",
    "data.drop(\"poutcome\", axis=1, inplace=True)\n",
    "n = 4500\n",
    "sample_yes = data.ix[data.y == \"yes\"].sample(n=n, replace=False, random_state=0)\n",
    "sample_no = data.ix[data.y == \"no\"].sample(n=n, replace=False, random_state=0)\n",
    "df = pd.concat([sample_yes, sample_no])\n",
    "df = df.sample(frac=1, random_state=0)\n",
    "X = df.drop('y', axis=1)  \n",
    "y = df.ix[:, 'y']\n",
    "y.replace(\"yes\", 1, inplace=True)\n",
    "y.replace(\"no\", 0, inplace=True)"
   ]
  },
  {
   "cell_type": "markdown",
   "metadata": {},
   "source": [
    "### Testing Cross-Validation on our Bank Data"
   ]
  },
  {
   "cell_type": "code",
   "execution_count": 3,
   "metadata": {
    "collapsed": false
   },
   "outputs": [
    {
     "data": {
      "text/plain": [
       "((7200, 10), (7200,), (1800, 10), (1800,))"
      ]
     },
     "execution_count": 3,
     "metadata": {},
     "output_type": "execute_result"
    }
   ],
   "source": [
    "from sklearn.cross_validation import train_test_split\n",
    "\n",
    "X_train, X_test, y_train, y_test = train_test_split(X, y, test_size=0.2, random_state=0)\n",
    "X_train.shape, y_train.shape, X_test.shape, y_test.shape"
   ]
  },
  {
   "cell_type": "code",
   "execution_count": 4,
   "metadata": {
    "collapsed": true
   },
   "outputs": [],
   "source": [
    "from sklearn.cross_validation import cross_val_score\n",
    "from sklearn.neighbors import KNeighborsClassifier\n",
    "from sklearn import metrics"
   ]
  },
  {
   "cell_type": "code",
   "execution_count": 5,
   "metadata": {
    "collapsed": false
   },
   "outputs": [
    {
     "name": "stdout",
     "output_type": "stream",
     "text": [
      "Scores: \n",
      "[ 0.84743412  0.83911234  0.84722222  0.87083333  0.85694444  0.8375\n",
      "  0.85277778  0.8375      0.8511822   0.84700974]\n",
      "\n",
      "Average of CV Scores: 0.85\n",
      "Std of CV Scores: 0.00\n"
     ]
    }
   ],
   "source": [
    "knn = KNeighborsClassifier(n_neighbors=5)\n",
    "knn.fit(X_train, y_train)\n",
    "\n",
    "scores = cross_val_score(knn, X_train, y_train, cv = 10)\n",
    "print \"Scores: \"\n",
    "print scores\n",
    "print\n",
    "print \"Average of CV Scores: %.2f\" % scores.mean()\n",
    "print \"Std of CV Scores: %.2f\" % scores.var()"
   ]
  },
  {
   "cell_type": "markdown",
   "metadata": {},
   "source": [
    "## Parameter Tuning\n",
    "\n",
    "To increase the prediction score we can tune the different parameters of our model.\n",
    "\n",
    "### The `k` parameter\n",
    "\n",
    "First we demonstrate over and underfitting with our bank marketing dataset."
   ]
  },
  {
   "cell_type": "code",
   "execution_count": 6,
   "metadata": {
    "collapsed": false
   },
   "outputs": [],
   "source": [
    "# the range of number of neighbors you want to test\n",
    "n_neighbors = np.arange(1, 100, 2)\n",
    " \n",
    "# here you store the models for each dataset used\n",
    "train_scores = list()\n",
    "test_scores = list()\n",
    "cv_scores = list()\n",
    " \n",
    "# loop through possible n_neighbors and try them out\n",
    "for n in n_neighbors:\n",
    "    knn.n_neighbors = n\n",
    "    knn.fit(X_train, y_train)\n",
    "    train_scores.append(1 - metrics.accuracy_score(y_train, knn.predict(X_train)))  # this will over-estimate the accuracy\n",
    "    test_scores.append(1 - metrics.accuracy_score(y_test, knn.predict(X_test)))\n",
    "    cv_scores.append(1 - cross_val_score(knn, X_train, y_train, cv = 10).mean())  # you take the mean of the CV scores"
   ]
  },
  {
   "cell_type": "code",
   "execution_count": 7,
   "metadata": {
    "collapsed": false
   },
   "outputs": [
    {
     "data": {
      "image/png": "[encoded data removed]",
      "text/plain": [
       "<matplotlib.figure.Figure at 0x60763d0>"
      ]
     },
     "metadata": {},
     "output_type": "display_data"
    }
   ],
   "source": [
    "# let's plot the error you get with different values of k\n",
    "plt.figure(figsize=(10,7.5))\n",
    "plt.plot(n_neighbors, train_scores, c=\"black\", label=\"Training Set\")\n",
    "plt.plot(n_neighbors, test_scores, c=\"black\", linestyle=\"--\", label=\"Test Set\")\n",
    "plt.plot(n_neighbors, cv_scores, c=\"green\", label=\"Cross-Validation\")\n",
    "plt.xlabel('Number of K Nearest Neighbors')\n",
    "plt.ylabel('Classification Error')\n",
    "plt.gca().invert_xaxis()\n",
    "plt.legend(loc = \"lower left\")\n",
    "plt.show()"
   ]
  },
  {
   "cell_type": "code",
   "execution_count": 8,
   "metadata": {
    "collapsed": false
   },
   "outputs": [
    {
     "name": "stdout",
     "output_type": "stream",
     "text": [
      "The best values of k are:\n",
      "1 according to the Training Set\n",
      "33 according to the Test Set and\n",
      "37 according to Cross-Validation\n"
     ]
    }
   ],
   "source": [
    "# what do these different datasets think is the best value of k?\n",
    "print(\n",
    "    'The best values of k are:\\n' \\\n",
    "    '{} according to the Training Set\\n' \\\n",
    "    '{} according to the Test Set and\\n' \\\n",
    "    '{} according to Cross-Validation'.format(\n",
    "        min(n_neighbors[train_scores == min(train_scores)]),\n",
    "        min(n_neighbors[test_scores == min(test_scores)]),\n",
    "        min(n_neighbors[cv_scores == min(cv_scores)])        \n",
    "    )\n",
    ")    "
   ]
  },
  {
   "cell_type": "markdown",
   "metadata": {},
   "source": [
    "### The `distance` parameter"
   ]
  },
  {
   "cell_type": "code",
   "execution_count": 9,
   "metadata": {
    "collapsed": false
   },
   "outputs": [
    {
     "name": "stdout",
     "output_type": "stream",
     "text": [
      "Average of CV Scores: \n",
      "[0.85791347307340049, 0.86333187772995967, 0.85763627105333495]\n",
      "\n",
      "Std of CV Scores: \n",
      "[0.011806415419775777, 0.0091129373618110774, 0.0095855715690651416]\n"
     ]
    }
   ],
   "source": [
    "param = ['euclidean', 'manhattan', 'chebyshev']\n",
    "score_means = list()\n",
    "score_stds = list()\n",
    "\n",
    "for p in param:\n",
    "    knn = KNeighborsClassifier(n_neighbors= 13, metric=p)\n",
    "    knn.fit(X_train, y_train)\n",
    "    score_means.append(cross_val_score(knn, X_train, y_train, cv = 10).mean())\n",
    "    score_stds.append(cross_val_score(knn, X_train, y_train, cv = 10).std())\n",
    "    \n",
    "print \"Average of CV Scores: \"\n",
    "print score_means\n",
    "print\n",
    "print \"Std of CV Scores: \"\n",
    "print score_stds"
   ]
  },
  {
   "cell_type": "markdown",
   "metadata": {},
   "source": [
    "### The `weights` parameter"
   ]
  },
  {
   "cell_type": "code",
   "execution_count": 10,
   "metadata": {
    "collapsed": false
   },
   "outputs": [
    {
     "name": "stdout",
     "output_type": "stream",
     "text": [
      "Average of CV Scores: \n",
      "[0.85791347307340049, 0.85972269670659074]\n",
      "\n",
      "Std of CV Scores: \n",
      "[0.011806415419775777, 0.0092688734962326838]\n"
     ]
    }
   ],
   "source": [
    "param = ['uniform', 'distance']\n",
    "score_means = list()\n",
    "score_stds = list()\n",
    "\n",
    "for p in param:\n",
    "    knn = KNeighborsClassifier(n_neighbors= 13, weights=p)\n",
    "    knn.fit(X_train, y_train)\n",
    "    score_means.append(cross_val_score(knn, X_train, y_train, cv = 10).mean())\n",
    "    score_stds.append(cross_val_score(knn, X_train, y_train, cv = 10).std())\n",
    "    \n",
    "print \"Average of CV Scores: \"\n",
    "print score_means\n",
    "print\n",
    "print \"Std of CV Scores: \"\n",
    "print score_stds"
   ]
  },
  {
   "cell_type": "markdown",
   "metadata": {},
   "source": [
    "### Complex param tuning"
   ]
  },
  {
   "cell_type": "code",
   "execution_count": 11,
   "metadata": {
    "collapsed": false
   },
   "outputs": [
    {
     "data": {
      "text/html": [
       "<div>\n",
       "<table border=\"1\" class=\"dataframe\">\n",
       "  <thead>\n",
       "    <tr style=\"text-align: right;\">\n",
       "      <th></th>\n",
       "      <th>uniform</th>\n",
       "      <th>distance</th>\n",
       "    </tr>\n",
       "  </thead>\n",
       "  <tbody>\n",
       "    <tr>\n",
       "      <th>euclidean</th>\n",
       "      <td>0.857913</td>\n",
       "      <td>0.859723</td>\n",
       "    </tr>\n",
       "    <tr>\n",
       "      <th>manhattan</th>\n",
       "      <td>0.863332</td>\n",
       "      <td>0.863193</td>\n",
       "    </tr>\n",
       "    <tr>\n",
       "      <th>chebyshev</th>\n",
       "      <td>0.857636</td>\n",
       "      <td>0.858471</td>\n",
       "    </tr>\n",
       "  </tbody>\n",
       "</table>\n",
       "</div>"
      ],
      "text/plain": [
       "            uniform  distance\n",
       "euclidean  0.857913  0.859723\n",
       "manhattan  0.863332  0.863193\n",
       "chebyshev  0.857636  0.858471"
      ]
     },
     "execution_count": 11,
     "metadata": {},
     "output_type": "execute_result"
    }
   ],
   "source": [
    "dists = ['euclidean', 'manhattan', 'chebyshev']\n",
    "weights = ['uniform', 'distance']\n",
    "param_tuning = pd.DataFrame(0, index=dists, columns=weights)\n",
    "\n",
    "for w in weights:\n",
    "    for d in dists:\n",
    "        knn = KNeighborsClassifier(n_neighbors= 13, weights=w, metric=d)\n",
    "        knn.fit(X_train, y_train)\n",
    "        param_tuning.loc[d,w] = cross_val_score(knn, X_train, y_train, cv = 10).mean()\n",
    "\n",
    "param_tuning"
   ]
  },
  {
   "cell_type": "code",
   "execution_count": 12,
   "metadata": {
    "collapsed": false
   },
   "outputs": [
    {
     "data": {
      "text/html": [
       "<div>\n",
       "<table border=\"1\" class=\"dataframe\">\n",
       "  <thead>\n",
       "    <tr style=\"text-align: right;\">\n",
       "      <th></th>\n",
       "      <th>uniform</th>\n",
       "      <th>distance</th>\n",
       "    </tr>\n",
       "  </thead>\n",
       "  <tbody>\n",
       "    <tr>\n",
       "      <th>euclidean</th>\n",
       "      <td>NaN</td>\n",
       "      <td>NaN</td>\n",
       "    </tr>\n",
       "    <tr>\n",
       "      <th>manhattan</th>\n",
       "      <td>NaN</td>\n",
       "      <td>NaN</td>\n",
       "    </tr>\n",
       "    <tr>\n",
       "      <th>chebyshev</th>\n",
       "      <td>0.857636</td>\n",
       "      <td>NaN</td>\n",
       "    </tr>\n",
       "  </tbody>\n",
       "</table>\n",
       "</div>"
      ],
      "text/plain": [
       "            uniform  distance\n",
       "euclidean       NaN       NaN\n",
       "manhattan       NaN       NaN\n",
       "chebyshev  0.857636       NaN"
      ]
     },
     "execution_count": 12,
     "metadata": {},
     "output_type": "execute_result"
    }
   ],
   "source": [
    "param_tuning[param_tuning == param_tuning.min().min()]"
   ]
  },
  {
   "cell_type": "markdown",
   "metadata": {},
   "source": [
    "### GridSearchCV\n",
    "\n",
    "For lopoing through on all the parameters and combinations easily."
   ]
  },
  {
   "cell_type": "code",
   "execution_count": 13,
   "metadata": {
    "collapsed": false
   },
   "outputs": [
    {
     "data": {
      "text/plain": [
       "{'metric': 'manhattan', 'n_neighbors': 19, 'weights': 'distance'}"
      ]
     },
     "execution_count": 13,
     "metadata": {},
     "output_type": "execute_result"
    }
   ],
   "source": [
    "from sklearn.grid_search import GridSearchCV\n",
    "\n",
    "k = np.arange(1, 100, 2)\n",
    "parameters = {'n_neighbors': k, 'weights': weights, 'metric': dists}\n",
    "knn = KNeighborsClassifier()\n",
    "clf = GridSearchCV(knn, parameters, cv=10)\n",
    "clf.fit(X_train, y_train)\n",
    "\n",
    "clf.best_score_\n",
    "clf.best_params_"
   ]
  },
  {
   "cell_type": "code",
   "execution_count": 14,
   "metadata": {
    "collapsed": false
   },
   "outputs": [
    {
     "data": {
      "text/plain": [
       "[mean: 0.81792, std: 0.00905, params: {'n_neighbors': 1, 'metric': 'euclidean', 'weights': 'uniform'},\n",
       " mean: 0.81792, std: 0.00905, params: {'n_neighbors': 1, 'metric': 'euclidean', 'weights': 'distance'},\n",
       " mean: 0.84681, std: 0.00996, params: {'n_neighbors': 3, 'metric': 'euclidean', 'weights': 'uniform'},\n",
       " mean: 0.84153, std: 0.01045, params: {'n_neighbors': 3, 'metric': 'euclidean', 'weights': 'distance'},\n",
       " mean: 0.84875, std: 0.00964, params: {'n_neighbors': 5, 'metric': 'euclidean', 'weights': 'uniform'},\n",
       " mean: 0.84542, std: 0.00874, params: {'n_neighbors': 5, 'metric': 'euclidean', 'weights': 'distance'},\n",
       " mean: 0.85361, std: 0.01051, params: {'n_neighbors': 7, 'metric': 'euclidean', 'weights': 'uniform'},\n",
       " mean: 0.85111, std: 0.00924, params: {'n_neighbors': 7, 'metric': 'euclidean', 'weights': 'distance'},\n",
       " mean: 0.85694, std: 0.00921, params: {'n_neighbors': 9, 'metric': 'euclidean', 'weights': 'uniform'},\n",
       " mean: 0.85708, std: 0.00742, params: {'n_neighbors': 9, 'metric': 'euclidean', 'weights': 'distance'},\n",
       " mean: 0.85958, std: 0.00971, params: {'n_neighbors': 11, 'metric': 'euclidean', 'weights': 'uniform'},\n",
       " mean: 0.85931, std: 0.00861, params: {'n_neighbors': 11, 'metric': 'euclidean', 'weights': 'distance'},\n",
       " mean: 0.85792, std: 0.01181, params: {'n_neighbors': 13, 'metric': 'euclidean', 'weights': 'uniform'},\n",
       " mean: 0.85972, std: 0.00927, params: {'n_neighbors': 13, 'metric': 'euclidean', 'weights': 'distance'},\n",
       " mean: 0.86042, std: 0.01056, params: {'n_neighbors': 15, 'metric': 'euclidean', 'weights': 'uniform'}]"
      ]
     },
     "execution_count": 14,
     "metadata": {},
     "output_type": "execute_result"
    }
   ],
   "source": [
    "clf.grid_scores_[:15]"
   ]
  },
  {
   "cell_type": "markdown",
   "metadata": {},
   "source": [
    "## Feature selection and engineering\n",
    "\n",
    "We can tune our model with transforming our features or go back to the drawing table and creating / selecting new features.\n",
    "\n",
    "* feature transformation (scaling, log)\n",
    "* feature selection\n",
    "* feature engineering"
   ]
  },
  {
   "cell_type": "markdown",
   "metadata": {},
   "source": [
    "### Feature transformation\n",
    "\n",
    "#### Feature scaling\n",
    "\n",
    "Rescaling\n",
    "\n",
    "![rescaling](../files/0408_rescaling.svg \"Rescaling\")\n",
    "\n",
    "Standardization\n",
    "\n",
    "![standardization](../files/0409_standardization.svg \"Standardization\")"
   ]
  },
  {
   "cell_type": "code",
   "execution_count": 15,
   "metadata": {
    "collapsed": false
   },
   "outputs": [],
   "source": [
    "from sklearn import preprocessing\n",
    "X_rescaled = preprocessing.minmax_scale(X)\n",
    "X_stand = preprocessing.scale(X)"
   ]
  },
  {
   "cell_type": "markdown",
   "metadata": {},
   "source": [
    "Print the histogram of original `age` feature."
   ]
  },
  {
   "cell_type": "code",
   "execution_count": 16,
   "metadata": {
    "collapsed": false
   },
   "outputs": [
    {
     "data": {
      "text/plain": [
       "<matplotlib.axes.AxesSubplot at 0x60ccb50>"
      ]
     },
     "execution_count": 16,
     "metadata": {},
     "output_type": "execute_result"
    },
    {
     "data": {
      "image/png": "[encoded data removed]",
      "text/plain": [
       "<matplotlib.figure.Figure at 0x6076590>"
      ]
     },
     "metadata": {},
     "output_type": "display_data"
    }
   ],
   "source": [
    "sns.distplot(X.age, bins=10)"
   ]
  },
  {
   "cell_type": "markdown",
   "metadata": {},
   "source": [
    "Print the min-max scaled `age` feature's histogram"
   ]
  },
  {
   "cell_type": "code",
   "execution_count": 17,
   "metadata": {
    "collapsed": false
   },
   "outputs": [
    {
     "data": {
      "text/plain": [
       "<matplotlib.axes.AxesSubplot at 0x64dd490>"
      ]
     },
     "execution_count": 17,
     "metadata": {},
     "output_type": "execute_result"
    },
    {
     "data": {
      "image/png": "[encoded data removed]",
      "text/plain": [
       "<matplotlib.figure.Figure at 0x64cffd0>"
      ]
     },
     "metadata": {},
     "output_type": "display_data"
    }
   ],
   "source": [
    "sns.distplot(X_rescaled[:,0], bins=10)"
   ]
  },
  {
   "cell_type": "markdown",
   "metadata": {},
   "source": [
    "And finally lets see the histogram of the standardized feature."
   ]
  },
  {
   "cell_type": "code",
   "execution_count": 18,
   "metadata": {
    "collapsed": false
   },
   "outputs": [
    {
     "data": {
      "text/plain": [
       "<matplotlib.axes.AxesSubplot at 0x63b9550>"
      ]
     },
     "execution_count": 18,
     "metadata": {},
     "output_type": "execute_result"
    },
    {
     "data": {
      "image/png": "[encoded data removed]",
      "text/plain": [
       "<matplotlib.figure.Figure at 0x63a5050>"
      ]
     },
     "metadata": {},
     "output_type": "display_data"
    }
   ],
   "source": [
    "sns.distplot(X_stand[:,0], bins=10)"
   ]
  },
  {
   "cell_type": "markdown",
   "metadata": {},
   "source": [
    "Manual checking of standardization."
   ]
  },
  {
   "cell_type": "code",
   "execution_count": 19,
   "metadata": {
    "collapsed": false
   },
   "outputs": [
    {
     "name": "stdout",
     "output_type": "stream",
     "text": [
      "[ 1.48511168  2.56702625 -0.58811201  0.35533784 -0.44666486 -0.75755017\n",
      "  0.42275922  1.04207734 -1.22821583 -1.45298382]\n",
      "\n",
      "age               1.485029\n",
      "duration          2.566884\n",
      "campaign         -0.588079\n",
      "pdays             0.355318\n",
      "previous         -0.446640\n",
      "emp.var.rate     -0.757508\n",
      "cons.price.idx    0.422736\n",
      "cons.conf.idx     1.042019\n",
      "euribor3m        -1.228148\n",
      "nr.employed      -1.452903\n",
      "dtype: float64\n"
     ]
    }
   ],
   "source": [
    "print X_stand[0]\n",
    "print\n",
    "print ((X.iloc[0] - X.mean()) / X.std())"
   ]
  },
  {
   "cell_type": "markdown",
   "metadata": {},
   "source": [
    "#### Log transformation"
   ]
  },
  {
   "cell_type": "markdown",
   "metadata": {},
   "source": [
    "Log-transforming a feature could be a good idea when we have a skewed distribution. Transforming it will make it look more 'normal'."
   ]
  },
  {
   "cell_type": "code",
   "execution_count": 20,
   "metadata": {
    "collapsed": false
   },
   "outputs": [
    {
     "data": {
      "text/plain": [
       "<matplotlib.axes.AxesSubplot at 0x654dfd0>"
      ]
     },
     "execution_count": 20,
     "metadata": {},
     "output_type": "execute_result"
    },
    {
     "data": {
      "image/png": "[encoded data removed]",
      "text/plain": [
       "<matplotlib.figure.Figure at 0x6548890>"
      ]
     },
     "metadata": {},
     "output_type": "display_data"
    }
   ],
   "source": [
    "sns.distplot(X.duration, bins=10)"
   ]
  },
  {
   "cell_type": "markdown",
   "metadata": {},
   "source": [
    "Log transform the feature (only the observations greater than 0 - we only have 0 with zero which is probably an error)."
   ]
  },
  {
   "cell_type": "code",
   "execution_count": 21,
   "metadata": {
    "collapsed": false
   },
   "outputs": [
    {
     "data": {
      "text/plain": [
       "<matplotlib.axes.AxesSubplot at 0x640f090>"
      ]
     },
     "execution_count": 21,
     "metadata": {},
     "output_type": "execute_result"
    },
    {
     "data": {
      "image/png": "[encoded data removed]",
      "text/plain": [
       "<matplotlib.figure.Figure at 0x6561090>"
      ]
     },
     "metadata": {},
     "output_type": "display_data"
    }
   ],
   "source": [
    "sns.distplot(np.log(X.ix[(X.duration > 0),'duration']), bins=10)"
   ]
  },
  {
   "cell_type": "markdown",
   "metadata": {},
   "source": [
    "Much more close to a normal distribution (bell shaped curve)."
   ]
  },
  {
   "cell_type": "markdown",
   "metadata": {},
   "source": [
    "### Feature Selection\n",
    "\n",
    "#### Removing features with low variance"
   ]
  },
  {
   "cell_type": "code",
   "execution_count": 22,
   "metadata": {
    "collapsed": false
   },
   "outputs": [
    {
     "data": {
      "text/plain": [
       "age                  141.694375\n",
       "duration          129081.633874\n",
       "campaign               5.290659\n",
       "pdays              98176.201614\n",
       "previous               0.492849\n",
       "emp.var.rate           2.966769\n",
       "cons.price.idx         0.401145\n",
       "cons.conf.idx         28.672340\n",
       "euribor3m              3.578016\n",
       "nr.employed         7591.495329\n",
       "dtype: float64"
      ]
     },
     "execution_count": 22,
     "metadata": {},
     "output_type": "execute_result"
    }
   ],
   "source": [
    "X.var()"
   ]
  },
  {
   "cell_type": "code",
   "execution_count": 23,
   "metadata": {
    "collapsed": false
   },
   "outputs": [],
   "source": [
    "from sklearn.feature_selection import VarianceThreshold\n",
    "\n",
    "selected = VarianceThreshold(threshold=(1))\n",
    "X_new = selected.fit_transform(X)"
   ]
  },
  {
   "cell_type": "code",
   "execution_count": 24,
   "metadata": {
    "collapsed": false
   },
   "outputs": [
    {
     "data": {
      "text/plain": [
       "(9000, 8)"
      ]
     },
     "execution_count": 24,
     "metadata": {},
     "output_type": "execute_result"
    }
   ],
   "source": [
    "X_new = pd.DataFrame(X_new)\n",
    "X_new.shape"
   ]
  },
  {
   "cell_type": "code",
   "execution_count": 25,
   "metadata": {
    "collapsed": false
   },
   "outputs": [
    {
     "data": {
      "text/plain": [
       "0       141.694375\n",
       "1    129081.633874\n",
       "2         5.290659\n",
       "3     98176.201614\n",
       "4         2.966769\n",
       "5        28.672340\n",
       "6         3.578016\n",
       "7      7591.495329\n",
       "dtype: float64"
      ]
     },
     "execution_count": 25,
     "metadata": {},
     "output_type": "execute_result"
    }
   ],
   "source": [
    "X_new.var()"
   ]
  },
  {
   "cell_type": "markdown",
   "metadata": {},
   "source": [
    "### Univariate feature selection\n",
    "\n",
    "Selecting the best features based on univariate statistical tests.\n",
    "* For regression: f_regression\n",
    "* For classification: chi2 (non-negative) or f_classif\n"
   ]
  },
  {
   "cell_type": "code",
   "execution_count": 26,
   "metadata": {
    "collapsed": false
   },
   "outputs": [
    {
     "data": {
      "text/html": [
       "<div>\n",
       "<table border=\"1\" class=\"dataframe\">\n",
       "  <thead>\n",
       "    <tr style=\"text-align: right;\">\n",
       "      <th></th>\n",
       "      <th>age</th>\n",
       "      <th>duration</th>\n",
       "      <th>campaign</th>\n",
       "      <th>pdays</th>\n",
       "      <th>previous</th>\n",
       "      <th>emp.var.rate</th>\n",
       "      <th>cons.price.idx</th>\n",
       "      <th>cons.conf.idx</th>\n",
       "      <th>euribor3m</th>\n",
       "      <th>nr.employed</th>\n",
       "    </tr>\n",
       "  </thead>\n",
       "  <tbody>\n",
       "    <tr>\n",
       "      <th>39412</th>\n",
       "      <td>58</td>\n",
       "      <td>1307</td>\n",
       "      <td>1</td>\n",
       "      <td>999</td>\n",
       "      <td>0</td>\n",
       "      <td>-1.8</td>\n",
       "      <td>93.749</td>\n",
       "      <td>-34.6</td>\n",
       "      <td>0.639</td>\n",
       "      <td>5008.7</td>\n",
       "    </tr>\n",
       "    <tr>\n",
       "      <th>38570</th>\n",
       "      <td>34</td>\n",
       "      <td>136</td>\n",
       "      <td>1</td>\n",
       "      <td>999</td>\n",
       "      <td>1</td>\n",
       "      <td>-3.4</td>\n",
       "      <td>92.431</td>\n",
       "      <td>-26.9</td>\n",
       "      <td>0.722</td>\n",
       "      <td>5017.5</td>\n",
       "    </tr>\n",
       "    <tr>\n",
       "      <th>23729</th>\n",
       "      <td>45</td>\n",
       "      <td>52</td>\n",
       "      <td>5</td>\n",
       "      <td>999</td>\n",
       "      <td>0</td>\n",
       "      <td>1.4</td>\n",
       "      <td>93.444</td>\n",
       "      <td>-36.1</td>\n",
       "      <td>4.962</td>\n",
       "      <td>5228.1</td>\n",
       "    </tr>\n",
       "    <tr>\n",
       "      <th>40111</th>\n",
       "      <td>27</td>\n",
       "      <td>200</td>\n",
       "      <td>6</td>\n",
       "      <td>999</td>\n",
       "      <td>0</td>\n",
       "      <td>-1.7</td>\n",
       "      <td>94.215</td>\n",
       "      <td>-40.3</td>\n",
       "      <td>0.827</td>\n",
       "      <td>4991.6</td>\n",
       "    </tr>\n",
       "    <tr>\n",
       "      <th>36062</th>\n",
       "      <td>22</td>\n",
       "      <td>131</td>\n",
       "      <td>2</td>\n",
       "      <td>999</td>\n",
       "      <td>0</td>\n",
       "      <td>-1.8</td>\n",
       "      <td>92.893</td>\n",
       "      <td>-46.2</td>\n",
       "      <td>1.266</td>\n",
       "      <td>5099.1</td>\n",
       "    </tr>\n",
       "  </tbody>\n",
       "</table>\n",
       "</div>"
      ],
      "text/plain": [
       "       age  duration  campaign  pdays  previous  emp.var.rate  cons.price.idx  \\\n",
       "39412   58      1307         1    999         0          -1.8          93.749   \n",
       "38570   34       136         1    999         1          -3.4          92.431   \n",
       "23729   45        52         5    999         0           1.4          93.444   \n",
       "40111   27       200         6    999         0          -1.7          94.215   \n",
       "36062   22       131         2    999         0          -1.8          92.893   \n",
       "\n",
       "       cons.conf.idx  euribor3m  nr.employed  \n",
       "39412          -34.6      0.639       5008.7  \n",
       "38570          -26.9      0.722       5017.5  \n",
       "23729          -36.1      4.962       5228.1  \n",
       "40111          -40.3      0.827       4991.6  \n",
       "36062          -46.2      1.266       5099.1  "
      ]
     },
     "execution_count": 26,
     "metadata": {},
     "output_type": "execute_result"
    }
   ],
   "source": [
    "X.head()"
   ]
  },
  {
   "cell_type": "code",
   "execution_count": 27,
   "metadata": {
    "collapsed": false
   },
   "outputs": [
    {
     "name": "stdout",
     "output_type": "stream",
     "text": [
      "Index([u'duration', u'emp.var.rate', u'euribor3m', u'nr.employed'], dtype='object')\n"
     ]
    }
   ],
   "source": [
    "from sklearn.feature_selection import SelectKBest\n",
    "\n",
    "selected = SelectKBest(k=4)\n",
    "selected.fit(X, y)\n",
    "print X.columns[selected.get_support()]\n",
    "X_new = selected.fit_transform(X, y)"
   ]
  },
  {
   "cell_type": "code",
   "execution_count": 28,
   "metadata": {
    "collapsed": false
   },
   "outputs": [
    {
     "data": {
      "text/plain": [
       "array([[  1.30700000e+03,  -1.80000000e+00,   6.39000000e-01,\n",
       "          5.00870000e+03],\n",
       "       [  1.36000000e+02,  -3.40000000e+00,   7.22000000e-01,\n",
       "          5.01750000e+03],\n",
       "       [  5.20000000e+01,   1.40000000e+00,   4.96200000e+00,\n",
       "          5.22810000e+03]])"
      ]
     },
     "execution_count": 28,
     "metadata": {},
     "output_type": "execute_result"
    }
   ],
   "source": [
    "X_new[:3]"
   ]
  },
  {
   "cell_type": "markdown",
   "metadata": {},
   "source": [
    "### Finding the optimal number of features"
   ]
  },
  {
   "cell_type": "code",
   "execution_count": 29,
   "metadata": {
    "collapsed": false,
    "scrolled": true
   },
   "outputs": [
    {
     "data": {
      "image/png": "[encoded data removed]",
      "text/plain": [
       "<matplotlib.figure.Figure at 0x5a53d90>"
      ]
     },
     "metadata": {},
     "output_type": "display_data"
    }
   ],
   "source": [
    "feature_num = np.arange(1,10)\n",
    "knn = KNeighborsClassifier(n_neighbors=19, metric='manhattan', weights='distance')\n",
    "scores = list()\n",
    "\n",
    "for num in feature_num:\n",
    "    X_new = SelectKBest(k=num).fit_transform(X, y)\n",
    "    X_train, X_test, y_train, y_test = train_test_split(X_new, y, test_size=0.2, random_state=0)\n",
    "    scores.append(cross_val_score(knn, X_train, y_train, cv = 10).mean())\n",
    "    \n",
    "plt.figure(figsize=(8,6))\n",
    "plt.plot(feature_num, scores, c=\"black\")\n",
    "plt.xlabel('Number of Features')\n",
    "plt.ylabel('Classification Score')\n",
    "plt.show()"
   ]
  },
  {
   "cell_type": "markdown",
   "metadata": {},
   "source": [
    "## Feature engineering\n",
    "\n",
    "* aggregation: Min/Max as 2 features we could substract to get interval\n",
    "* decomposation: dates and times, just use hour of the day"
   ]
  },
  {
   "cell_type": "markdown",
   "metadata": {},
   "source": [
    "## Final Classification Model"
   ]
  },
  {
   "cell_type": "code",
   "execution_count": 30,
   "metadata": {
    "collapsed": false
   },
   "outputs": [],
   "source": [
    "data = pd.read_csv(\"../files/bank.csv\")\n",
    "data.drop(data.ix[:,1:10], axis=1, inplace=True)\n",
    "data.drop(\"poutcome\", axis=1, inplace=True)\n",
    "n = 4500\n",
    "sample_yes = data.ix[data.y == \"yes\"].sample(n=n, replace=False, random_state=0)\n",
    "sample_no = data.ix[data.y == \"no\"].sample(n=n, replace=False, random_state=0)\n",
    "df = pd.concat([sample_yes, sample_no])\n",
    "df = df.sample(frac=1, random_state=0)\n",
    "df = df.loc[(df.duration > 0),:]\n",
    "X = df.drop('y', axis=1)  \n",
    "y = df.ix[:, 'y']\n",
    "y.replace(\"yes\", 1, inplace=True)\n",
    "y.replace(\"no\", 0, inplace=True)"
   ]
  },
  {
   "cell_type": "code",
   "execution_count": 31,
   "metadata": {
    "collapsed": false
   },
   "outputs": [
    {
     "data": {
      "text/plain": [
       "(8999, 10)"
      ]
     },
     "execution_count": 31,
     "metadata": {},
     "output_type": "execute_result"
    }
   ],
   "source": [
    "X['duration'] = X['duration'].apply(lambda x: np.log(x))\n",
    "X = preprocessing.scale(X)\n",
    "X.shape"
   ]
  },
  {
   "cell_type": "code",
   "execution_count": 32,
   "metadata": {
    "collapsed": false
   },
   "outputs": [
    {
     "data": {
      "text/plain": [
       "(8999, 5)"
      ]
     },
     "execution_count": 32,
     "metadata": {},
     "output_type": "execute_result"
    }
   ],
   "source": [
    "X_best = SelectKBest(k=5).fit_transform(X, y)\n",
    "X_best.shape"
   ]
  },
  {
   "cell_type": "code",
   "execution_count": 33,
   "metadata": {
    "collapsed": true
   },
   "outputs": [],
   "source": [
    "X_train, X_test, y_train, y_test = train_test_split(X_best, y, test_size=0.2, random_state=0)"
   ]
  },
  {
   "cell_type": "code",
   "execution_count": 34,
   "metadata": {
    "collapsed": false
   },
   "outputs": [
    {
     "data": {
      "text/plain": [
       "{'metric': 'manhattan', 'n_neighbors': 11, 'weights': 'uniform'}"
      ]
     },
     "execution_count": 34,
     "metadata": {},
     "output_type": "execute_result"
    }
   ],
   "source": [
    "k = np.arange(1, 100, 2)\n",
    "parameters = {'n_neighbors': k, 'weights': weights, 'metric': dists}\n",
    "knn = KNeighborsClassifier()\n",
    "best_knn = GridSearchCV(knn, parameters, cv=10)\n",
    "best_knn.fit(X_best, y)\n",
    "best_knn.best_params_"
   ]
  },
  {
   "cell_type": "code",
   "execution_count": 35,
   "metadata": {
    "collapsed": false
   },
   "outputs": [
    {
     "name": "stdout",
     "output_type": "stream",
     "text": [
      "0.881764640516\n",
      "{'n_neighbors': 11, 'metric': 'manhattan', 'weights': 'uniform'}\n"
     ]
    }
   ],
   "source": [
    "print best_knn.best_score_\n",
    "print best_knn.best_params_"
   ]
  },
  {
   "cell_type": "markdown",
   "metadata": {},
   "source": [
    "Now we can use the `best_knn.predict(X)` method for prediction."
   ]
  }
 ],
 "metadata": {
  "kernelspec": {
   "display_name": "Python 2",
   "language": "python",
   "name": "python2"
  },
  "language_info": {
   "codemirror_mode": {
    "name": "ipython",
    "version": 2
   },
   "file_extension": ".py",
   "mimetype": "text/x-python",
   "name": "python",
   "nbconvert_exporter": "python",
   "pygments_lexer": "ipython2",
   "version": "2.7.11"
  }
 },
 "nbformat": 4,
 "nbformat_minor": 0
}
