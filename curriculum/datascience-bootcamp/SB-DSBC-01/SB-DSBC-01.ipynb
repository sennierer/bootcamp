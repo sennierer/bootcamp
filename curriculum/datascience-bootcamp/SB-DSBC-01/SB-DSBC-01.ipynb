{
 "cells": [
  {
   "cell_type": "markdown",
   "metadata": {
    "slideshow": {
     "slide_type": "slide"
    }
   },
   "source": [
    "# Introduction to Data Science"
   ]
  },
  {
   "cell_type": "markdown",
   "metadata": {},
   "source": [
    "## Who we are?\n",
    "\n",
    "### StreamBright Data\n",
    "\n",
    "**Istvan Szukacs - CTO**\n",
    "* Worked for IBM, Amazon, Riot Games and several other multinational and smaller companies as Data Engineer.\n",
    "* Extensive Data Engineering, Big Data, Data Science experiences\n",
    "\n",
    "**Adam Jermann - CEO**\n",
    "* Worked for multinational Consulting companies (Deloitte, PwC)\n",
    "* Finance Msc as Investment Analist\n",
    "\n",
    "### LinkedIn\n",
    "\n",
    "**Mariah Walton - Senior Data Scientist**\n",
    "* Research background with various indistry experiences"
   ]
  },
  {
   "cell_type": "markdown",
   "metadata": {
    "slideshow": {
     "slide_type": "slide"
    }
   },
   "source": [
    "## Why we are here?\n",
    "\n",
    "![topjob](../files/01.png \"Top Job\")"
   ]
  },
  {
   "cell_type": "markdown",
   "metadata": {},
   "source": [
    "## Who is a Data Scientist?\n",
    "\n",
    "> “I think data-scientist is a sexed up term for a statistician” - Natan Silver\n"
   ]
  },
  {
   "cell_type": "markdown",
   "metadata": {},
   "source": [
    "![venn](../files/data-science-venn-diagram.png \"Top Job\")"
   ]
  },
  {
   "cell_type": "markdown",
   "metadata": {},
   "source": [
    "![skills](../files/skills.png \"Top Job\")"
   ]
  },
  {
   "cell_type": "code",
   "execution_count": null,
   "metadata": {
    "collapsed": true
   },
   "outputs": [],
   "source": []
  }
 ],
 "metadata": {
  "celltoolbar": "Raw Cell Format",
  "kernelspec": {
   "display_name": "Python 2",
   "language": "python",
   "name": "python2"
  },
  "language_info": {
   "codemirror_mode": {
    "name": "ipython",
    "version": 2
   },
   "file_extension": ".py",
   "mimetype": "text/x-python",
   "name": "python",
   "nbconvert_exporter": "python",
   "pygments_lexer": "ipython2",
   "version": "2.7.11"
  }
 },
 "nbformat": 4,
 "nbformat_minor": 0
}
