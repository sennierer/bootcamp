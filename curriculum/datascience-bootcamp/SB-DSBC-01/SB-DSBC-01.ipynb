{
 "cells": [
  {
   "cell_type": "markdown",
   "metadata": {
    "slideshow": {
     "slide_type": "slide"
    }
   },
   "source": [
    "# Introduction to Data Science\n",
    "\n",
    "© 2016 STREAMBRIGHT DATA LLC, ALL RIGHTS RESERVED\n",
    "\n",
    "Overview of machine learning, introduction to supervised vs. unsupervised learning concepts. Basics of classification vs. regression algorithms and how they can be used in real-world applications."
   ]
  },
  {
   "cell_type": "markdown",
   "metadata": {
    "slideshow": {
     "slide_type": "slide"
    }
   },
   "source": [
    "## Who we are?\n",
    "\n",
    "### StreamBright Data\n",
    "\n",
    "**Adam Jermann - CEO**\n",
    "* Worked for multinational Consulting companies (Deloitte, PwC)\n",
    "* Finance Msc as Investment Analyst\n",
    "\n",
    "**Istvan Szukacs - CTO**\n",
    "* Worked for IBM, Amazon, Riot Games and several other multinational and smaller companies as Data Engineer.\n",
    "* Extensive Data Engineering, Big Data, Data Science experiences\n",
    "\n",
    "### LinkedIn\n",
    "\n",
    "**Mariah Walton - Senior Data Scientist**\n",
    "* Data Scientist at RichRelevance and LinkedIn\n",
    "* Scientific - academic background"
   ]
  },
  {
   "cell_type": "markdown",
   "metadata": {
    "slideshow": {
     "slide_type": "slide"
    }
   },
   "source": [
    "## Why are we here?\n",
    "\n",
    "![topjob](../files/0101_topjobs.png \"Top Job\")"
   ]
  },
  {
   "cell_type": "markdown",
   "metadata": {
    "slideshow": {
     "slide_type": "slide"
    }
   },
   "source": [
    "## About the Bootcamp\n",
    "\n",
    "**First Day**\n",
    "\n",
    "Time | Session\n",
    "--- | ---\n",
    "09:00 - 10:30 | Introduction to Data Science and Machine Learning\n",
    "10:30 - 10:45 | Coffee Break\n",
    "10:45 - 12:00 | Cleaning, Pre-Processing and Analyzing Data\n",
    "12:00 - 13:00 | Lunch Break\n",
    "13:00 - 14:30 | Building Your First Classification Model\n",
    "14:30 - 14:45 | Coffee Break\n",
    "14:45 - 16:00 | Fine-Tuning Models\n",
    "16:30 - 17:00 | Intro to mini-project\n",
    "17:00 - 19:00 | Working on your mini-project (optional)\n",
    "19:00 -       | Evening Fun\n",
    "\n",
    "**Second Day**\n",
    "\n",
    "Time | Session\n",
    "--- | ---\n",
    "09:00 - 10:15 | Classification with Decision Trees \n",
    "10:15 - 10:30 | Coffee Break\n",
    "10:30 - 12:00 | Clustering and Dimensionality Reduction\n",
    "12:00 - 13:00 | Lunch Break\n",
    "13:00 - 14:15 | Regression\n",
    "14:15 - 14:30 | Coffee Break\n",
    "14:30 - 15:30 | Expert Talk - Day of a Data Scientist at LinkedIn\n",
    "15:30 - 16:30 | AMA (Ask me Anything) with Mariah\n",
    "16:30 - 17:00 | Closing Session"
   ]
  },
  {
   "cell_type": "markdown",
   "metadata": {
    "slideshow": {
     "slide_type": "slide"
    }
   },
   "source": [
    "## Who is a Data Scientist?\n",
    "\n",
    "> “I think data-scientist is a sexed up term for a statistician” - Natan Silver\n",
    "\n",
    "> \"A data scientist is a statistician who lives in San Francisco\"\n",
    "\n",
    "> \"Data Science is statistics on a Mac.\"\n",
    "\n",
    "> \"A data scientist is someone who is better at statistics than any software engineer and better at software engineering than any statistician.\""
   ]
  },
  {
   "cell_type": "markdown",
   "metadata": {
    "slideshow": {
     "slide_type": "slide"
    }
   },
   "source": [
    "![venn](../files/0102_venn-diagram.png \"DS Venn Diagram\")"
   ]
  },
  {
   "cell_type": "markdown",
   "metadata": {
    "slideshow": {
     "slide_type": "slide"
    }
   },
   "source": [
    "![ds vs anal](../files/0103_ds_vs_analyst.png \"Data Scientist vs Analyst\")"
   ]
  },
  {
   "cell_type": "markdown",
   "metadata": {
    "collapsed": true,
    "slideshow": {
     "slide_type": "slide"
    }
   },
   "source": [
    "### Data Engineer\n",
    "\n",
    "* Prepare the “big data” infrastructure\n",
    "* Software engineers who design, build, integrate data from various resources, and manage big data\n",
    "* Optimizing the performance of their company’s big data ecosystem\n",
    "* **Skills and tools:** Hadoop, MapReduce, Hive, Pig, MySQL, MongoDB, Cassandra, Data streaming, NoSQL, SQL, programming\n",
    "\n",
    "**Typically not expected to know any machine learning or analytics for big data**\n",
    "\n",
    "### Data Scientist\n",
    "\n",
    "* Turn raw data into purified insights\n",
    "* Apply statistics, machine learning and analytic approaches to solve critical business problems\n",
    "* Expected to interpret and eloquently deliver the results of their findings, by visualization techniques or building data science apps\n",
    "\n",
    "* **Skills and tools:** Python, R, Scala, Apache Spark, Hadoop, data mining tools and algorithms, machine learning, statistics\n",
    "\n",
    "**Data Scientists should have a very broad knowledge of different techniques in machine learning, data mining, statistics and big data infrastructures.**\n"
   ]
  },
  {
   "cell_type": "markdown",
   "metadata": {
    "slideshow": {
     "slide_type": "slide"
    }
   },
   "source": [
    "## Programming Languages Data Scientists Uses\n",
    "\n",
    "**R** - *written by statisticians, for statisticians*\n",
    "\n",
    "Great for: \n",
    "* In-Depth Statistical Analysis\n",
    "* High-Quality Reporting\n",
    "\n",
    "Not Great For:\n",
    "* Performance\n",
    "* Creating large-scale data products\n",
    "* Ease of Learning\n",
    "\n",
    "**Python**\n",
    "\n",
    "Great for: \n",
    "* Workflow Integration\n",
    "* Machine Learning\n",
    "\n",
    "Not Great For:\n",
    "* Highly specialized data tasks\n",
    "\n",
    "**Julia**\n",
    "\n",
    "Great for: \n",
    "* Performance\n",
    "* Scientific and numerical computing\n",
    "\n",
    "Not Great for:\n",
    "* Learning data science"
   ]
  },
  {
   "cell_type": "markdown",
   "metadata": {
    "slideshow": {
     "slide_type": "slide"
    }
   },
   "source": [
    "![skills](../files/0104_skills.png \"Skills for a Data Scientist\")"
   ]
  },
  {
   "cell_type": "markdown",
   "metadata": {
    "collapsed": true,
    "slideshow": {
     "slide_type": "slide"
    }
   },
   "source": [
    "## Intro to Python and Machine Learning\n",
    "\n",
    "Why Python?\n",
    "* flexible\n",
    "* open-source\n",
    "* easy to learn, easy to use\n",
    "* integrates well with existing IT infrastructure\n",
    "* platform independent\n",
    "\n",
    "Packages for Python:\n",
    "* NumPy / SciPy\n",
    "* Pandas\n",
    "* matpotlib\n",
    "* Seaborn\n",
    "* sci-kit learn\n",
    "* TensorFlow\n"
   ]
  },
  {
   "cell_type": "markdown",
   "metadata": {
    "slideshow": {
     "slide_type": "slide"
    }
   },
   "source": [
    "## About Machine Learning\n",
    "\n",
    "** A learning problem considers a set of `n` samples of data and then tries to predict properties of unknown data.**\n",
    "\n",
    "Categories of learning problems:\n",
    "* Supervised Learning\n",
    " * Classification\n",
    " * Regression\n",
    "* Unsupervised Learning\n",
    " * Clustering\n",
    " * Density Estimation\n",
    " * Dimensionality reduction\n",
    " \n",
    " "
   ]
  },
  {
   "cell_type": "markdown",
   "metadata": {
    "slideshow": {
     "slide_type": "slide"
    }
   },
   "source": [
    "### Classification\n",
    "\n",
    "![classification](../files/0105_classification.jpg \"Classification\")"
   ]
  },
  {
   "cell_type": "markdown",
   "metadata": {
    "slideshow": {
     "slide_type": "slide"
    }
   },
   "source": [
    "### Classification Algorithm Examples\n",
    "\n",
    "* **k-nearest neighbor**\n",
    "* **Logistic regression**\n",
    "* Support vector machines\n",
    "* **Decision trees**\n",
    "* **Random forests**\n",
    "* Neural networks\n",
    "* Naive Bayes classifier\n",
    "* Boosting (meta-algorithm)\n",
    "\n",
    "### Classification Examples\n",
    "\n",
    "* Spam filtering\n",
    "* Handwritten digit recognition\n"
   ]
  },
  {
   "cell_type": "markdown",
   "metadata": {
    "slideshow": {
     "slide_type": "slide"
    }
   },
   "source": [
    "### Regression\n",
    "\n",
    "![regression](../files/0106_regression.png \"Regression\")"
   ]
  },
  {
   "cell_type": "markdown",
   "metadata": {
    "slideshow": {
     "slide_type": "slide"
    }
   },
   "source": [
    "### Classification vs Regression\n",
    "\n",
    "![classif vs reg](../files/0107_classif_vs_regr.png \"Classification vs Regression\")"
   ]
  },
  {
   "cell_type": "markdown",
   "metadata": {
    "slideshow": {
     "slide_type": "slide"
    }
   },
   "source": [
    "### Regression Algorithm Examples\n",
    "\n",
    "* **Linear Regression**\n",
    "* **Logistic Regression**\n",
    "* Stepwise Regression\n",
    "* Multivariate Adaptive Regression Splines (MARS)\n",
    "* Locally Estimated Scatterplot Smoothing (LOESS)\n",
    "\n",
    "### Regression Examples\n",
    "\n",
    "* Predicting stock market\n",
    "* Predicting sales\n",
    "* Detecting the age of a person from a picture"
   ]
  },
  {
   "cell_type": "markdown",
   "metadata": {
    "slideshow": {
     "slide_type": "slide"
    }
   },
   "source": [
    "### Clustering\n",
    "\n",
    "![clustering](../files/0108_clustering.png \"Clustering\")"
   ]
  },
  {
   "cell_type": "markdown",
   "metadata": {
    "slideshow": {
     "slide_type": "slide"
    }
   },
   "source": [
    "### Clustering Algorithm Examples\n",
    "\n",
    "* **k-Means**\n",
    "* k-Medians\n",
    "* Expectation Maximisation (EM)\n",
    "* Hierarchical Clustering\n",
    "\n",
    "### Clustering Examples\n",
    "\n",
    "* Market Research - Customer segmentation\n",
    "* Social Network Analysis - recognizing communities\n",
    "* Crime analysis"
   ]
  },
  {
   "cell_type": "markdown",
   "metadata": {
    "slideshow": {
     "slide_type": "slide"
    }
   },
   "source": [
    "![ml_cheatsheet](../files/0109_scikit_learn_cheatsheet.png \"ML_Cheatsheet\")"
   ]
  },
  {
   "cell_type": "markdown",
   "metadata": {
    "slideshow": {
     "slide_type": "slide"
    }
   },
   "source": [
    "## Interesting Real World Machine Learning Examples\n",
    "\n",
    "** Nielsen uses data science to prove why Ashton Kutcher should be a TV host**\n",
    "* Nielsen uses its data sets about TV audiance to suggest celebrities for brands\n",
    "* Aston Kutcher and Tim Tebow as a morning show host\n",
    "* Aaron Paul should advertise hybrid automobiles\n",
    "* Amy Adams as a face for credit card travel rewards program\n",
    "\n",
    "** IBM Watson, NBA Raptors Seek Data ‘Slam Dunk’**\n",
    "* Toronto based team uses the help of Watson during NBA Draft\n",
    "* Watson assess possible roster combinations\n",
    "* Provide player “personality insights” using linguistics analytics “to understand player personality and social characteristics that align with the organizational culture.”\n",
    "\n",
    "** The Netflix Recommendation System**\n",
    "* Recommendation system based on customer behaviour\n",
    "* More than 76 000 micro genres (Period Pieces About Royalty Based on Real Life)\n",
    "* Series based on popularity of topics (House of Cards)"
   ]
  }
 ],
 "metadata": {
  "kernelspec": {
   "display_name": "Python 2",
   "language": "python",
   "name": "python2"
  },
  "language_info": {
   "codemirror_mode": {
    "name": "ipython",
    "version": 2
   },
   "file_extension": ".py",
   "mimetype": "text/x-python",
   "name": "python",
   "nbconvert_exporter": "python",
   "pygments_lexer": "ipython2",
   "version": "2.7.11"
  }
 },
 "nbformat": 4,
 "nbformat_minor": 0
}
