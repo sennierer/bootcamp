{
 "cells": [
  {
   "cell_type": "markdown",
   "metadata": {},
   "source": [
    "# Webshop Expert Conversion Classification"
   ]
  },
  {
   "cell_type": "markdown",
   "metadata": {},
   "source": [
    "## Adat import"
   ]
  },
  {
   "cell_type": "markdown",
   "metadata": {},
   "source": [
    "Adatfile beimportalasa (ami a Data mappaban van)."
   ]
  },
  {
   "cell_type": "code",
   "execution_count": 11,
   "metadata": {
    "collapsed": true
   },
   "outputs": [],
   "source": [
    "import numpy as np\n",
    "import pandas as pd\n",
    "import matplotlib.pyplot as plt\n",
    "%matplotlib inline"
   ]
  },
  {
   "cell_type": "code",
   "execution_count": 2,
   "metadata": {
    "collapsed": false
   },
   "outputs": [
    {
     "name": "stdout",
     "output_type": "stream",
     "text": [
      "<class 'pandas.core.frame.DataFrame'>\n",
      "RangeIndex: 202055 entries, 0 to 202054\n",
      "Data columns (total 21 columns):\n",
      "new_id                   202055 non-null object\n",
      "add_to_cart_1            202055 non-null int64\n",
      "add_to_cart_click_1      202055 non-null int64\n",
      "add_to_cart_hover_1      202055 non-null int64\n",
      "click_1                  202055 non-null int64\n",
      "page_view_1              202055 non-null int64\n",
      "pastime_30               202055 non-null int64\n",
      "product_image_click_1    202055 non-null int64\n",
      "product_image_hover_1    202055 non-null int64\n",
      "reactive_1               202055 non-null int64\n",
      "scroll_percent_40        202055 non-null int64\n",
      "scroll_percent_60        202055 non-null int64\n",
      "scroll_percent_80        202055 non-null int64\n",
      "scroll_percent_100       202055 non-null int64\n",
      "social_click_1           202055 non-null int64\n",
      "tab_click_1              202055 non-null int64\n",
      "wish_list_add_click_1    202055 non-null int64\n",
      "mouse_way_sum            202055 non-null int64\n",
      "mouse_velocity_avg       202055 non-null int64\n",
      "text_selection_1         202055 non-null int64\n",
      "conversion               202055 non-null int64\n",
      "dtypes: int64(20), object(1)\n",
      "memory usage: 32.4+ MB\n"
     ]
    }
   ],
   "source": [
    "data = pd.read_csv(\"./data/user_product_events_0428.csv\", low_memory = False, sep=\";\")\n",
    "data.info()"
   ]
  },
  {
   "cell_type": "markdown",
   "metadata": {},
   "source": [
    "## Adat tisztitas"
   ]
  },
  {
   "cell_type": "markdown",
   "metadata": {},
   "source": [
    "A fenti valtozok kozul az elso harom nem fog kelleni a klasszifikaciohoz.\n",
    "- a `new_id` be fog zavarni, ki kell venni\n",
    "- az `add_to_cart_1` es az `add_to_cart_click_1` 100%-ban meghatarozzak az eredmenyvaltozot, igy nincs informacio ertekuk (illetve tul sok van).\n",
    "- az `add_to_cart_hover_1` eseten vannak ugyan olyan sorok ahol nem feltetlenul tortenek meg a konverzio, de akkor is tul egyertelmu esemeny.\n",
    "\n",
    "Ezt a harom valtozot kiveszem az adatok kozul."
   ]
  },
  {
   "cell_type": "code",
   "execution_count": 3,
   "metadata": {
    "collapsed": true
   },
   "outputs": [],
   "source": [
    "data.drop(['new_id','add_to_cart_1','add_to_cart_click_1', 'add_to_cart_hover_1'],1, inplace=True)"
   ]
  },
  {
   "cell_type": "markdown",
   "metadata": {},
   "source": [
    "## Modellezes"
   ]
  },
  {
   "cell_type": "markdown",
   "metadata": {},
   "source": [
    "### Mintavetel az adatbol"
   ]
  },
  {
   "cell_type": "markdown",
   "metadata": {},
   "source": [
    "Az adatban van egy olyan problema, hogy a megfigyelesek 90+ %-a nem kiverzios megfigyeles. Ha erre tanitjuk a modelleket, akkor ugyan magas lesz a talalati arany, de pont nem a konvertalo egyedeket jelzi elore jol, hanem a nem kovertalokat (ami ugye eleve konnyebb, hiszen ha nem csinalunk semmit csak mindet nem konvertalonak jelezzuk elore, ugy is 90% feletti pontossagot kapunk).\n",
    "\n",
    "Ezert veszek veletlenszeruen 5000 - 5000 megfigyelest mindket kategoribol."
   ]
  },
  {
   "cell_type": "code",
   "execution_count": 4,
   "metadata": {
    "collapsed": true
   },
   "outputs": [],
   "source": [
    "n = 5000\n",
    "sample1 = data.loc[data.conversion == 1].sample(n=n, replace=False)\n",
    "sample2 = data.loc[data.conversion == 0].sample(n=n, replace=False)\n",
    "df = pd.concat([sample1, sample2])\n",
    "df = df.sample(frac=1)\n",
    "X = df.drop('conversion', axis=1)  \n",
    "y = df.loc[:, 'conversion']"
   ]
  },
  {
   "cell_type": "markdown",
   "metadata": {},
   "source": [
    "### Modellek tesztelese"
   ]
  },
  {
   "cell_type": "markdown",
   "metadata": {},
   "source": [
    "Az alabbiakban 3 modellt tesztelek (logit regresszio, Support Vector Machine es Decision Trees) melyek binaris klasszifikaciora jo elorejelzest adnak jellemzoen.\n",
    "\n",
    "Ezt kovetoen negy modszerrel \"keverem\" kulonbozo modellek eredmenyet (random forest-tel es boostinggal), ami altalaban meg robosztusabb modelleket ad.\n",
    "\n",
    "Minden egyes modell eseten latszik az elorejelzesi pontossag, a \"Confusion Matrix\" es egy report az egyes kategoriak es hibak elorejelzesi szazalekarol."
   ]
  },
  {
   "cell_type": "code",
   "execution_count": 5,
   "metadata": {
    "collapsed": false
   },
   "outputs": [
    {
     "name": "stdout",
     "output_type": "stream",
     "text": [
      "Logistic Regression \n",
      "\n",
      "The average accuracy score is: 0.76\n",
      "Confusion Matrix: \n",
      "[[4242  758]\n",
      " [1664 3336]]\n",
      "Classification Report: \n",
      "             precision    recall  f1-score   support\n",
      "\n",
      "          0       0.72      0.85      0.78      5000\n",
      "          1       0.81      0.67      0.73      5000\n",
      "\n",
      "avg / total       0.77      0.76      0.76     10000\n",
      "\n",
      "\n",
      "SVC \n",
      "\n",
      "The average accuracy score is: 0.78\n",
      "Confusion Matrix: \n",
      "[[3425 1575]\n",
      " [ 611 4389]]\n",
      "Classification Report: \n",
      "             precision    recall  f1-score   support\n",
      "\n",
      "          0       0.85      0.69      0.76      5000\n",
      "          1       0.74      0.88      0.80      5000\n",
      "\n",
      "avg / total       0.79      0.78      0.78     10000\n",
      "\n",
      "\n",
      "Decision Tree \n",
      "\n",
      "The average accuracy score is: 0.78\n",
      "Confusion Matrix: \n",
      "[[3819 1181]\n",
      " [1014 3986]]\n",
      "Classification Report: \n",
      "             precision    recall  f1-score   support\n",
      "\n",
      "          0       0.79      0.76      0.78      5000\n",
      "          1       0.77      0.80      0.78      5000\n",
      "\n",
      "avg / total       0.78      0.78      0.78     10000\n",
      "\n",
      "\n",
      "Random Forest \n",
      "\n",
      "The average accuracy score is: 0.80\n",
      "Confusion Matrix: \n",
      "[[3826 1174]\n",
      " [ 809 4191]]\n",
      "Classification Report: \n",
      "             precision    recall  f1-score   support\n",
      "\n",
      "          0       0.83      0.77      0.79      5000\n",
      "          1       0.78      0.84      0.81      5000\n",
      "\n",
      "avg / total       0.80      0.80      0.80     10000\n",
      "\n",
      "\n",
      "ExtraTrees \n",
      "\n",
      "The average accuracy score is: 0.80\n",
      "Confusion Matrix: \n",
      "[[3826 1174]\n",
      " [ 861 4139]]\n",
      "Classification Report: \n",
      "             precision    recall  f1-score   support\n",
      "\n",
      "          0       0.82      0.77      0.79      5000\n",
      "          1       0.78      0.83      0.80      5000\n",
      "\n",
      "avg / total       0.80      0.80      0.80     10000\n",
      "\n",
      "\n",
      "AdaBoost \n",
      "\n",
      "The average accuracy score is: 0.80\n",
      "Confusion Matrix: \n",
      "[[4013  987]\n",
      " [1000 4000]]\n",
      "Classification Report: \n",
      "             precision    recall  f1-score   support\n",
      "\n",
      "          0       0.80      0.80      0.80      5000\n",
      "          1       0.80      0.80      0.80      5000\n",
      "\n",
      "avg / total       0.80      0.80      0.80     10000\n",
      "\n",
      "\n",
      "Gradient Boosting \n",
      "\n",
      "The average accuracy score is: 0.79\n",
      "Confusion Matrix: \n",
      "[[3797 1203]\n",
      " [ 885 4115]]\n",
      "Classification Report: \n",
      "             precision    recall  f1-score   support\n",
      "\n",
      "          0       0.81      0.76      0.78      5000\n",
      "          1       0.77      0.82      0.80      5000\n",
      "\n",
      "avg / total       0.79      0.79      0.79     10000\n",
      "\n",
      "\n",
      "Duration: 0:02:24.199559\n"
     ]
    }
   ],
   "source": [
    "import sklearn.cross_validation as cv\n",
    "from sklearn.tree import DecisionTreeClassifier\n",
    "from sklearn.ensemble import RandomForestClassifier\n",
    "from sklearn.ensemble import ExtraTreesClassifier\n",
    "from sklearn.ensemble import AdaBoostClassifier\n",
    "from sklearn.ensemble import GradientBoostingClassifier\n",
    "from sklearn.linear_model import LogisticRegression\n",
    "from sklearn.svm import SVC\n",
    "\n",
    "from sklearn import metrics\n",
    "from datetime import datetime\n",
    "\n",
    "start_time = datetime.now()\n",
    "\n",
    "clf = LogisticRegression()\n",
    "scores = cv.cross_val_score(clf, X, y, cv=10)\n",
    "predicted = cv.cross_val_predict(clf, X, y, cv=10)\n",
    "print 'Logistic Regression \\n'\n",
    "print 'The average accuracy score is: %0.2f'% metrics.accuracy_score(y, predicted)\n",
    "print 'Confusion Matrix: \\n', metrics.confusion_matrix(y, predicted)\n",
    "print 'Classification Report: \\n' + metrics.classification_report(y, predicted) + '\\n'  \n",
    "\n",
    "clf = SVC(random_state=0)\n",
    "scores = cv.cross_val_score(clf, X, y, cv=10)\n",
    "predicted = cv.cross_val_predict(clf, X, y, cv=10)\n",
    "print 'SVC \\n'\n",
    "print 'The average accuracy score is: %0.2f'% metrics.accuracy_score(y, predicted)\n",
    "print 'Confusion Matrix: \\n', metrics.confusion_matrix(y, predicted)\n",
    "print 'Classification Report: \\n' + metrics.classification_report(y, predicted) + '\\n'  \n",
    "\n",
    "clf = DecisionTreeClassifier(max_depth=None, min_samples_split=1,\n",
    "    random_state=0)\n",
    "scores = cv.cross_val_score(clf, X, y, cv=10)\n",
    "predicted = cv.cross_val_predict(clf, X, y, cv=10)\n",
    "print 'Decision Tree \\n'\n",
    "print 'The average accuracy score is: %0.2f'% metrics.accuracy_score(y, predicted)\n",
    "print 'Confusion Matrix: \\n', metrics.confusion_matrix(y, predicted)\n",
    "print 'Classification Report: \\n' + metrics.classification_report(y, predicted) + '\\n'                            \n",
    "\n",
    "clf = RandomForestClassifier(n_estimators=10, max_depth=None,\n",
    "    min_samples_split=1, random_state=0)\n",
    "scores = cv.cross_val_score(clf, X, y, cv=10)\n",
    "predicted = cv.cross_val_predict(clf, X, y, cv=10)\n",
    "print 'Random Forest \\n'\n",
    "print 'The average accuracy score is: %0.2f'% metrics.accuracy_score(y, predicted)\n",
    "print 'Confusion Matrix: \\n', metrics.confusion_matrix(y, predicted)\n",
    "print 'Classification Report: \\n' + metrics.classification_report(y, predicted) + '\\n'                                \n",
    "\n",
    "clf = ExtraTreesClassifier(n_estimators=10, max_depth=None,\n",
    "    min_samples_split=1, random_state=0)\n",
    "scores = cv.cross_val_score(clf, X, y, cv=10)\n",
    "predicted = cv.cross_val_predict(clf, X, y, cv=10)\n",
    "print 'ExtraTrees \\n'\n",
    "print 'The average accuracy score is: %0.2f'% metrics.accuracy_score(y, predicted)\n",
    "print 'Confusion Matrix: \\n', metrics.confusion_matrix(y, predicted)\n",
    "print 'Classification Report: \\n' + metrics.classification_report(y, predicted) + '\\n'  \n",
    "\n",
    "clf = AdaBoostClassifier(n_estimators=10)\n",
    "scores = cv.cross_val_score(clf, X, y, cv=10)\n",
    "predicted = cv.cross_val_predict(clf, X, y, cv=10)\n",
    "print 'AdaBoost \\n'\n",
    "print 'The average accuracy score is: %0.2f'% metrics.accuracy_score(y, predicted)\n",
    "print 'Confusion Matrix: \\n', metrics.confusion_matrix(y, predicted)\n",
    "print 'Classification Report: \\n' + metrics.classification_report(y, predicted) + '\\n'  \n",
    "\n",
    "clf = GradientBoostingClassifier(n_estimators=10, learning_rate=1.0,\n",
    "    max_depth=None, random_state=0)\n",
    "scores = cv.cross_val_score(clf, X, y, cv=10)\n",
    "predicted = cv.cross_val_predict(clf, X, y, cv=10)\n",
    "print 'Gradient Boosting \\n'\n",
    "print 'The average accuracy score is: %0.2f'% metrics.accuracy_score(y, predicted)\n",
    "print 'Confusion Matrix: \\n', metrics.confusion_matrix(y, predicted)\n",
    "print 'Classification Report: \\n' + metrics.classification_report(y, predicted) + '\\n'  \n",
    "\n",
    "end_time = datetime.now()\n",
    "print('Duration: {}'.format(end_time - start_time))"
   ]
  },
  {
   "cell_type": "markdown",
   "metadata": {},
   "source": [
    "## Modellezes a teljes adatra"
   ]
  },
  {
   "cell_type": "markdown",
   "metadata": {},
   "source": [
    "Erdekesseg kepp a fenti kodokat lefuttatom a teljes adatra is, hogy mi tortenik ha nem veszem az 5000-es mintakat (nem egyensulyozom ki az adatot).\n",
    "\n",
    "Lathato, hogy bar az elorejelzesi szazalekok 90 felett vannak, de a legtobb esetben 10% nal is kevesebbszer talalja el a modell a convertalokat."
   ]
  },
  {
   "cell_type": "code",
   "execution_count": 6,
   "metadata": {
    "collapsed": true
   },
   "outputs": [],
   "source": [
    "df = data.sample(frac=1)\n",
    "X = df.drop('conversion', axis=1)  \n",
    "y = df.loc[:, 'conversion']"
   ]
  },
  {
   "cell_type": "code",
   "execution_count": 7,
   "metadata": {
    "collapsed": false
   },
   "outputs": [
    {
     "name": "stdout",
     "output_type": "stream",
     "text": [
      "Logistic Regression \n",
      "\n",
      "The average accuracy score is: 0.95\n",
      "Confusion Matrix: \n",
      "[[191927    501]\n",
      " [  9312    315]]\n",
      "Classification Report: \n",
      "             precision    recall  f1-score   support\n",
      "\n",
      "          0       0.95      1.00      0.98    192428\n",
      "          1       0.39      0.03      0.06      9627\n",
      "\n",
      "avg / total       0.93      0.95      0.93    202055\n",
      "\n",
      "\n",
      "Decision Tree \n",
      "\n",
      "The average accuracy score is: 0.94\n",
      "Confusion Matrix: \n",
      "[[188111   4317]\n",
      " [  8230   1397]]\n",
      "Classification Report: \n",
      "             precision    recall  f1-score   support\n",
      "\n",
      "          0       0.96      0.98      0.97    192428\n",
      "          1       0.24      0.15      0.18      9627\n",
      "\n",
      "avg / total       0.92      0.94      0.93    202055\n",
      "\n",
      "\n",
      "Random Forest \n",
      "\n",
      "The average accuracy score is: 0.95\n",
      "Confusion Matrix: \n",
      "[[191180   1248]\n",
      " [  8919    708]]\n",
      "Classification Report: \n",
      "             precision    recall  f1-score   support\n",
      "\n",
      "          0       0.96      0.99      0.97    192428\n",
      "          1       0.36      0.07      0.12      9627\n",
      "\n",
      "avg / total       0.93      0.95      0.93    202055\n",
      "\n",
      "\n",
      "ExtraTrees \n",
      "\n",
      "The average accuracy score is: 0.95\n",
      "Confusion Matrix: \n",
      "[[191061   1367]\n",
      " [  8989    638]]\n",
      "Classification Report: \n",
      "             precision    recall  f1-score   support\n",
      "\n",
      "          0       0.96      0.99      0.97    192428\n",
      "          1       0.32      0.07      0.11      9627\n",
      "\n",
      "avg / total       0.92      0.95      0.93    202055\n",
      "\n",
      "\n",
      "AdaBoost \n",
      "\n",
      "The average accuracy score is: 0.95\n",
      "Confusion Matrix: \n",
      "[[192185    243]\n",
      " [  9614     13]]\n",
      "Classification Report: \n",
      "             precision    recall  f1-score   support\n",
      "\n",
      "          0       0.95      1.00      0.97    192428\n",
      "          1       0.05      0.00      0.00      9627\n",
      "\n",
      "avg / total       0.91      0.95      0.93    202055\n",
      "\n",
      "\n",
      "Duration: 0:03:01.975420\n"
     ]
    }
   ],
   "source": [
    "start_time = datetime.now()\n",
    "\n",
    "clf = LogisticRegression()\n",
    "scores = cv.cross_val_score(clf, X, y, cv=10)\n",
    "predicted = cv.cross_val_predict(clf, X, y, cv=10)\n",
    "print 'Logistic Regression \\n'\n",
    "print 'The average accuracy score is: %0.2f'% metrics.accuracy_score(y, predicted)\n",
    "print 'Confusion Matrix: \\n', metrics.confusion_matrix(y, predicted)\n",
    "print 'Classification Report: \\n' + metrics.classification_report(y, predicted) + '\\n'  \n",
    "\n",
    "clf = DecisionTreeClassifier(max_depth=None, min_samples_split=1,\n",
    "    random_state=0)\n",
    "scores = cv.cross_val_score(clf, X, y, cv=10)\n",
    "predicted = cv.cross_val_predict(clf, X, y, cv=10)\n",
    "print 'Decision Tree \\n'\n",
    "print 'The average accuracy score is: %0.2f'% metrics.accuracy_score(y, predicted)\n",
    "print 'Confusion Matrix: \\n', metrics.confusion_matrix(y, predicted)\n",
    "print 'Classification Report: \\n' + metrics.classification_report(y, predicted) + '\\n'                            \n",
    "\n",
    "clf = RandomForestClassifier(n_estimators=10, max_depth=None,\n",
    "    min_samples_split=1, random_state=0)\n",
    "scores = cv.cross_val_score(clf, X, y, cv=10)\n",
    "predicted = cv.cross_val_predict(clf, X, y, cv=10)\n",
    "print 'Random Forest \\n'\n",
    "print 'The average accuracy score is: %0.2f'% metrics.accuracy_score(y, predicted)\n",
    "print 'Confusion Matrix: \\n', metrics.confusion_matrix(y, predicted)\n",
    "print 'Classification Report: \\n' + metrics.classification_report(y, predicted) + '\\n'                                \n",
    "\n",
    "clf = ExtraTreesClassifier(n_estimators=10, max_depth=None,\n",
    "    min_samples_split=1, random_state=0)\n",
    "scores = cv.cross_val_score(clf, X, y, cv=10)\n",
    "predicted = cv.cross_val_predict(clf, X, y, cv=10)\n",
    "print 'ExtraTrees \\n'\n",
    "print 'The average accuracy score is: %0.2f'% metrics.accuracy_score(y, predicted)\n",
    "print 'Confusion Matrix: \\n', metrics.confusion_matrix(y, predicted)\n",
    "print 'Classification Report: \\n' + metrics.classification_report(y, predicted) + '\\n'  \n",
    "\n",
    "clf = AdaBoostClassifier(n_estimators=10)\n",
    "scores = cv.cross_val_score(clf, X, y, cv=10)\n",
    "predicted = cv.cross_val_predict(clf, X, y, cv=10)\n",
    "print 'AdaBoost \\n'\n",
    "print 'The average accuracy score is: %0.2f'% metrics.accuracy_score(y, predicted)\n",
    "print 'Confusion Matrix: \\n', metrics.confusion_matrix(y, predicted)\n",
    "print 'Classification Report: \\n' + metrics.classification_report(y, predicted) + '\\n'  \n",
    "\n",
    "end_time = datetime.now()\n",
    "print('Duration: {}'.format(end_time - start_time))"
   ]
  },
  {
   "cell_type": "markdown",
   "metadata": {},
   "source": [
    "## Feature Importance"
   ]
  },
  {
   "cell_type": "markdown",
   "metadata": {},
   "source": [
    "A döntési fa alapján meghatározhatjuk a változók fontosságát a klasszifikációban. Erről egy bar-chartot is rajzolok."
   ]
  },
  {
   "cell_type": "code",
   "execution_count": 23,
   "metadata": {
    "collapsed": false
   },
   "outputs": [
    {
     "name": "stdout",
     "output_type": "stream",
     "text": [
      "Feature ranking:\n",
      "1. feature click_1 (0.398483)\n",
      "2. feature page_view_1 (0.142256)\n",
      "3. feature mouse_way_sum (0.082493)\n",
      "4. feature product_image_click_1 (0.073178)\n",
      "5. feature mouse_velocity_avg (0.069806)\n",
      "6. feature pastime_30 (0.048850)\n",
      "7. feature scroll_percent_40 (0.040286)\n",
      "8. feature reactive_1 (0.035669)\n",
      "9. feature scroll_percent_60 (0.023670)\n",
      "10. feature product_image_hover_1 (0.021302)\n",
      "11. feature tab_click_1 (0.019974)\n",
      "12. feature text_selection_1 (0.015818)\n",
      "13. feature scroll_percent_80 (0.015602)\n",
      "14. feature scroll_percent_100 (0.010502)\n",
      "15. feature wish_list_add_click_1 (0.001420)\n",
      "16. feature social_click_1 (0.000691)\n"
     ]
    },
    {
     "data": {
      "image/png": "[encoded data removed]",
      "text/plain": [
       "<matplotlib.figure.Figure at 0x11f458f50>"
      ]
     },
     "metadata": {},
     "output_type": "display_data"
    }
   ],
   "source": [
    "n = 5000\n",
    "sample1 = data.loc[data.conversion == 1].sample(n=n, replace=False)\n",
    "sample2 = data.loc[data.conversion == 0].sample(n=n, replace=False)\n",
    "df = pd.concat([sample1, sample2])\n",
    "df = df.sample(frac=1)\n",
    "X = df.drop('conversion', axis=1)  \n",
    "y = df.loc[:, 'conversion']\n",
    "\n",
    "\n",
    "# Build a forest and compute the feature importances\n",
    "forest = ExtraTreesClassifier(n_estimators=250,\n",
    "                              random_state=0)\n",
    "\n",
    "forest.fit(X, y)\n",
    "importances = forest.feature_importances_\n",
    "std = np.std([tree.feature_importances_ for tree in forest.estimators_],\n",
    "             axis=0)\n",
    "indices = np.argsort(importances)[::-1]\n",
    "feature_order = X.columns[indices]\n",
    "\n",
    "# Print the feature ranking\n",
    "print(\"Feature ranking:\")\n",
    "\n",
    "for f in range(X.shape[1]):\n",
    "    print(\"%d. feature %s (%f)\" % (f + 1, feature_order[f], importances[indices[f]]))\n",
    "\n",
    "# Plot the feature importances of the forest\n",
    "plt.figure()\n",
    "plt.title(\"Feature importances\")\n",
    "plt.bar(range(X.shape[1]), importances[indices],\n",
    "       color=\"r\", yerr=std[indices], align=\"center\")\n",
    "plt.xticks(range(X.shape[1]), feature_order, rotation='vertical')\n",
    "plt.xlim([-1, X.shape[1]])\n",
    "plt.show()"
   ]
  }
 ],
 "metadata": {
  "kernelspec": {
   "display_name": "Python 2",
   "language": "python",
   "name": "python2"
  },
  "language_info": {
   "codemirror_mode": {
    "name": "ipython",
    "version": 2
   },
   "file_extension": ".py",
   "mimetype": "text/x-python",
   "name": "python",
   "nbconvert_exporter": "python",
   "pygments_lexer": "ipython2",
   "version": "2.7.11"
  }
 },
 "nbformat": 4,
 "nbformat_minor": 0
}
