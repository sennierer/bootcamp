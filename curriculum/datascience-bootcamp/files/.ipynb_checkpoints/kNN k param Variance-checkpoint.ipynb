{
 "cells": [
  {
   "cell_type": "code",
   "execution_count": null,
   "metadata": {
    "collapsed": true
   },
   "outputs": [],
   "source": [
    "data = pd.read_csv(\"../files/bank-data.csv\", sep=\";\")\n",
    "data.drop(data.ix[:,1:10], axis=1, inplace=True)\n",
    "data.drop(\"poutcome\", axis=1, inplace=True)\n",
    "n = 200\n",
    "sample_yes = data.ix[data.y == \"yes\"].sample(n=n, replace=False)\n",
    "sample_no = data.ix[data.y == \"no\"].sample(n=n, replace=False)\n",
    "df = pd.concat([sample_yes, sample_no])\n",
    "df = df.sample(frac=1)       # Shuffle the whole set\n",
    "X = df.drop('y', axis=1)  \n",
    "y = df.ix[:, 'y']\n",
    "y.replace(\"yes\", 1, inplace=True)\n",
    "y.replace(\"no\", 0, inplace=True)\n",
    "\n",
    "X_train, X_test, y_train, y_test = train_test_split(\n",
    "    X, y, test_size=0.2, random_state=0)\n",
    "\n",
    "clf = KNeighborsClassifier()\n",
    " \n",
    "# the range of number of neighbors you want to test\n",
    "n_neighbors = np.arange(1, 100, 2)\n",
    " \n",
    "# here you store the models for each dataset used\n",
    "accuracy_std = list()\n",
    "accuracy_mean = list()\n",
    " \n",
    "# loop through possible n_neighbors and try them out\n",
    "for n in n_neighbors:\n",
    "    knn.n_neighbors = n\n",
    "    knn.fit(X_train, y_train)\n",
    "    accuracy_std.append(cross_val_score(knn, X_train, y_train, cv = 20).std())\n",
    "    accuracy_mean.append(cross_val_score(knn, X_train, y_train, cv = 20).mean())"
   ]
  },
  {
   "cell_type": "code",
   "execution_count": 1,
   "metadata": {
    "collapsed": false
   },
   "outputs": [
    {
     "ename": "NameError",
     "evalue": "name 'plt' is not defined",
     "output_type": "error",
     "traceback": [
      "\u001b[0;31m---------------------------------------------------------------------------\u001b[0m",
      "\u001b[0;31mNameError\u001b[0m                                 Traceback (most recent call last)",
      "\u001b[0;32m<ipython-input-1-bab50df300f3>\u001b[0m in \u001b[0;36m<module>\u001b[0;34m()\u001b[0m\n\u001b[0;32m----> 1\u001b[0;31m \u001b[0mplt\u001b[0m\u001b[0;34m.\u001b[0m\u001b[0mfigure\u001b[0m\u001b[0;34m(\u001b[0m\u001b[0mfigsize\u001b[0m\u001b[0;34m=\u001b[0m\u001b[0;34m(\u001b[0m\u001b[0;36m10\u001b[0m\u001b[0;34m,\u001b[0m\u001b[0;36m7.5\u001b[0m\u001b[0;34m)\u001b[0m\u001b[0;34m)\u001b[0m\u001b[0;34m\u001b[0m\u001b[0m\n\u001b[0m\u001b[1;32m      2\u001b[0m \u001b[0mplt\u001b[0m\u001b[0;34m.\u001b[0m\u001b[0mplot\u001b[0m\u001b[0;34m(\u001b[0m\u001b[0mn_neighbors\u001b[0m\u001b[0;34m,\u001b[0m \u001b[0maccuracy_std\u001b[0m\u001b[0;34m,\u001b[0m \u001b[0mc\u001b[0m\u001b[0;34m=\u001b[0m\u001b[0;34m\"black\"\u001b[0m\u001b[0;34m,\u001b[0m \u001b[0mlabel\u001b[0m\u001b[0;34m=\u001b[0m\u001b[0;34m\"Training Set\"\u001b[0m\u001b[0;34m)\u001b[0m\u001b[0;34m\u001b[0m\u001b[0m\n\u001b[1;32m      3\u001b[0m \u001b[0mplt\u001b[0m\u001b[0;34m.\u001b[0m\u001b[0mxlabel\u001b[0m\u001b[0;34m(\u001b[0m\u001b[0;34m'Number of K Nearest Neighbors'\u001b[0m\u001b[0;34m)\u001b[0m\u001b[0;34m\u001b[0m\u001b[0m\n\u001b[1;32m      4\u001b[0m \u001b[0mplt\u001b[0m\u001b[0;34m.\u001b[0m\u001b[0mylabel\u001b[0m\u001b[0;34m(\u001b[0m\u001b[0;34m'Std of Classification Error'\u001b[0m\u001b[0;34m)\u001b[0m\u001b[0;34m\u001b[0m\u001b[0m\n\u001b[1;32m      5\u001b[0m \u001b[0mplt\u001b[0m\u001b[0;34m.\u001b[0m\u001b[0mgca\u001b[0m\u001b[0;34m(\u001b[0m\u001b[0;34m)\u001b[0m\u001b[0;34m.\u001b[0m\u001b[0minvert_xaxis\u001b[0m\u001b[0;34m(\u001b[0m\u001b[0;34m)\u001b[0m\u001b[0;34m\u001b[0m\u001b[0m\n",
      "\u001b[0;31mNameError\u001b[0m: name 'plt' is not defined"
     ]
    }
   ],
   "source": [
    "plt.figure(figsize=(10,7.5))\n",
    "plt.plot(n_neighbors, accuracy_std, c=\"black\", label=\"Training Set\")\n",
    "plt.xlabel('Number of K Nearest Neighbors')\n",
    "plt.ylabel('Std of Classification Error')\n",
    "plt.gca().invert_xaxis()\n",
    "plt.legend(loc = \"lower left\")\n",
    "plt.show()"
   ]
  },
  {
   "cell_type": "code",
   "execution_count": null,
   "metadata": {
    "collapsed": true
   },
   "outputs": [],
   "source": [
    "plt.figure(figsize=(10,7.5))\n",
    "plt.plot(n_neighbors, accuracy_mean, c=\"black\", label=\"Training Set\")\n",
    "plt.xlabel('Number of K Nearest Neighbors')\n",
    "plt.ylabel('Mean of Classification Error')\n",
    "plt.gca().invert_xaxis()\n",
    "plt.legend(loc = \"lower left\")\n",
    "plt.show()"
   ]
  }
 ],
 "metadata": {
  "kernelspec": {
   "display_name": "Python 2",
   "language": "python",
   "name": "python2"
  },
  "language_info": {
   "codemirror_mode": {
    "name": "ipython",
    "version": 2
   },
   "file_extension": ".py",
   "mimetype": "text/x-python",
   "name": "python",
   "nbconvert_exporter": "python",
   "pygments_lexer": "ipython2",
   "version": "2.7.11"
  }
 },
 "nbformat": 4,
 "nbformat_minor": 0
}
