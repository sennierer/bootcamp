{
 "cells": [
  {
   "cell_type": "code",
   "execution_count": 1,
   "metadata": {
    "collapsed": true
   },
   "outputs": [],
   "source": [
    "import numpy as np\n",
    "import pandas as pd\n",
    "import seaborn as sns\n",
    "import matplotlib.pyplot as plt\n",
    "%matplotlib inline"
   ]
  },
  {
   "cell_type": "code",
   "execution_count": 2,
   "metadata": {
    "collapsed": false
   },
   "outputs": [
    {
     "name": "stdout",
     "output_type": "stream",
     "text": [
      "<class 'pandas.core.frame.DataFrame'>\n",
      "RangeIndex: 202055 entries, 0 to 202054\n",
      "Data columns (total 21 columns):\n",
      "new_id                   202055 non-null object\n",
      "add_to_cart_1            202055 non-null int64\n",
      "add_to_cart_click_1      202055 non-null int64\n",
      "add_to_cart_hover_1      202055 non-null int64\n",
      "click_1                  202055 non-null int64\n",
      "page_view_1              202055 non-null int64\n",
      "pastime_30               202055 non-null int64\n",
      "product_image_click_1    202055 non-null int64\n",
      "product_image_hover_1    202055 non-null int64\n",
      "reactive_1               202055 non-null int64\n",
      "scroll_percent_40        202055 non-null int64\n",
      "scroll_percent_60        202055 non-null int64\n",
      "scroll_percent_80        202055 non-null int64\n",
      "scroll_percent_100       202055 non-null int64\n",
      "social_click_1           202055 non-null int64\n",
      "tab_click_1              202055 non-null int64\n",
      "wish_list_add_click_1    202055 non-null int64\n",
      "mouse_way_sum            202055 non-null int64\n",
      "mouse_velocity_avg       202055 non-null int64\n",
      "text_selection_1         202055 non-null int64\n",
      "conversion               202055 non-null int64\n",
      "dtypes: int64(20), object(1)\n",
      "memory usage: 32.4+ MB\n"
     ]
    }
   ],
   "source": [
    "data = pd.read_csv(\"./data/user_product_events_0428.csv\", low_memory = False, sep=\";\")\n",
    "data.info()"
   ]
  },
  {
   "cell_type": "code",
   "execution_count": 3,
   "metadata": {
    "collapsed": true
   },
   "outputs": [],
   "source": [
    "data.drop(['new_id','add_to_cart_1','add_to_cart_click_1', 'add_to_cart_hover_1'],1, inplace=True)"
   ]
  },
  {
   "cell_type": "code",
   "execution_count": 4,
   "metadata": {
    "collapsed": true
   },
   "outputs": [],
   "source": [
    "n = 5000\n",
    "sample1 = data.loc[data.conversion == 1].sample(n=n, replace=False)\n",
    "sample2 = data.loc[data.conversion == 0].sample(n=n, replace=False)\n",
    "df = pd.concat([sample1, sample2])\n",
    "df = df.sample(frac=1)\n",
    "X = df.drop('conversion', axis=1)  \n",
    "y = df.loc[:, 'conversion']"
   ]
  },
  {
   "cell_type": "code",
   "execution_count": 3,
   "metadata": {
    "collapsed": false
   },
   "outputs": [
    {
     "data": {
      "text/html": [
       "<div>\n",
       "<table border=\"1\" class=\"dataframe\">\n",
       "  <thead>\n",
       "    <tr style=\"text-align: right;\">\n",
       "      <th></th>\n",
       "      <th>new_id</th>\n",
       "      <th>add_to_cart_1</th>\n",
       "      <th>add_to_cart_click_1</th>\n",
       "      <th>add_to_cart_hover_1</th>\n",
       "      <th>click_1</th>\n",
       "      <th>page_view_1</th>\n",
       "      <th>pastime_30</th>\n",
       "      <th>product_image_click_1</th>\n",
       "      <th>product_image_hover_1</th>\n",
       "      <th>reactive_1</th>\n",
       "    </tr>\n",
       "  </thead>\n",
       "  <tbody>\n",
       "    <tr>\n",
       "      <th>0</th>\n",
       "      <td>1001fonal_hu_1008174413_1920</td>\n",
       "      <td>0</td>\n",
       "      <td>0</td>\n",
       "      <td>0</td>\n",
       "      <td>0</td>\n",
       "      <td>1</td>\n",
       "      <td>0</td>\n",
       "      <td>0</td>\n",
       "      <td>0</td>\n",
       "      <td>0</td>\n",
       "    </tr>\n",
       "    <tr>\n",
       "      <th>1</th>\n",
       "      <td>1001fonal_hu_1065998225_669</td>\n",
       "      <td>0</td>\n",
       "      <td>0</td>\n",
       "      <td>0</td>\n",
       "      <td>0</td>\n",
       "      <td>1</td>\n",
       "      <td>0</td>\n",
       "      <td>0</td>\n",
       "      <td>0</td>\n",
       "      <td>0</td>\n",
       "    </tr>\n",
       "    <tr>\n",
       "      <th>2</th>\n",
       "      <td>1001fonal_hu_1101536556_3383</td>\n",
       "      <td>0</td>\n",
       "      <td>0</td>\n",
       "      <td>0</td>\n",
       "      <td>0</td>\n",
       "      <td>1</td>\n",
       "      <td>0</td>\n",
       "      <td>0</td>\n",
       "      <td>0</td>\n",
       "      <td>0</td>\n",
       "    </tr>\n",
       "    <tr>\n",
       "      <th>3</th>\n",
       "      <td>1001fonal_hu_1156769342_1812</td>\n",
       "      <td>0</td>\n",
       "      <td>0</td>\n",
       "      <td>0</td>\n",
       "      <td>2</td>\n",
       "      <td>1</td>\n",
       "      <td>1</td>\n",
       "      <td>1</td>\n",
       "      <td>0</td>\n",
       "      <td>1</td>\n",
       "    </tr>\n",
       "    <tr>\n",
       "      <th>4</th>\n",
       "      <td>1001fonal_hu_1156769342_2033</td>\n",
       "      <td>1</td>\n",
       "      <td>4</td>\n",
       "      <td>1</td>\n",
       "      <td>19</td>\n",
       "      <td>2</td>\n",
       "      <td>6</td>\n",
       "      <td>0</td>\n",
       "      <td>0</td>\n",
       "      <td>1</td>\n",
       "    </tr>\n",
       "    <tr>\n",
       "      <th>5</th>\n",
       "      <td>1001fonal_hu_1156769342_2381</td>\n",
       "      <td>0</td>\n",
       "      <td>0</td>\n",
       "      <td>0</td>\n",
       "      <td>1</td>\n",
       "      <td>1</td>\n",
       "      <td>0</td>\n",
       "      <td>0</td>\n",
       "      <td>0</td>\n",
       "      <td>0</td>\n",
       "    </tr>\n",
       "    <tr>\n",
       "      <th>6</th>\n",
       "      <td>1001fonal_hu_1156769342_3177</td>\n",
       "      <td>0</td>\n",
       "      <td>0</td>\n",
       "      <td>0</td>\n",
       "      <td>1</td>\n",
       "      <td>1</td>\n",
       "      <td>0</td>\n",
       "      <td>0</td>\n",
       "      <td>0</td>\n",
       "      <td>0</td>\n",
       "    </tr>\n",
       "    <tr>\n",
       "      <th>7</th>\n",
       "      <td>1001fonal_hu_1156769342_3464</td>\n",
       "      <td>0</td>\n",
       "      <td>0</td>\n",
       "      <td>0</td>\n",
       "      <td>1</td>\n",
       "      <td>1</td>\n",
       "      <td>0</td>\n",
       "      <td>0</td>\n",
       "      <td>1</td>\n",
       "      <td>0</td>\n",
       "    </tr>\n",
       "    <tr>\n",
       "      <th>8</th>\n",
       "      <td>1001fonal_hu_1162927773_2404</td>\n",
       "      <td>0</td>\n",
       "      <td>0</td>\n",
       "      <td>0</td>\n",
       "      <td>0</td>\n",
       "      <td>1</td>\n",
       "      <td>0</td>\n",
       "      <td>0</td>\n",
       "      <td>0</td>\n",
       "      <td>0</td>\n",
       "    </tr>\n",
       "    <tr>\n",
       "      <th>9</th>\n",
       "      <td>1001fonal_hu_117411794_1461</td>\n",
       "      <td>0</td>\n",
       "      <td>0</td>\n",
       "      <td>0</td>\n",
       "      <td>0</td>\n",
       "      <td>1</td>\n",
       "      <td>0</td>\n",
       "      <td>0</td>\n",
       "      <td>0</td>\n",
       "      <td>0</td>\n",
       "    </tr>\n",
       "  </tbody>\n",
       "</table>\n",
       "</div>"
      ],
      "text/plain": [
       "                         new_id  add_to_cart_1  add_to_cart_click_1  \\\n",
       "0  1001fonal_hu_1008174413_1920              0                    0   \n",
       "1   1001fonal_hu_1065998225_669              0                    0   \n",
       "2  1001fonal_hu_1101536556_3383              0                    0   \n",
       "3  1001fonal_hu_1156769342_1812              0                    0   \n",
       "4  1001fonal_hu_1156769342_2033              1                    4   \n",
       "5  1001fonal_hu_1156769342_2381              0                    0   \n",
       "6  1001fonal_hu_1156769342_3177              0                    0   \n",
       "7  1001fonal_hu_1156769342_3464              0                    0   \n",
       "8  1001fonal_hu_1162927773_2404              0                    0   \n",
       "9   1001fonal_hu_117411794_1461              0                    0   \n",
       "\n",
       "   add_to_cart_hover_1  click_1  page_view_1  pastime_30  \\\n",
       "0                    0        0            1           0   \n",
       "1                    0        0            1           0   \n",
       "2                    0        0            1           0   \n",
       "3                    0        2            1           1   \n",
       "4                    1       19            2           6   \n",
       "5                    0        1            1           0   \n",
       "6                    0        1            1           0   \n",
       "7                    0        1            1           0   \n",
       "8                    0        0            1           0   \n",
       "9                    0        0            1           0   \n",
       "\n",
       "   product_image_click_1  product_image_hover_1  reactive_1  \n",
       "0                      0                      0           0  \n",
       "1                      0                      0           0  \n",
       "2                      0                      0           0  \n",
       "3                      1                      0           1  \n",
       "4                      0                      0           1  \n",
       "5                      0                      0           0  \n",
       "6                      0                      0           0  \n",
       "7                      0                      1           0  \n",
       "8                      0                      0           0  \n",
       "9                      0                      0           0  "
      ]
     },
     "execution_count": 3,
     "metadata": {},
     "output_type": "execute_result"
    }
   ],
   "source": [
    "data.ix[:,:10].head(10)"
   ]
  },
  {
   "cell_type": "code",
   "execution_count": 14,
   "metadata": {
    "collapsed": false
   },
   "outputs": [
    {
     "data": {
      "text/html": [
       "<div>\n",
       "<table border=\"1\" class=\"dataframe\">\n",
       "  <thead>\n",
       "    <tr style=\"text-align: right;\">\n",
       "      <th></th>\n",
       "      <th>new_id</th>\n",
       "      <th>add_to_cart_1</th>\n",
       "      <th>add_to_cart_click_1</th>\n",
       "      <th>add_to_cart_hover_1</th>\n",
       "      <th>click_1</th>\n",
       "      <th>page_view_1</th>\n",
       "      <th>pastime_30</th>\n",
       "      <th>product_image_click_1</th>\n",
       "      <th>product_image_hover_1</th>\n",
       "      <th>reactive_1</th>\n",
       "    </tr>\n",
       "  </thead>\n",
       "  <tbody>\n",
       "    <tr>\n",
       "      <th>202045</th>\n",
       "      <td>zselykebabahaz_hu_5674174572_7864</td>\n",
       "      <td>0</td>\n",
       "      <td>0</td>\n",
       "      <td>0</td>\n",
       "      <td>2</td>\n",
       "      <td>1</td>\n",
       "      <td>0</td>\n",
       "      <td>0</td>\n",
       "      <td>0</td>\n",
       "      <td>0</td>\n",
       "    </tr>\n",
       "    <tr>\n",
       "      <th>202046</th>\n",
       "      <td>zselykebabahaz_hu_5801378907_7896</td>\n",
       "      <td>0</td>\n",
       "      <td>0</td>\n",
       "      <td>0</td>\n",
       "      <td>0</td>\n",
       "      <td>1</td>\n",
       "      <td>0</td>\n",
       "      <td>0</td>\n",
       "      <td>1</td>\n",
       "      <td>0</td>\n",
       "    </tr>\n",
       "    <tr>\n",
       "      <th>202047</th>\n",
       "      <td>zselykebabahaz_hu_5884492846_3057</td>\n",
       "      <td>0</td>\n",
       "      <td>0</td>\n",
       "      <td>0</td>\n",
       "      <td>0</td>\n",
       "      <td>1</td>\n",
       "      <td>0</td>\n",
       "      <td>0</td>\n",
       "      <td>0</td>\n",
       "      <td>0</td>\n",
       "    </tr>\n",
       "    <tr>\n",
       "      <th>202048</th>\n",
       "      <td>zselykebabahaz_hu_5884492846_7733</td>\n",
       "      <td>0</td>\n",
       "      <td>0</td>\n",
       "      <td>0</td>\n",
       "      <td>2</td>\n",
       "      <td>1</td>\n",
       "      <td>0</td>\n",
       "      <td>0</td>\n",
       "      <td>0</td>\n",
       "      <td>0</td>\n",
       "    </tr>\n",
       "    <tr>\n",
       "      <th>202049</th>\n",
       "      <td>zselykebabahaz_hu_810683468_5853</td>\n",
       "      <td>0</td>\n",
       "      <td>0</td>\n",
       "      <td>0</td>\n",
       "      <td>0</td>\n",
       "      <td>1</td>\n",
       "      <td>0</td>\n",
       "      <td>0</td>\n",
       "      <td>0</td>\n",
       "      <td>1</td>\n",
       "    </tr>\n",
       "    <tr>\n",
       "      <th>202050</th>\n",
       "      <td>zselykebabahaz_hu_8201004115_7820</td>\n",
       "      <td>0</td>\n",
       "      <td>0</td>\n",
       "      <td>0</td>\n",
       "      <td>0</td>\n",
       "      <td>1</td>\n",
       "      <td>0</td>\n",
       "      <td>0</td>\n",
       "      <td>0</td>\n",
       "      <td>0</td>\n",
       "    </tr>\n",
       "    <tr>\n",
       "      <th>202051</th>\n",
       "      <td>zselykebabahaz_hu_8960891596_7769</td>\n",
       "      <td>0</td>\n",
       "      <td>0</td>\n",
       "      <td>0</td>\n",
       "      <td>0</td>\n",
       "      <td>1</td>\n",
       "      <td>2</td>\n",
       "      <td>0</td>\n",
       "      <td>0</td>\n",
       "      <td>1</td>\n",
       "    </tr>\n",
       "    <tr>\n",
       "      <th>202052</th>\n",
       "      <td>zselykebabahaz_hu_9477303263_364</td>\n",
       "      <td>0</td>\n",
       "      <td>0</td>\n",
       "      <td>0</td>\n",
       "      <td>0</td>\n",
       "      <td>1</td>\n",
       "      <td>0</td>\n",
       "      <td>0</td>\n",
       "      <td>0</td>\n",
       "      <td>0</td>\n",
       "    </tr>\n",
       "    <tr>\n",
       "      <th>202053</th>\n",
       "      <td>zselykebabahaz_hu_9477303263_614</td>\n",
       "      <td>0</td>\n",
       "      <td>0</td>\n",
       "      <td>0</td>\n",
       "      <td>0</td>\n",
       "      <td>1</td>\n",
       "      <td>0</td>\n",
       "      <td>0</td>\n",
       "      <td>0</td>\n",
       "      <td>0</td>\n",
       "    </tr>\n",
       "    <tr>\n",
       "      <th>202054</th>\n",
       "      <td>zselykebabahaz_hu_9876232552_7847</td>\n",
       "      <td>0</td>\n",
       "      <td>0</td>\n",
       "      <td>0</td>\n",
       "      <td>0</td>\n",
       "      <td>1</td>\n",
       "      <td>0</td>\n",
       "      <td>0</td>\n",
       "      <td>0</td>\n",
       "      <td>0</td>\n",
       "    </tr>\n",
       "  </tbody>\n",
       "</table>\n",
       "</div>"
      ],
      "text/plain": [
       "                                   new_id  add_to_cart_1  add_to_cart_click_1  \\\n",
       "202045  zselykebabahaz_hu_5674174572_7864              0                    0   \n",
       "202046  zselykebabahaz_hu_5801378907_7896              0                    0   \n",
       "202047  zselykebabahaz_hu_5884492846_3057              0                    0   \n",
       "202048  zselykebabahaz_hu_5884492846_7733              0                    0   \n",
       "202049   zselykebabahaz_hu_810683468_5853              0                    0   \n",
       "202050  zselykebabahaz_hu_8201004115_7820              0                    0   \n",
       "202051  zselykebabahaz_hu_8960891596_7769              0                    0   \n",
       "202052   zselykebabahaz_hu_9477303263_364              0                    0   \n",
       "202053   zselykebabahaz_hu_9477303263_614              0                    0   \n",
       "202054  zselykebabahaz_hu_9876232552_7847              0                    0   \n",
       "\n",
       "        add_to_cart_hover_1  click_1  page_view_1  pastime_30  \\\n",
       "202045                    0        2            1           0   \n",
       "202046                    0        0            1           0   \n",
       "202047                    0        0            1           0   \n",
       "202048                    0        2            1           0   \n",
       "202049                    0        0            1           0   \n",
       "202050                    0        0            1           0   \n",
       "202051                    0        0            1           2   \n",
       "202052                    0        0            1           0   \n",
       "202053                    0        0            1           0   \n",
       "202054                    0        0            1           0   \n",
       "\n",
       "        product_image_click_1  product_image_hover_1  reactive_1  \n",
       "202045                      0                      0           0  \n",
       "202046                      0                      1           0  \n",
       "202047                      0                      0           0  \n",
       "202048                      0                      0           0  \n",
       "202049                      0                      0           1  \n",
       "202050                      0                      0           0  \n",
       "202051                      0                      0           1  \n",
       "202052                      0                      0           0  \n",
       "202053                      0                      0           0  \n",
       "202054                      0                      0           0  "
      ]
     },
     "execution_count": 14,
     "metadata": {},
     "output_type": "execute_result"
    }
   ],
   "source": [
    "data.ix[:,:10].tail(10)"
   ]
  },
  {
   "cell_type": "code",
   "execution_count": 53,
   "metadata": {
    "collapsed": false
   },
   "outputs": [
    {
     "data": {
      "text/html": [
       "<div>\n",
       "<table border=\"1\" class=\"dataframe\">\n",
       "  <thead>\n",
       "    <tr style=\"text-align: right;\">\n",
       "      <th></th>\n",
       "      <th>scroll_percent_40</th>\n",
       "      <th>scroll_percent_60</th>\n",
       "      <th>scroll_percent_80</th>\n",
       "      <th>scroll_percent_100</th>\n",
       "      <th>social_click_1</th>\n",
       "      <th>tab_click_1</th>\n",
       "      <th>wish_list_add_click_1</th>\n",
       "      <th>mouse_way_sum</th>\n",
       "      <th>mouse_velocity_avg</th>\n",
       "      <th>text_selection_1</th>\n",
       "      <th>conversion</th>\n",
       "    </tr>\n",
       "  </thead>\n",
       "  <tbody>\n",
       "    <tr>\n",
       "      <th>0</th>\n",
       "      <td>0</td>\n",
       "      <td>1</td>\n",
       "      <td>1</td>\n",
       "      <td>1</td>\n",
       "      <td>0</td>\n",
       "      <td>0</td>\n",
       "      <td>0</td>\n",
       "      <td>0</td>\n",
       "      <td>0</td>\n",
       "      <td>0</td>\n",
       "      <td>0</td>\n",
       "    </tr>\n",
       "    <tr>\n",
       "      <th>1</th>\n",
       "      <td>0</td>\n",
       "      <td>0</td>\n",
       "      <td>0</td>\n",
       "      <td>0</td>\n",
       "      <td>0</td>\n",
       "      <td>0</td>\n",
       "      <td>0</td>\n",
       "      <td>0</td>\n",
       "      <td>0</td>\n",
       "      <td>0</td>\n",
       "      <td>0</td>\n",
       "    </tr>\n",
       "    <tr>\n",
       "      <th>2</th>\n",
       "      <td>0</td>\n",
       "      <td>0</td>\n",
       "      <td>0</td>\n",
       "      <td>0</td>\n",
       "      <td>0</td>\n",
       "      <td>0</td>\n",
       "      <td>0</td>\n",
       "      <td>0</td>\n",
       "      <td>0</td>\n",
       "      <td>0</td>\n",
       "      <td>0</td>\n",
       "    </tr>\n",
       "    <tr>\n",
       "      <th>3</th>\n",
       "      <td>1</td>\n",
       "      <td>1</td>\n",
       "      <td>0</td>\n",
       "      <td>0</td>\n",
       "      <td>0</td>\n",
       "      <td>0</td>\n",
       "      <td>0</td>\n",
       "      <td>41</td>\n",
       "      <td>4</td>\n",
       "      <td>0</td>\n",
       "      <td>0</td>\n",
       "    </tr>\n",
       "    <tr>\n",
       "      <th>4</th>\n",
       "      <td>2</td>\n",
       "      <td>2</td>\n",
       "      <td>2</td>\n",
       "      <td>0</td>\n",
       "      <td>0</td>\n",
       "      <td>0</td>\n",
       "      <td>0</td>\n",
       "      <td>181</td>\n",
       "      <td>10</td>\n",
       "      <td>0</td>\n",
       "      <td>1</td>\n",
       "    </tr>\n",
       "    <tr>\n",
       "      <th>5</th>\n",
       "      <td>1</td>\n",
       "      <td>1</td>\n",
       "      <td>1</td>\n",
       "      <td>0</td>\n",
       "      <td>0</td>\n",
       "      <td>0</td>\n",
       "      <td>0</td>\n",
       "      <td>0</td>\n",
       "      <td>0</td>\n",
       "      <td>0</td>\n",
       "      <td>0</td>\n",
       "    </tr>\n",
       "    <tr>\n",
       "      <th>6</th>\n",
       "      <td>1</td>\n",
       "      <td>1</td>\n",
       "      <td>0</td>\n",
       "      <td>0</td>\n",
       "      <td>0</td>\n",
       "      <td>0</td>\n",
       "      <td>0</td>\n",
       "      <td>0</td>\n",
       "      <td>0</td>\n",
       "      <td>0</td>\n",
       "      <td>0</td>\n",
       "    </tr>\n",
       "    <tr>\n",
       "      <th>7</th>\n",
       "      <td>1</td>\n",
       "      <td>1</td>\n",
       "      <td>1</td>\n",
       "      <td>0</td>\n",
       "      <td>0</td>\n",
       "      <td>0</td>\n",
       "      <td>0</td>\n",
       "      <td>0</td>\n",
       "      <td>0</td>\n",
       "      <td>0</td>\n",
       "      <td>0</td>\n",
       "    </tr>\n",
       "    <tr>\n",
       "      <th>8</th>\n",
       "      <td>1</td>\n",
       "      <td>1</td>\n",
       "      <td>1</td>\n",
       "      <td>0</td>\n",
       "      <td>0</td>\n",
       "      <td>0</td>\n",
       "      <td>0</td>\n",
       "      <td>0</td>\n",
       "      <td>0</td>\n",
       "      <td>0</td>\n",
       "      <td>0</td>\n",
       "    </tr>\n",
       "    <tr>\n",
       "      <th>9</th>\n",
       "      <td>1</td>\n",
       "      <td>1</td>\n",
       "      <td>0</td>\n",
       "      <td>0</td>\n",
       "      <td>0</td>\n",
       "      <td>0</td>\n",
       "      <td>0</td>\n",
       "      <td>0</td>\n",
       "      <td>0</td>\n",
       "      <td>0</td>\n",
       "      <td>0</td>\n",
       "    </tr>\n",
       "  </tbody>\n",
       "</table>\n",
       "</div>"
      ],
      "text/plain": [
       "   scroll_percent_40  scroll_percent_60  scroll_percent_80  \\\n",
       "0                  0                  1                  1   \n",
       "1                  0                  0                  0   \n",
       "2                  0                  0                  0   \n",
       "3                  1                  1                  0   \n",
       "4                  2                  2                  2   \n",
       "5                  1                  1                  1   \n",
       "6                  1                  1                  0   \n",
       "7                  1                  1                  1   \n",
       "8                  1                  1                  1   \n",
       "9                  1                  1                  0   \n",
       "\n",
       "   scroll_percent_100  social_click_1  tab_click_1  wish_list_add_click_1  \\\n",
       "0                   1               0            0                      0   \n",
       "1                   0               0            0                      0   \n",
       "2                   0               0            0                      0   \n",
       "3                   0               0            0                      0   \n",
       "4                   0               0            0                      0   \n",
       "5                   0               0            0                      0   \n",
       "6                   0               0            0                      0   \n",
       "7                   0               0            0                      0   \n",
       "8                   0               0            0                      0   \n",
       "9                   0               0            0                      0   \n",
       "\n",
       "   mouse_way_sum  mouse_velocity_avg  text_selection_1  conversion  \n",
       "0              0                   0                 0           0  \n",
       "1              0                   0                 0           0  \n",
       "2              0                   0                 0           0  \n",
       "3             41                   4                 0           0  \n",
       "4            181                  10                 0           1  \n",
       "5              0                   0                 0           0  \n",
       "6              0                   0                 0           0  \n",
       "7              0                   0                 0           0  \n",
       "8              0                   0                 0           0  \n",
       "9              0                   0                 0           0  "
      ]
     },
     "execution_count": 53,
     "metadata": {},
     "output_type": "execute_result"
    }
   ],
   "source": [
    "data.ix[:,8:].head(10)"
   ]
  },
  {
   "cell_type": "code",
   "execution_count": 20,
   "metadata": {
    "collapsed": false
   },
   "outputs": [
    {
     "data": {
      "text/html": [
       "<div>\n",
       "<table border=\"1\" class=\"dataframe\">\n",
       "  <thead>\n",
       "    <tr style=\"text-align: right;\">\n",
       "      <th></th>\n",
       "      <th>scroll_percent_40</th>\n",
       "      <th>scroll_percent_60</th>\n",
       "      <th>scroll_percent_80</th>\n",
       "      <th>scroll_percent_100</th>\n",
       "      <th>social_click_1</th>\n",
       "      <th>tab_click_1</th>\n",
       "      <th>wish_list_add_click_1</th>\n",
       "      <th>mouse_way_sum</th>\n",
       "      <th>mouse_velocity_avg</th>\n",
       "      <th>text_selection_1</th>\n",
       "      <th>conversion</th>\n",
       "    </tr>\n",
       "  </thead>\n",
       "  <tbody>\n",
       "    <tr>\n",
       "      <th>count</th>\n",
       "      <td>202055.000000</td>\n",
       "      <td>202055.000000</td>\n",
       "      <td>202055.000000</td>\n",
       "      <td>202055.000000</td>\n",
       "      <td>202055.000000</td>\n",
       "      <td>202055.000000</td>\n",
       "      <td>202055.000000</td>\n",
       "      <td>202055.000000</td>\n",
       "      <td>202055.000000</td>\n",
       "      <td>202055.000000</td>\n",
       "      <td>202055.000000</td>\n",
       "    </tr>\n",
       "    <tr>\n",
       "      <th>mean</th>\n",
       "      <td>0.631249</td>\n",
       "      <td>0.432268</td>\n",
       "      <td>0.243117</td>\n",
       "      <td>0.113039</td>\n",
       "      <td>0.000530</td>\n",
       "      <td>0.069427</td>\n",
       "      <td>0.002559</td>\n",
       "      <td>35.510059</td>\n",
       "      <td>3.275079</td>\n",
       "      <td>0.052451</td>\n",
       "      <td>0.047645</td>\n",
       "    </tr>\n",
       "    <tr>\n",
       "      <th>std</th>\n",
       "      <td>0.658034</td>\n",
       "      <td>0.601966</td>\n",
       "      <td>0.491962</td>\n",
       "      <td>0.345091</td>\n",
       "      <td>0.029925</td>\n",
       "      <td>0.401811</td>\n",
       "      <td>0.060504</td>\n",
       "      <td>122.267255</td>\n",
       "      <td>11.123654</td>\n",
       "      <td>0.296509</td>\n",
       "      <td>0.213015</td>\n",
       "    </tr>\n",
       "    <tr>\n",
       "      <th>min</th>\n",
       "      <td>0.000000</td>\n",
       "      <td>0.000000</td>\n",
       "      <td>0.000000</td>\n",
       "      <td>0.000000</td>\n",
       "      <td>0.000000</td>\n",
       "      <td>0.000000</td>\n",
       "      <td>0.000000</td>\n",
       "      <td>0.000000</td>\n",
       "      <td>0.000000</td>\n",
       "      <td>0.000000</td>\n",
       "      <td>0.000000</td>\n",
       "    </tr>\n",
       "    <tr>\n",
       "      <th>25%</th>\n",
       "      <td>0.000000</td>\n",
       "      <td>0.000000</td>\n",
       "      <td>0.000000</td>\n",
       "      <td>0.000000</td>\n",
       "      <td>0.000000</td>\n",
       "      <td>0.000000</td>\n",
       "      <td>0.000000</td>\n",
       "      <td>0.000000</td>\n",
       "      <td>0.000000</td>\n",
       "      <td>0.000000</td>\n",
       "      <td>0.000000</td>\n",
       "    </tr>\n",
       "    <tr>\n",
       "      <th>50%</th>\n",
       "      <td>1.000000</td>\n",
       "      <td>0.000000</td>\n",
       "      <td>0.000000</td>\n",
       "      <td>0.000000</td>\n",
       "      <td>0.000000</td>\n",
       "      <td>0.000000</td>\n",
       "      <td>0.000000</td>\n",
       "      <td>0.000000</td>\n",
       "      <td>0.000000</td>\n",
       "      <td>0.000000</td>\n",
       "      <td>0.000000</td>\n",
       "    </tr>\n",
       "    <tr>\n",
       "      <th>75%</th>\n",
       "      <td>1.000000</td>\n",
       "      <td>1.000000</td>\n",
       "      <td>0.000000</td>\n",
       "      <td>0.000000</td>\n",
       "      <td>0.000000</td>\n",
       "      <td>0.000000</td>\n",
       "      <td>0.000000</td>\n",
       "      <td>15.000000</td>\n",
       "      <td>4.000000</td>\n",
       "      <td>0.000000</td>\n",
       "      <td>0.000000</td>\n",
       "    </tr>\n",
       "    <tr>\n",
       "      <th>max</th>\n",
       "      <td>21.000000</td>\n",
       "      <td>20.000000</td>\n",
       "      <td>23.000000</td>\n",
       "      <td>9.000000</td>\n",
       "      <td>9.000000</td>\n",
       "      <td>21.000000</td>\n",
       "      <td>9.000000</td>\n",
       "      <td>10593.000000</td>\n",
       "      <td>2952.000000</td>\n",
       "      <td>18.000000</td>\n",
       "      <td>1.000000</td>\n",
       "    </tr>\n",
       "  </tbody>\n",
       "</table>\n",
       "</div>"
      ],
      "text/plain": [
       "       scroll_percent_40  scroll_percent_60  scroll_percent_80  \\\n",
       "count      202055.000000      202055.000000      202055.000000   \n",
       "mean            0.631249           0.432268           0.243117   \n",
       "std             0.658034           0.601966           0.491962   \n",
       "min             0.000000           0.000000           0.000000   \n",
       "25%             0.000000           0.000000           0.000000   \n",
       "50%             1.000000           0.000000           0.000000   \n",
       "75%             1.000000           1.000000           0.000000   \n",
       "max            21.000000          20.000000          23.000000   \n",
       "\n",
       "       scroll_percent_100  social_click_1    tab_click_1  \\\n",
       "count       202055.000000   202055.000000  202055.000000   \n",
       "mean             0.113039        0.000530       0.069427   \n",
       "std              0.345091        0.029925       0.401811   \n",
       "min              0.000000        0.000000       0.000000   \n",
       "25%              0.000000        0.000000       0.000000   \n",
       "50%              0.000000        0.000000       0.000000   \n",
       "75%              0.000000        0.000000       0.000000   \n",
       "max              9.000000        9.000000      21.000000   \n",
       "\n",
       "       wish_list_add_click_1  mouse_way_sum  mouse_velocity_avg  \\\n",
       "count          202055.000000  202055.000000       202055.000000   \n",
       "mean                0.002559      35.510059            3.275079   \n",
       "std                 0.060504     122.267255           11.123654   \n",
       "min                 0.000000       0.000000            0.000000   \n",
       "25%                 0.000000       0.000000            0.000000   \n",
       "50%                 0.000000       0.000000            0.000000   \n",
       "75%                 0.000000      15.000000            4.000000   \n",
       "max                 9.000000   10593.000000         2952.000000   \n",
       "\n",
       "       text_selection_1     conversion  \n",
       "count     202055.000000  202055.000000  \n",
       "mean           0.052451       0.047645  \n",
       "std            0.296509       0.213015  \n",
       "min            0.000000       0.000000  \n",
       "25%            0.000000       0.000000  \n",
       "50%            0.000000       0.000000  \n",
       "75%            0.000000       0.000000  \n",
       "max           18.000000       1.000000  "
      ]
     },
     "execution_count": 20,
     "metadata": {},
     "output_type": "execute_result"
    }
   ],
   "source": [
    "data.ix[:,10:].describe(include = 'all')"
   ]
  },
  {
   "cell_type": "code",
   "execution_count": 23,
   "metadata": {
    "collapsed": false
   },
   "outputs": [
    {
     "data": {
      "text/plain": [
       "0     192920\n",
       "1       8621\n",
       "2        420\n",
       "3         67\n",
       "4         12\n",
       "5          9\n",
       "6          3\n",
       "7          2\n",
       "13         1\n",
       "Name: add_to_cart_hover_1, dtype: int64"
      ]
     },
     "execution_count": 23,
     "metadata": {},
     "output_type": "execute_result"
    }
   ],
   "source": [
    "data.add_to_cart_hover_1.value_counts()"
   ]
  },
  {
   "cell_type": "code",
   "execution_count": 5,
   "metadata": {
    "collapsed": false
   },
   "outputs": [
    {
     "data": {
      "text/html": [
       "<div>\n",
       "<table border=\"1\" class=\"dataframe\">\n",
       "  <thead>\n",
       "    <tr style=\"text-align: right;\">\n",
       "      <th>conversion</th>\n",
       "      <th>0</th>\n",
       "      <th>1</th>\n",
       "    </tr>\n",
       "    <tr>\n",
       "      <th>add_to_cart_hover_1</th>\n",
       "      <th></th>\n",
       "      <th></th>\n",
       "    </tr>\n",
       "  </thead>\n",
       "  <tbody>\n",
       "    <tr>\n",
       "      <th>0</th>\n",
       "      <td>189637</td>\n",
       "      <td>3283</td>\n",
       "    </tr>\n",
       "    <tr>\n",
       "      <th>1</th>\n",
       "      <td>2750</td>\n",
       "      <td>5871</td>\n",
       "    </tr>\n",
       "    <tr>\n",
       "      <th>2</th>\n",
       "      <td>37</td>\n",
       "      <td>383</td>\n",
       "    </tr>\n",
       "    <tr>\n",
       "      <th>3</th>\n",
       "      <td>4</td>\n",
       "      <td>63</td>\n",
       "    </tr>\n",
       "    <tr>\n",
       "      <th>4</th>\n",
       "      <td>0</td>\n",
       "      <td>12</td>\n",
       "    </tr>\n",
       "    <tr>\n",
       "      <th>5</th>\n",
       "      <td>0</td>\n",
       "      <td>9</td>\n",
       "    </tr>\n",
       "    <tr>\n",
       "      <th>6</th>\n",
       "      <td>0</td>\n",
       "      <td>3</td>\n",
       "    </tr>\n",
       "    <tr>\n",
       "      <th>7</th>\n",
       "      <td>0</td>\n",
       "      <td>2</td>\n",
       "    </tr>\n",
       "    <tr>\n",
       "      <th>13</th>\n",
       "      <td>0</td>\n",
       "      <td>1</td>\n",
       "    </tr>\n",
       "  </tbody>\n",
       "</table>\n",
       "</div>"
      ],
      "text/plain": [
       "conversion                0     1\n",
       "add_to_cart_hover_1              \n",
       "0                    189637  3283\n",
       "1                      2750  5871\n",
       "2                        37   383\n",
       "3                         4    63\n",
       "4                         0    12\n",
       "5                         0     9\n",
       "6                         0     3\n",
       "7                         0     2\n",
       "13                        0     1"
      ]
     },
     "execution_count": 5,
     "metadata": {},
     "output_type": "execute_result"
    }
   ],
   "source": [
    "pd.crosstab(data.add_to_cart_hover_1, data.conversion)"
   ]
  },
  {
   "cell_type": "code",
   "execution_count": 3,
   "metadata": {
    "collapsed": true
   },
   "outputs": [],
   "source": [
    "data.drop(['new_id','add_to_cart_1','add_to_cart_click_1', 'add_to_cart_hover_1'],1, inplace=True)"
   ]
  },
  {
   "cell_type": "code",
   "execution_count": 5,
   "metadata": {
    "collapsed": false
   },
   "outputs": [],
   "source": [
    "n = 5000\n",
    "sample1 = data.loc[data.conversion == 1].sample(n=n, replace=False)\n",
    "sample2 = data.loc[data.conversion == 0].sample(n=n, replace=False)\n",
    "df = pd.concat([sample1, sample2])\n",
    "df = df.sample(frac=1)"
   ]
  },
  {
   "cell_type": "code",
   "execution_count": 6,
   "metadata": {
    "collapsed": false
   },
   "outputs": [
    {
     "data": {
      "text/plain": [
       "(10000, 17)"
      ]
     },
     "execution_count": 6,
     "metadata": {},
     "output_type": "execute_result"
    }
   ],
   "source": [
    "df.shape"
   ]
  },
  {
   "cell_type": "code",
   "execution_count": 59,
   "metadata": {
    "collapsed": false
   },
   "outputs": [],
   "source": [
    "from tpot import TPOT\n",
    "from sklearn.cross_validation import train_test_split\n",
    "\n",
    "X = df.drop('conversion', axis=1).values  \n",
    "y = df.loc[:, 'conversion'].values\n",
    "  \n",
    "X_train, X_test, y_train, y_test = train_test_split(X, y,  \n",
    "                                                    train_size=0.75,  \n",
    "                                                    test_size=0.25)"
   ]
  },
  {
   "cell_type": "code",
   "execution_count": 40,
   "metadata": {
    "collapsed": false
   },
   "outputs": [
    {
     "data": {
      "text/plain": [
       "(4000, 16)"
      ]
     },
     "execution_count": 40,
     "metadata": {},
     "output_type": "execute_result"
    }
   ],
   "source": [
    "X.shape"
   ]
  },
  {
   "cell_type": "code",
   "execution_count": 13,
   "metadata": {
    "collapsed": false,
    "scrolled": true
   },
   "outputs": [
    {
     "data": {
      "text/plain": [
       "(2000,)"
      ]
     },
     "execution_count": 13,
     "metadata": {},
     "output_type": "execute_result"
    }
   ],
   "source": [
    "y.shape"
   ]
  },
  {
   "cell_type": "code",
   "execution_count": 22,
   "metadata": {
    "collapsed": false
   },
   "outputs": [
    {
     "name": "stdout",
     "output_type": "stream",
     "text": [
      "0.866366655436\n"
     ]
    }
   ],
   "source": [
    "my_tpot = TPOT(generations=10)  \n",
    "my_tpot.fit(X_train, y_train)  \n",
    "  \n",
    "print(my_tpot.score(X_test, y_test))"
   ]
  },
  {
   "cell_type": "code",
   "execution_count": 17,
   "metadata": {
    "collapsed": true
   },
   "outputs": [],
   "source": [
    "my_tpot.export('exported_pipeline.py')"
   ]
  },
  {
   "cell_type": "code",
   "execution_count": 28,
   "metadata": {
    "collapsed": true
   },
   "outputs": [],
   "source": [
    "import sklearn\n",
    "from sklearn.linear_model import LogisticRegression\n",
    "from sklearn.metrics import roc_curve, auc\n",
    "from sklearn.cross_validation import cross_val_score\n",
    "from sklearn import metrics"
   ]
  },
  {
   "cell_type": "code",
   "execution_count": 41,
   "metadata": {
    "collapsed": false
   },
   "outputs": [
    {
     "data": {
      "text/plain": [
       "0.76566666666666672"
      ]
     },
     "execution_count": 41,
     "metadata": {},
     "output_type": "execute_result"
    }
   ],
   "source": [
    "model = LogisticRegression()\n",
    "model = model.fit(X_train, y_train)\n",
    "model.score(X_train, y_train)"
   ]
  },
  {
   "cell_type": "code",
   "execution_count": 42,
   "metadata": {
    "collapsed": false
   },
   "outputs": [
    {
     "name": "stdout",
     "output_type": "stream",
     "text": [
      "0.769\n",
      "0.819251326194\n",
      "[[435  80]\n",
      " [151 334]]\n",
      "             precision    recall  f1-score   support\n",
      "\n",
      "          0       0.74      0.84      0.79       515\n",
      "          1       0.81      0.69      0.74       485\n",
      "\n",
      "avg / total       0.77      0.77      0.77      1000\n",
      "\n"
     ]
    }
   ],
   "source": [
    "predicted = model.predict(X_test)\n",
    "probs = model.predict_proba(X_test)\n",
    "print metrics.accuracy_score(y_test, predicted)\n",
    "print metrics.roc_auc_score(y_test, probs[:, 1])\n",
    "print metrics.confusion_matrix(y_test, predicted)\n",
    "print metrics.classification_report(y_test, predicted)"
   ]
  },
  {
   "cell_type": "code",
   "execution_count": 43,
   "metadata": {
    "collapsed": false
   },
   "outputs": [
    {
     "data": {
      "image/png": "[encoded data removed]",
      "text/plain": [
       "<matplotlib.figure.Figure at 0x11456b610>"
      ]
     },
     "metadata": {},
     "output_type": "display_data"
    }
   ],
   "source": [
    "false_positive_rate, true_positive_rate, thresholds = roc_curve(y_test, predicted)\n",
    "roc_auc = auc(false_positive_rate, true_positive_rate)\n",
    "\n",
    "plt.title('Receiver Operating Characteristic')\n",
    "plt.plot(false_positive_rate, true_positive_rate, 'b',\n",
    "label='AUC = %0.2f'% roc_auc)\n",
    "plt.legend(loc='lower right')\n",
    "plt.plot([0,1],[0,1],'r--')\n",
    "plt.xlim([-0.1,1.2])\n",
    "plt.ylim([-0.1,1.2])\n",
    "plt.ylabel('True Positive Rate')\n",
    "plt.xlabel('False Positive Rate')\n",
    "plt.show()"
   ]
  },
  {
   "cell_type": "code",
   "execution_count": 48,
   "metadata": {
    "collapsed": false
   },
   "outputs": [
    {
     "data": {
      "text/plain": [
       "array([[  5.81292013e-01,   2.28556370e-01,  -4.85773066e-02,\n",
       "         -1.56416673e+00,   9.48033608e-02,   2.33060932e-02,\n",
       "         -1.41169130e-01,  -9.35299827e-02,  -1.14985683e-01,\n",
       "         -3.36794913e-01,  -5.38234122e-01,  -5.46301505e-01,\n",
       "          2.42012865e-01,   8.11803946e-04,  -1.52533837e-02,\n",
       "         -6.18245176e-01]])"
      ]
     },
     "execution_count": 48,
     "metadata": {},
     "output_type": "execute_result"
    }
   ],
   "source": [
    "model.coef_"
   ]
  },
  {
   "cell_type": "code",
   "execution_count": 49,
   "metadata": {
    "collapsed": false
   },
   "outputs": [
    {
     "data": {
      "text/plain": [
       "Index([u'click_1', u'page_view_1', u'pastime_30', u'product_image_click_1',\n",
       "       u'product_image_hover_1', u'reactive_1', u'scroll_percent_40',\n",
       "       u'scroll_percent_60', u'scroll_percent_80', u'scroll_percent_100',\n",
       "       u'social_click_1', u'tab_click_1', u'wish_list_add_click_1',\n",
       "       u'mouse_way_sum', u'mouse_velocity_avg', u'text_selection_1'],\n",
       "      dtype='object')"
      ]
     },
     "execution_count": 49,
     "metadata": {},
     "output_type": "execute_result"
    }
   ],
   "source": [
    "df.drop('conversion', axis=1).columns"
   ]
  },
  {
   "cell_type": "code",
   "execution_count": 54,
   "metadata": {
    "collapsed": false
   },
   "outputs": [
    {
     "data": {
      "text/plain": [
       "0.91566666666666663"
      ]
     },
     "execution_count": 54,
     "metadata": {},
     "output_type": "execute_result"
    }
   ],
   "source": [
    "from sklearn.ensemble import RandomForestClassifier\n",
    "clf = RandomForestClassifier(n_estimators=10)\n",
    "clf = clf.fit(X_train, y_train)\n",
    "clf.score(X_train, y_train)"
   ]
  },
  {
   "cell_type": "code",
   "execution_count": 10,
   "metadata": {
    "collapsed": true
   },
   "outputs": [],
   "source": [
    "n = 5000\n",
    "sample1 = data.loc[data.conversion == 1].sample(n=n, replace=False)\n",
    "sample2 = data.loc[data.conversion == 0].sample(n=n, replace=False)\n",
    "df = pd.concat([sample1, sample2])\n",
    "df = df.sample(frac=1)\n",
    "X = df.drop('conversion', axis=1)  \n",
    "y = df.loc[:, 'conversion']"
   ]
  },
  {
   "cell_type": "code",
   "execution_count": 69,
   "metadata": {
    "collapsed": false
   },
   "outputs": [
    {
     "name": "stdout",
     "output_type": "stream",
     "text": [
      "[ 0.8    0.788  0.763  0.798  0.786  0.76   0.785  0.781  0.788  0.761]\n",
      "0.781\n"
     ]
    }
   ],
   "source": [
    "from sklearn.tree import DecisionTreeClassifier\n",
    "clf = DecisionTreeClassifier(max_depth=None, min_samples_split=1,\n",
    "    random_state=0)\n",
    "scores = cross_val_score(clf, X, y, cv=10)\n",
    "print scores\n",
    "print scores.mean() "
   ]
  },
  {
   "cell_type": "code",
   "execution_count": 72,
   "metadata": {
    "collapsed": false
   },
   "outputs": [
    {
     "name": "stdout",
     "output_type": "stream",
     "text": [
      "0.781\n",
      "0.8037\n",
      "0.7947\n",
      "0.7622\n",
      "0.8124\n",
      "Duration: 0:00:04.016171\n"
     ]
    }
   ],
   "source": [
    "from sklearn.cross_validation import cross_val_score\n",
    "from sklearn.tree import DecisionTreeClassifier\n",
    "from sklearn.ensemble import RandomForestClassifier\n",
    "from sklearn.ensemble import ExtraTreesClassifier\n",
    "from sklearn.ensemble import AdaBoostClassifier\n",
    "from sklearn.ensemble import GradientBoostingClassifier\n",
    "from datetime import datetime\n",
    "start_time = datetime.now()\n",
    "\n",
    "clf = DecisionTreeClassifier(max_depth=None, min_samples_split=1,\n",
    "    random_state=0)\n",
    "scores = cross_val_score(clf, X, y, cv=10)\n",
    "print scores.mean()                             \n",
    "\n",
    "clf = RandomForestClassifier(n_estimators=10, max_depth=None,\n",
    "    min_samples_split=1, random_state=0)\n",
    "scores = cross_val_score(clf, X, y, cv=10)\n",
    "print scores.mean()                             \n",
    "\n",
    "clf = ExtraTreesClassifier(n_estimators=10, max_depth=None,\n",
    "    min_samples_split=1, random_state=0)\n",
    "scores = cross_val_score(clf, X, y, cv=10)\n",
    "print scores.mean()\n",
    "\n",
    "clf = LogisticRegression()\n",
    "scores = cross_val_score(clf, X, y, cv=10)\n",
    "print scores.mean()\n",
    "\n",
    "clf = AdaBoostClassifier(n_estimators=10)\n",
    "scores = cross_val_score(clf, X, y, cv=10)\n",
    "print scores.mean()\n",
    "\n",
    "clf = GradientBoostingClassifier(n_estimators=10, learning_rate=1.0,\n",
    "    max_depth=None, random_state=0).fit(X_train, y_train)\n",
    "scores = cross_val_score(clf, X, y, cv=10)\n",
    "print scores.mean()\n",
    "\n",
    "end_time = datetime.now()\n",
    "print('Duration: {}'.format(end_time - start_time))"
   ]
  },
  {
   "cell_type": "code",
   "execution_count": 67,
   "metadata": {
    "collapsed": false
   },
   "outputs": [
    {
     "name": "stdout",
     "output_type": "stream",
     "text": [
      "Accuracy: 0.76 (+/- 0.01) [Logistic Regression]\n",
      "Accuracy: 0.81 (+/- 0.01) [Random Forest]\n",
      "Accuracy: 0.57 (+/- 0.01) [naive Bayes]\n",
      "Accuracy: 0.76 (+/- 0.01) [Ensemble]\n"
     ]
    }
   ],
   "source": [
    "from sklearn import cross_validation\n",
    "from sklearn.linear_model import LogisticRegression\n",
    "from sklearn.naive_bayes import GaussianNB\n",
    "from sklearn.ensemble import RandomForestClassifier\n",
    "from sklearn.ensemble import VotingClassifier\n",
    "\n",
    "clf1 = LogisticRegression(random_state=1)\n",
    "clf2 = RandomForestClassifier(random_state=1)\n",
    "clf3 = GaussianNB()\n",
    "\n",
    "eclf = VotingClassifier(estimators=[('lr', clf1), ('rf', clf2), ('gnb', clf3)], voting='hard')\n",
    "\n",
    "for clf, label in zip([clf1, clf2, clf3, eclf], ['Logistic Regression', 'Random Forest', 'naive Bayes', 'Ensemble']):\n",
    "    scores = cross_validation.cross_val_score(clf, X_train, y_train, cv=5, scoring='accuracy')\n",
    "    print(\"Accuracy: %0.2f (+/- %0.2f) [%s]\" % (scores.mean(), scores.std(), label))"
   ]
  },
  {
   "cell_type": "code",
   "execution_count": 78,
   "metadata": {
    "collapsed": false
   },
   "outputs": [
    {
     "name": "stdout",
     "output_type": "stream",
     "text": [
      "running cross validation\n"
     ]
    },
    {
     "data": {
      "text/html": [
       "<div>\n",
       "<table border=\"1\" class=\"dataframe\">\n",
       "  <thead>\n",
       "    <tr style=\"text-align: right;\">\n",
       "      <th></th>\n",
       "      <th>test-error-mean</th>\n",
       "      <th>test-error-std</th>\n",
       "      <th>train-error-mean</th>\n",
       "      <th>train-error-std</th>\n",
       "    </tr>\n",
       "  </thead>\n",
       "  <tbody>\n",
       "    <tr>\n",
       "      <th>0</th>\n",
       "      <td>0.2197</td>\n",
       "      <td>0.012234</td>\n",
       "      <td>0.219700</td>\n",
       "      <td>0.003058</td>\n",
       "    </tr>\n",
       "    <tr>\n",
       "      <th>1</th>\n",
       "      <td>0.2197</td>\n",
       "      <td>0.012234</td>\n",
       "      <td>0.219700</td>\n",
       "      <td>0.003058</td>\n",
       "    </tr>\n",
       "    <tr>\n",
       "      <th>2</th>\n",
       "      <td>0.1872</td>\n",
       "      <td>0.008778</td>\n",
       "      <td>0.187200</td>\n",
       "      <td>0.002195</td>\n",
       "    </tr>\n",
       "    <tr>\n",
       "      <th>3</th>\n",
       "      <td>0.1868</td>\n",
       "      <td>0.009309</td>\n",
       "      <td>0.186625</td>\n",
       "      <td>0.001708</td>\n",
       "    </tr>\n",
       "    <tr>\n",
       "      <th>4</th>\n",
       "      <td>0.1876</td>\n",
       "      <td>0.009173</td>\n",
       "      <td>0.185375</td>\n",
       "      <td>0.001975</td>\n",
       "    </tr>\n",
       "    <tr>\n",
       "      <th>5</th>\n",
       "      <td>0.1878</td>\n",
       "      <td>0.009304</td>\n",
       "      <td>0.184650</td>\n",
       "      <td>0.001999</td>\n",
       "    </tr>\n",
       "    <tr>\n",
       "      <th>6</th>\n",
       "      <td>0.1882</td>\n",
       "      <td>0.010260</td>\n",
       "      <td>0.183325</td>\n",
       "      <td>0.000761</td>\n",
       "    </tr>\n",
       "    <tr>\n",
       "      <th>7</th>\n",
       "      <td>0.1881</td>\n",
       "      <td>0.010970</td>\n",
       "      <td>0.181450</td>\n",
       "      <td>0.001398</td>\n",
       "    </tr>\n",
       "    <tr>\n",
       "      <th>8</th>\n",
       "      <td>0.1877</td>\n",
       "      <td>0.011187</td>\n",
       "      <td>0.179775</td>\n",
       "      <td>0.001495</td>\n",
       "    </tr>\n",
       "    <tr>\n",
       "      <th>9</th>\n",
       "      <td>0.1871</td>\n",
       "      <td>0.010984</td>\n",
       "      <td>0.179275</td>\n",
       "      <td>0.001803</td>\n",
       "    </tr>\n",
       "  </tbody>\n",
       "</table>\n",
       "</div>"
      ],
      "text/plain": [
       "   test-error-mean  test-error-std  train-error-mean  train-error-std\n",
       "0           0.2197        0.012234          0.219700         0.003058\n",
       "1           0.2197        0.012234          0.219700         0.003058\n",
       "2           0.1872        0.008778          0.187200         0.002195\n",
       "3           0.1868        0.009309          0.186625         0.001708\n",
       "4           0.1876        0.009173          0.185375         0.001975\n",
       "5           0.1878        0.009304          0.184650         0.001999\n",
       "6           0.1882        0.010260          0.183325         0.000761\n",
       "7           0.1881        0.010970          0.181450         0.001398\n",
       "8           0.1877        0.011187          0.179775         0.001495\n",
       "9           0.1871        0.010984          0.179275         0.001803"
      ]
     },
     "execution_count": 78,
     "metadata": {},
     "output_type": "execute_result"
    }
   ],
   "source": [
    "import xgboost as xgb\n",
    "\n",
    "dtrain = xgb.DMatrix( X, label=y)\n",
    "param = {'max_depth':2, 'eta':1, 'silent':1, 'objective':'binary:logistic'}\n",
    "num_round = 10\n",
    "\n",
    "print ('running cross validation')\n",
    "# do cross validation, this will print result out as\n",
    "# [iteration]  metric_name:mean_value+std_value\n",
    "# std_value is standard deviation of the metric\n",
    "xgb.cv(param, dtrain, num_round, nfold=5,\n",
    "       metrics={'error'}, seed = 0)\n",
    "bst = xgb.train( plst, dtrain, num_round, evallist )"
   ]
  },
  {
   "cell_type": "code",
   "execution_count": 1,
   "metadata": {
    "collapsed": false
   },
   "outputs": [
    {
     "ename": "NameError",
     "evalue": "name 'xgb' is not defined",
     "output_type": "error",
     "traceback": [
      "\u001b[0;31m---------------------------------------------------------------------------\u001b[0m",
      "\u001b[0;31mNameError\u001b[0m                                 Traceback (most recent call last)",
      "\u001b[0;32m<ipython-input-1-8e1fdb87694c>\u001b[0m in \u001b[0;36m<module>\u001b[0;34m()\u001b[0m\n\u001b[0;32m----> 1\u001b[0;31m \u001b[0mxgb\u001b[0m\u001b[0;34m.\u001b[0m\u001b[0mplot_importance\u001b[0m\u001b[0;34m(\u001b[0m\u001b[0mbst\u001b[0m\u001b[0;34m)\u001b[0m\u001b[0;34m\u001b[0m\u001b[0m\n\u001b[0m",
      "\u001b[0;31mNameError\u001b[0m: name 'xgb' is not defined"
     ]
    }
   ],
   "source": [
    "xgb.plot_importance(bst)"
   ]
  },
  {
   "cell_type": "code",
   "execution_count": 6,
   "metadata": {
    "collapsed": false
   },
   "outputs": [
    {
     "name": "stdout",
     "output_type": "stream",
     "text": [
      "Feature ranking:\n",
      "1. feature 0 (0.399000)\n",
      "2. feature 1 (0.147948)\n",
      "3. feature 13 (0.079633)\n",
      "4. feature 3 (0.070246)\n",
      "5. feature 14 (0.064988)\n",
      "6. feature 2 (0.049015)\n",
      "7. feature 6 (0.043531)\n",
      "8. feature 5 (0.035981)\n",
      "9. feature 7 (0.025928)\n",
      "10. feature 11 (0.019664)\n",
      "11. feature 4 (0.019546)\n",
      "12. feature 8 (0.016271)\n",
      "13. feature 15 (0.014711)\n",
      "14. feature 9 (0.011219)\n",
      "15. feature 12 (0.001626)\n",
      "16. feature 10 (0.000693)\n"
     ]
    },
    {
     "data": {
      "image/png": "[encoded data removed]",
      "text/plain": [
       "<matplotlib.figure.Figure at 0x108932850>"
      ]
     },
     "metadata": {},
     "output_type": "display_data"
    }
   ],
   "source": [
    "import numpy as np\n",
    "import matplotlib.pyplot as plt\n",
    "\n",
    "from sklearn.ensemble import ExtraTreesClassifier\n",
    "\n",
    "# Build a forest and compute the feature importances\n",
    "forest = ExtraTreesClassifier(n_estimators=250,\n",
    "                              random_state=0)\n",
    "\n",
    "forest.fit(X, y)\n",
    "importances = forest.feature_importances_\n",
    "std = np.std([tree.feature_importances_ for tree in forest.estimators_],\n",
    "             axis=0)\n",
    "indices = np.argsort(importances)[::-1]\n",
    "\n",
    "# Print the feature ranking\n",
    "print(\"Feature ranking:\")\n",
    "\n",
    "for f in range(X.shape[1]):\n",
    "    print(\"%d. feature %d (%f)\" % (f + 1, indices[f], importances[indices[f]]))\n",
    "\n",
    "# Plot the feature importances of the forest\n",
    "plt.figure()\n",
    "plt.title(\"Feature importances\")\n",
    "plt.bar(range(X.shape[1]), importances[indices],\n",
    "       color=\"r\", yerr=std[indices], align=\"center\")\n",
    "plt.xticks(range(X.shape[1]), indices)\n",
    "plt.xlim([-1, X.shape[1]])\n",
    "plt.show()"
   ]
  },
  {
   "cell_type": "code",
   "execution_count": 8,
   "metadata": {
    "collapsed": false
   },
   "outputs": [
    {
     "data": {
      "text/plain": [
       "Index([u'click_1', u'page_view_1', u'pastime_30', u'product_image_click_1',\n",
       "       u'product_image_hover_1', u'reactive_1', u'scroll_percent_40',\n",
       "       u'scroll_percent_60', u'scroll_percent_80', u'scroll_percent_100',\n",
       "       u'social_click_1', u'tab_click_1', u'wish_list_add_click_1',\n",
       "       u'mouse_way_sum', u'mouse_velocity_avg', u'text_selection_1'],\n",
       "      dtype='object')"
      ]
     },
     "execution_count": 8,
     "metadata": {},
     "output_type": "execute_result"
    }
   ],
   "source": [
    "X.columns"
   ]
  },
  {
   "cell_type": "code",
   "execution_count": 12,
   "metadata": {
    "collapsed": false
   },
   "outputs": [
    {
     "name": "stdout",
     "output_type": "stream",
     "text": [
      "(10000, 6)\n"
     ]
    },
    {
     "ename": "AttributeError",
     "evalue": "'numpy.ndarray' object has no attribute 'head'",
     "output_type": "error",
     "traceback": [
      "\u001b[0;31m---------------------------------------------------------------------------\u001b[0m",
      "\u001b[0;31mAttributeError\u001b[0m                            Traceback (most recent call last)",
      "\u001b[0;32m<ipython-input-12-d6541023ce12>\u001b[0m in \u001b[0;36m<module>\u001b[0;34m()\u001b[0m\n\u001b[1;32m      4\u001b[0m \u001b[0mX_new\u001b[0m \u001b[0;34m=\u001b[0m \u001b[0mSelectKBest\u001b[0m\u001b[0;34m(\u001b[0m\u001b[0mchi2\u001b[0m\u001b[0;34m,\u001b[0m \u001b[0mk\u001b[0m\u001b[0;34m=\u001b[0m\u001b[0;36m6\u001b[0m\u001b[0;34m)\u001b[0m\u001b[0;34m.\u001b[0m\u001b[0mfit_transform\u001b[0m\u001b[0;34m(\u001b[0m\u001b[0mX\u001b[0m\u001b[0;34m,\u001b[0m \u001b[0my\u001b[0m\u001b[0;34m)\u001b[0m\u001b[0;34m\u001b[0m\u001b[0m\n\u001b[1;32m      5\u001b[0m \u001b[0;32mprint\u001b[0m \u001b[0mX_new\u001b[0m\u001b[0;34m.\u001b[0m\u001b[0mshape\u001b[0m\u001b[0;34m\u001b[0m\u001b[0m\n\u001b[0;32m----> 6\u001b[0;31m \u001b[0mX_new\u001b[0m\u001b[0;34m.\u001b[0m\u001b[0mhead\u001b[0m\u001b[0;34m(\u001b[0m\u001b[0;36m5\u001b[0m\u001b[0;34m)\u001b[0m\u001b[0;34m\u001b[0m\u001b[0m\n\u001b[0m",
      "\u001b[0;31mAttributeError\u001b[0m: 'numpy.ndarray' object has no attribute 'head'"
     ]
    }
   ],
   "source": [
    "from sklearn.feature_selection import SelectKBest\n",
    "from sklearn.feature_selection import chi2\n",
    "\n",
    "X_new = SelectKBest(chi2, k=6).fit_transform(X, y)\n",
    "print X_new.shape\n",
    "X_new.head(5)"
   ]
  },
  {
   "cell_type": "code",
   "execution_count": 13,
   "metadata": {
    "collapsed": false
   },
   "outputs": [
    {
     "name": "stdout",
     "output_type": "stream",
     "text": [
      "Logistic Regression \n",
      "\n",
      "The average accuracy score is: 0.70\n",
      "Confusion Matrix: \n",
      "[[4148  852]\n",
      " [2182 2818]]\n",
      "Classification Report: \n",
      "             precision    recall  f1-score   support\n",
      "\n",
      "          0       0.66      0.83      0.73      5000\n",
      "          1       0.77      0.56      0.65      5000\n",
      "\n",
      "avg / total       0.71      0.70      0.69     10000\n",
      "\n",
      "\n",
      "SVC \n",
      "\n",
      "The average accuracy score is: 0.74\n",
      "Confusion Matrix: \n",
      "[[3235 1765]\n",
      " [ 803 4197]]\n",
      "Classification Report: \n",
      "             precision    recall  f1-score   support\n",
      "\n",
      "          0       0.80      0.65      0.72      5000\n",
      "          1       0.70      0.84      0.77      5000\n",
      "\n",
      "avg / total       0.75      0.74      0.74     10000\n",
      "\n",
      "\n",
      "Decision Tree \n",
      "\n",
      "The average accuracy score is: 0.74\n",
      "Confusion Matrix: \n",
      "[[3806 1194]\n",
      " [1405 3595]]\n",
      "Classification Report: \n",
      "             precision    recall  f1-score   support\n",
      "\n",
      "          0       0.73      0.76      0.75      5000\n",
      "          1       0.75      0.72      0.73      5000\n",
      "\n",
      "avg / total       0.74      0.74      0.74     10000\n",
      "\n",
      "\n",
      "Random Forest \n",
      "\n",
      "The average accuracy score is: 0.75\n",
      "Confusion Matrix: \n",
      "[[3780 1220]\n",
      " [1253 3747]]\n",
      "Classification Report: \n",
      "             precision    recall  f1-score   support\n",
      "\n",
      "          0       0.75      0.76      0.75      5000\n",
      "          1       0.75      0.75      0.75      5000\n",
      "\n",
      "avg / total       0.75      0.75      0.75     10000\n",
      "\n",
      "\n",
      "ExtraTrees \n",
      "\n",
      "The average accuracy score is: 0.75\n",
      "Confusion Matrix: \n",
      "[[3827 1173]\n",
      " [1304 3696]]\n",
      "Classification Report: \n",
      "             precision    recall  f1-score   support\n",
      "\n",
      "          0       0.75      0.77      0.76      5000\n",
      "          1       0.76      0.74      0.75      5000\n",
      "\n",
      "avg / total       0.75      0.75      0.75     10000\n",
      "\n",
      "\n",
      "AdaBoost \n",
      "\n",
      "The average accuracy score is: 0.81\n",
      "Confusion Matrix: \n",
      "[[4093  907]\n",
      " [ 992 4008]]\n",
      "Classification Report: \n",
      "             precision    recall  f1-score   support\n",
      "\n",
      "          0       0.80      0.82      0.81      5000\n",
      "          1       0.82      0.80      0.81      5000\n",
      "\n",
      "avg / total       0.81      0.81      0.81     10000\n",
      "\n",
      "\n",
      "Gradient Boosting \n",
      "\n",
      "The average accuracy score is: 0.75\n",
      "Confusion Matrix: \n",
      "[[3828 1172]\n",
      " [1377 3623]]\n",
      "Classification Report: \n",
      "             precision    recall  f1-score   support\n",
      "\n",
      "          0       0.74      0.77      0.75      5000\n",
      "          1       0.76      0.72      0.74      5000\n",
      "\n",
      "avg / total       0.75      0.75      0.74     10000\n",
      "\n",
      "\n",
      "Duration: 0:01:47.181880\n"
     ]
    }
   ],
   "source": [
    "import sklearn.cross_validation as cv\n",
    "from sklearn.tree import DecisionTreeClassifier\n",
    "from sklearn.ensemble import RandomForestClassifier\n",
    "from sklearn.ensemble import ExtraTreesClassifier\n",
    "from sklearn.ensemble import AdaBoostClassifier\n",
    "from sklearn.ensemble import GradientBoostingClassifier\n",
    "from sklearn.linear_model import LogisticRegression\n",
    "from sklearn.svm import SVC\n",
    "\n",
    "from sklearn import metrics\n",
    "from datetime import datetime\n",
    "\n",
    "start_time = datetime.now()\n",
    "\n",
    "clf = LogisticRegression()\n",
    "scores = cv.cross_val_score(clf, X_new, y, cv=10)\n",
    "predicted = cv.cross_val_predict(clf, X_new, y, cv=10)\n",
    "print 'Logistic Regression \\n'\n",
    "print 'The average accuracy score is: %0.2f'% metrics.accuracy_score(y, predicted)\n",
    "print 'Confusion Matrix: \\n', metrics.confusion_matrix(y, predicted)\n",
    "print 'Classification Report: \\n' + metrics.classification_report(y, predicted) + '\\n'  \n",
    "\n",
    "clf = SVC(random_state=0)\n",
    "scores = cv.cross_val_score(clf, X_new, y, cv=10)\n",
    "predicted = cv.cross_val_predict(clf, X_new, y, cv=10)\n",
    "print 'SVC \\n'\n",
    "print 'The average accuracy score is: %0.2f'% metrics.accuracy_score(y, predicted)\n",
    "print 'Confusion Matrix: \\n', metrics.confusion_matrix(y, predicted)\n",
    "print 'Classification Report: \\n' + metrics.classification_report(y, predicted) + '\\n'  \n",
    "\n",
    "clf = DecisionTreeClassifier(max_depth=None, min_samples_split=1,\n",
    "    random_state=0)\n",
    "scores = cv.cross_val_score(clf, X_new, y, cv=10)\n",
    "predicted = cv.cross_val_predict(clf, X_new, y, cv=10)\n",
    "print 'Decision Tree \\n'\n",
    "print 'The average accuracy score is: %0.2f'% metrics.accuracy_score(y, predicted)\n",
    "print 'Confusion Matrix: \\n', metrics.confusion_matrix(y, predicted)\n",
    "print 'Classification Report: \\n' + metrics.classification_report(y, predicted) + '\\n'                            \n",
    "\n",
    "clf = RandomForestClassifier(n_estimators=10, max_depth=None,\n",
    "    min_samples_split=1, random_state=0)\n",
    "scores = cv.cross_val_score(clf, X_new, y, cv=10)\n",
    "predicted = cv.cross_val_predict(clf, X_new, y, cv=10)\n",
    "print 'Random Forest \\n'\n",
    "print 'The average accuracy score is: %0.2f'% metrics.accuracy_score(y, predicted)\n",
    "print 'Confusion Matrix: \\n', metrics.confusion_matrix(y, predicted)\n",
    "print 'Classification Report: \\n' + metrics.classification_report(y, predicted) + '\\n'                                \n",
    "\n",
    "clf = ExtraTreesClassifier(n_estimators=10, max_depth=None,\n",
    "    min_samples_split=1, random_state=0)\n",
    "scores = cv.cross_val_score(clf, X_new, y, cv=10)\n",
    "predicted = cv.cross_val_predict(clf, X_new, y, cv=10)\n",
    "print 'ExtraTrees \\n'\n",
    "print 'The average accuracy score is: %0.2f'% metrics.accuracy_score(y, predicted)\n",
    "print 'Confusion Matrix: \\n', metrics.confusion_matrix(y, predicted)\n",
    "print 'Classification Report: \\n' + metrics.classification_report(y, predicted) + '\\n'  \n",
    "\n",
    "clf = AdaBoostClassifier(n_estimators=10)\n",
    "scores = cv.cross_val_score(clf, X, y, cv=10)\n",
    "predicted = cv.cross_val_predict(clf, X, y, cv=10)\n",
    "print 'AdaBoost \\n'\n",
    "print 'The average accuracy score is: %0.2f'% metrics.accuracy_score(y, predicted)\n",
    "print 'Confusion Matrix: \\n', metrics.confusion_matrix(y, predicted)\n",
    "print 'Classification Report: \\n' + metrics.classification_report(y, predicted) + '\\n'  \n",
    "\n",
    "clf = GradientBoostingClassifier(n_estimators=10, learning_rate=1.0,\n",
    "    max_depth=None, random_state=0)\n",
    "scores = cv.cross_val_score(clf, X_new, y, cv=10)\n",
    "predicted = cv.cross_val_predict(clf, X_new, y, cv=10)\n",
    "print 'Gradient Boosting \\n'\n",
    "print 'The average accuracy score is: %0.2f'% metrics.accuracy_score(y, predicted)\n",
    "print 'Confusion Matrix: \\n', metrics.confusion_matrix(y, predicted)\n",
    "print 'Classification Report: \\n' + metrics.classification_report(y, predicted) + '\\n'  \n",
    "\n",
    "end_time = datetime.now()\n",
    "print('Duration: {}'.format(end_time - start_time))"
   ]
  },
  {
   "cell_type": "code",
   "execution_count": 5,
   "metadata": {
    "collapsed": true
   },
   "outputs": [],
   "source": [
    "import sklearn.cross_validation as cv\n",
    "from sklearn.tree import DecisionTreeClassifier\n",
    "from sklearn import metrics"
   ]
  },
  {
   "cell_type": "code",
   "execution_count": 6,
   "metadata": {
    "collapsed": false
   },
   "outputs": [
    {
     "name": "stdout",
     "output_type": "stream",
     "text": [
      "Decision Tree \n",
      "\n",
      "The average accuracy score is: 0.79\n",
      "Confusion Matrix: \n",
      "[[3813 1187]\n",
      " [ 957 4043]]\n",
      "Classification Report: \n",
      "             precision    recall  f1-score   support\n",
      "\n",
      "          0       0.80      0.76      0.78      5000\n",
      "          1       0.77      0.81      0.79      5000\n",
      "\n",
      "avg / total       0.79      0.79      0.79     10000\n",
      "\n",
      "\n"
     ]
    }
   ],
   "source": [
    "clf = DecisionTreeClassifier(max_depth=None, min_samples_split=1,\n",
    "    random_state=0)\n",
    "scores = cv.cross_val_score(clf, X, y, cv=10)\n",
    "predicted = cv.cross_val_predict(clf, X, y, cv=10)\n",
    "print 'Decision Tree \\n'\n",
    "print 'The average accuracy score is: %0.2f'% metrics.accuracy_score(y, predicted)\n",
    "print 'Confusion Matrix: \\n', metrics.confusion_matrix(y, predicted)\n",
    "print 'Classification Report: \\n' + metrics.classification_report(y, predicted) + '\\n'                            "
   ]
  },
  {
   "cell_type": "code",
   "execution_count": 9,
   "metadata": {
    "collapsed": false
   },
   "outputs": [
    {
     "ename": "NameError",
     "evalue": "global name 'dot_parser' is not defined",
     "output_type": "error",
     "traceback": [
      "\u001b[0;31m---------------------------------------------------------------------------\u001b[0m",
      "\u001b[0;31mNameError\u001b[0m                                 Traceback (most recent call last)",
      "\u001b[0;32m<ipython-input-9-de7a33c8ff2a>\u001b[0m in \u001b[0;36m<module>\u001b[0;34m()\u001b[0m\n\u001b[1;32m     10\u001b[0m \u001b[0mdot_data\u001b[0m\u001b[0;34m.\u001b[0m\u001b[0mgetvalue\u001b[0m\u001b[0;34m(\u001b[0m\u001b[0;34m)\u001b[0m\u001b[0;34m\u001b[0m\u001b[0m\n\u001b[1;32m     11\u001b[0m \u001b[0;34m\u001b[0m\u001b[0m\n\u001b[0;32m---> 12\u001b[0;31m \u001b[0mgraph\u001b[0m \u001b[0;34m=\u001b[0m \u001b[0mpydot\u001b[0m\u001b[0;34m.\u001b[0m\u001b[0mgraph_from_dot_data\u001b[0m\u001b[0;34m(\u001b[0m\u001b[0mdot_data\u001b[0m\u001b[0;34m.\u001b[0m\u001b[0mgetvalue\u001b[0m\u001b[0;34m(\u001b[0m\u001b[0;34m)\u001b[0m\u001b[0;34m)\u001b[0m\u001b[0;34m\u001b[0m\u001b[0m\n\u001b[0m\u001b[1;32m     13\u001b[0m \u001b[0;32mprint\u001b[0m \u001b[0;34m'\"graph\" is object of type {}'\u001b[0m\u001b[0;34m.\u001b[0m\u001b[0mformat\u001b[0m\u001b[0;34m(\u001b[0m\u001b[0mtype\u001b[0m\u001b[0;34m(\u001b[0m\u001b[0mgraph\u001b[0m\u001b[0;34m)\u001b[0m\u001b[0;34m)\u001b[0m\u001b[0;34m\u001b[0m\u001b[0m\n\u001b[1;32m     14\u001b[0m \u001b[0;34m\u001b[0m\u001b[0m\n",
      "\u001b[0;32m/Volumes/Data/Code/streambright/data-course/py2-env/lib/python2.7/site-packages/pydot.pyc\u001b[0m in \u001b[0;36mgraph_from_dot_data\u001b[0;34m(data)\u001b[0m\n\u001b[1;32m    218\u001b[0m     \"\"\"\n\u001b[1;32m    219\u001b[0m \u001b[0;34m\u001b[0m\u001b[0m\n\u001b[0;32m--> 220\u001b[0;31m     \u001b[0;32mreturn\u001b[0m \u001b[0mdot_parser\u001b[0m\u001b[0;34m.\u001b[0m\u001b[0mparse_dot_data\u001b[0m\u001b[0;34m(\u001b[0m\u001b[0mdata\u001b[0m\u001b[0;34m)\u001b[0m\u001b[0;34m\u001b[0m\u001b[0m\n\u001b[0m\u001b[1;32m    221\u001b[0m \u001b[0;34m\u001b[0m\u001b[0m\n\u001b[1;32m    222\u001b[0m \u001b[0;34m\u001b[0m\u001b[0m\n",
      "\u001b[0;31mNameError\u001b[0m: global name 'dot_parser' is not defined"
     ]
    }
   ],
   "source": [
    "from IPython import display\n",
    "from sklearn.externals.six import StringIO\n",
    "from sklearn import datasets, utils, tree\n",
    "import pydot\n",
    "\n",
    "clf.fit(X,y)\n",
    "\n",
    "dot_data = StringIO()\n",
    "tree.export_graphviz(clf, out_file=dot_data)\n",
    "dot_data.getvalue()\n",
    "\n",
    "graph = pydot.graph_from_dot_data(dot_data.getvalue())\n",
    "print '\"graph\" is object of type {}'.format(type(graph))\n",
    "\n",
    "display.Image(graph.create_png())"
   ]
  }
 ],
 "metadata": {
  "kernelspec": {
   "display_name": "Python 2",
   "language": "python",
   "name": "python2"
  },
  "language_info": {
   "codemirror_mode": {
    "name": "ipython",
    "version": 2
   },
   "file_extension": ".py",
   "mimetype": "text/x-python",
   "name": "python",
   "nbconvert_exporter": "python",
   "pygments_lexer": "ipython2",
   "version": "2.7.11"
  }
 },
 "nbformat": 4,
 "nbformat_minor": 0
}
