{
 "cells": [
  {
   "cell_type": "markdown",
   "metadata": {},
   "source": [
    "# What Next?\n",
    "© 2016 STREAMBRIGHT DATA LLC, ALL RIGHTS RESERVED"
   ]
  },
  {
   "cell_type": "markdown",
   "metadata": {},
   "source": [
    "**Tools to Check Out**\n",
    "* Further explore sci-kit learn\n",
    "* https://www.yhat.com - ScienceOps: Productionize models in minutes / Rodeo: one-stop IDE for Python\n",
    "* https://rapidminer.com/ - Self-Service Predictive Analytics\n",
    "* Azure Machine Learning: https://azure.microsoft.com/en-us/services/machine-learning/\n",
    "\n"
   ]
  },
  {
   "cell_type": "markdown",
   "metadata": {},
   "source": [
    "**1. Follow data science tough-leaders**\n",
    "* http://www.analyticsvidhya.com/blog/2015/09/ultimate-data-scientists-world-today/\n",
    "* Listen to this podcast: Not So Standard Deviation (NSSD - Roger Peng and Hilary Parker) https://soundcloud.com/nssd-podcast\n",
    "\n",
    "**2. Follow blogs and portals**\n",
    "* http://www.datatau.com/\n",
    "* http://www.kdnuggets.com/\n",
    "* http://www.datanami.com\n",
    "* http://www.datasciencecentral.com\n",
    "* http://blog.yhat.com/\n",
    "* http://www.win-vector.com/blog/\n",
    "\n",
    "**3. Sign up to newsletters**\n",
    "* DataScience Weekly: http://datascienceweekly.org/ - great articles every week\n",
    "* BigData University: https://bigdatauniversity.com/blog/this-week-in-data-science-24/ - weekly summary\n",
    "\n",
    "**4. Sign up to Kaggle**\n",
    "* Sign up and start building models\n",
    "* https://www.kaggle.com/\n",
    "* http://www.kdnuggets.com/2015/03/10-steps-success-kaggle-data-science-competitions.html\n",
    "\n",
    "**5. Sign-up to other communities**\n",
    "\n",
    "**Correlation One**\n",
    "* Correlation One is a talent platform focused exclusively on data scientists. They help employers validate, source, and hire outstanding data scientists. \n",
    "* http://correlation-one.com/\n",
    "* Sign-up / Join the Community:Get Newsletter - 3 best DS article of the week\n",
    "\n",
    "**Stack Exchange**\n",
    "* Sub-page for DS: http://datascience.stackexchange.com/\n",
    "* Sub-page for Stats (lot of DS questions): http://stats.stackexchange.com/ - Cross Validated\n",
    "\n",
    "\n",
    "\n",
    "\n"
   ]
  }
 ],
 "metadata": {
  "kernelspec": {
   "display_name": "Python 2",
   "language": "python",
   "name": "python2"
  },
  "language_info": {
   "codemirror_mode": {
    "name": "ipython",
    "version": 2
   },
   "file_extension": ".py",
   "mimetype": "text/x-python",
   "name": "python",
   "nbconvert_exporter": "python",
   "pygments_lexer": "ipython2",
   "version": "2.7.11"
  }
 },
 "nbformat": 4,
 "nbformat_minor": 0
}
