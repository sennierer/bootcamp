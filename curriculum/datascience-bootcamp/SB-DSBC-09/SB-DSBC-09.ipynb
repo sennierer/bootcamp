{
 "cells": [
  {
   "cell_type": "markdown",
   "metadata": {},
   "source": [
    "# How to become a Data Scientist - practical Advices"
   ]
  },
  {
   "cell_type": "markdown",
   "metadata": {},
   "source": [
    "## Resources\n",
    "\n",
    "**1. Tools\n",
    "* https://www.yhat.com\n"
   ]
  },
  {
   "cell_type": "markdown",
   "metadata": {},
   "source": [
    "**1. Follow data science tough-leaders**\n",
    "http://www.analyticsvidhya.com/blog/2015/09/ultimate-data-scientists-world-today/\n",
    "\n",
    "**2. Follow blogs and portals**\n",
    "* http://blog.yhat.com/\n",
    "\n",
    "**3. Sign up to newsletters**\n",
    "\n",
    "**4. Sign up to Kaggle**\n",
    "\n",
    "**5. Projects to check out**\n",
    "* https://blog.starters.co/this-is-how-i-used-machine-learning-to-accurately-predict-villanova-to-win-the-2016-march-madness-ba5c074f1583#.bjtbef0k8\n",
    " https://www.kaggle.com/c/march-machine-learning-mania-2016\n",
    "\n",
    "\n",
    "\n"
   ]
  }
 ],
 "metadata": {
  "kernelspec": {
   "display_name": "Python 2",
   "language": "python",
   "name": "python2"
  },
  "language_info": {
   "codemirror_mode": {
    "name": "ipython",
    "version": 2
   },
   "file_extension": ".py",
   "mimetype": "text/x-python",
   "name": "python",
   "nbconvert_exporter": "python",
   "pygments_lexer": "ipython2",
   "version": "2.7.11"
  }
 },
 "nbformat": 4,
 "nbformat_minor": 0
}
