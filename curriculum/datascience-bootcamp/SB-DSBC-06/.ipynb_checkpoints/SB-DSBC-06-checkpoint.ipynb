{
 "cells": [
  {
   "cell_type": "markdown",
   "metadata": {},
   "source": [
    "# Classification with Decision Trees\n",
    "\n",
    "© 2016 STREAMBRIGHT DATA LLC, ALL RIGHTS RESERVED\n",
    "\n",
    "Learn one of the most popular classification tool the decision trees and a quick introduction to different ensemble methods (Random Forests, Extremely Randomised Trees, AdaBoost, Gradient Tree Boosting)."
   ]
  },
  {
   "cell_type": "markdown",
   "metadata": {},
   "source": [
    "## Theory of Decision Trees"
   ]
  },
  {
   "cell_type": "markdown",
   "metadata": {},
   "source": [
    "![example](../files/0601_example.png \"DT Example\")"
   ]
  },
  {
   "cell_type": "markdown",
   "metadata": {},
   "source": [
    "### Why do we use decision trees?\n",
    "\n",
    "Among others, there are 2 neat features of the decision tree classification:\n",
    "1. We can use it for feature selection based on feature importance\n",
    "2. We can easily observe the tree structure and get onformation about how each feature adds value to the classification."
   ]
  },
  {
   "cell_type": "markdown",
   "metadata": {},
   "source": [
    "### How to Build a Tree"
   ]
  },
  {
   "cell_type": "markdown",
   "metadata": {},
   "source": [
    "![dt_data](../files/0602_data.png \"DT Data\")"
   ]
  },
  {
   "cell_type": "markdown",
   "metadata": {},
   "source": [
    "![dt_exmplain](../files/0603_explain.png \"DT Explain\")"
   ]
  },
  {
   "cell_type": "markdown",
   "metadata": {},
   "source": [
    "#### Impurity measurements:\n",
    "* Entropy\n",
    "* Gini\n",
    "* Classification Error"
   ]
  },
  {
   "cell_type": "markdown",
   "metadata": {},
   "source": [
    "![impurity_figures](../files/0604_impurity_figures.png \"Impurity Figures\")"
   ]
  },
  {
   "cell_type": "markdown",
   "metadata": {},
   "source": [
    "![gini](../files/0605_gini.png \"Gini\")"
   ]
  },
  {
   "cell_type": "markdown",
   "metadata": {},
   "source": [
    "### An example tree"
   ]
  },
  {
   "cell_type": "markdown",
   "metadata": {},
   "source": [
    "![iris](../files/0606_iris.svg \"Iris\")"
   ]
  },
  {
   "cell_type": "markdown",
   "metadata": {},
   "source": [
    "## Example with Titanic Dataset\n",
    "\n",
    "Lets see a decision tree example on a \"Toy\" dataset.\n",
    "\n",
    "feature name | description\n",
    "-- | --\n",
    "survival | Survival (0 = No; 1 = Yes)\n",
    "pclass | Passenger Class (1 = 1st; 2 = 2nd; 3 = 3rd)\n",
    "name | Name\n",
    "sex | Sex\n",
    "age | Age\n",
    "sibsp | Number of Siblings/Spouses Aboard\n",
    "parch | Number of Parents/Children Aboard\n",
    "ticket | Ticket Number\n",
    "fare | Passenger Fare\n",
    "cabin | Cabin\n",
    "embarked | Port of Embarkation (C = Cherbourg; Q = Queenstown; S = Southampton)\n"
   ]
  },
  {
   "cell_type": "markdown",
   "metadata": {},
   "source": [
    "### Preparing the dataset"
   ]
  },
  {
   "cell_type": "code",
   "execution_count": 1,
   "metadata": {
    "collapsed": true
   },
   "outputs": [],
   "source": [
    "import pandas as pd\n",
    "import numpy as np\n",
    "import seaborn as sns\n",
    "import matplotlib.pyplot as plt\n",
    "import matplotlib.mlab as mlab\n",
    "%matplotlib inline"
   ]
  },
  {
   "cell_type": "code",
   "execution_count": 2,
   "metadata": {
    "collapsed": false
   },
   "outputs": [
    {
     "name": "stdout",
     "output_type": "stream",
     "text": [
      "<class 'pandas.core.frame.DataFrame'>\n",
      "RangeIndex: 891 entries, 0 to 890\n",
      "Data columns (total 12 columns):\n",
      "PassengerId    891 non-null int64\n",
      "Survived       891 non-null int64\n",
      "Pclass         891 non-null int64\n",
      "Name           891 non-null object\n",
      "Sex            891 non-null object\n",
      "Age            714 non-null float64\n",
      "SibSp          891 non-null int64\n",
      "Parch          891 non-null int64\n",
      "Ticket         891 non-null object\n",
      "Fare           891 non-null float64\n",
      "Cabin          204 non-null object\n",
      "Embarked       889 non-null object\n",
      "dtypes: float64(2), int64(5), object(5)\n",
      "memory usage: 83.6+ KB\n"
     ]
    }
   ],
   "source": [
    "import pandas as pd\n",
    "data = pd.read_csv(\"../files/titanic.csv\")\n",
    "data.info()"
   ]
  },
  {
   "cell_type": "code",
   "execution_count": 3,
   "metadata": {
    "collapsed": false
   },
   "outputs": [
    {
     "data": {
      "text/html": [
       "<div>\n",
       "<table border=\"1\" class=\"dataframe\">\n",
       "  <thead>\n",
       "    <tr style=\"text-align: right;\">\n",
       "      <th></th>\n",
       "      <th>PassengerId</th>\n",
       "      <th>Survived</th>\n",
       "      <th>Pclass</th>\n",
       "      <th>Name</th>\n",
       "      <th>Sex</th>\n",
       "      <th>Age</th>\n",
       "      <th>SibSp</th>\n",
       "      <th>Parch</th>\n",
       "      <th>Ticket</th>\n",
       "      <th>Fare</th>\n",
       "      <th>Cabin</th>\n",
       "      <th>Embarked</th>\n",
       "    </tr>\n",
       "  </thead>\n",
       "  <tbody>\n",
       "    <tr>\n",
       "      <th>0</th>\n",
       "      <td>1</td>\n",
       "      <td>0</td>\n",
       "      <td>3</td>\n",
       "      <td>Braund, Mr. Owen Harris</td>\n",
       "      <td>male</td>\n",
       "      <td>22.0</td>\n",
       "      <td>1</td>\n",
       "      <td>0</td>\n",
       "      <td>A/5 21171</td>\n",
       "      <td>7.2500</td>\n",
       "      <td>NaN</td>\n",
       "      <td>S</td>\n",
       "    </tr>\n",
       "    <tr>\n",
       "      <th>1</th>\n",
       "      <td>2</td>\n",
       "      <td>1</td>\n",
       "      <td>1</td>\n",
       "      <td>Cumings, Mrs. John Bradley (Florence Briggs Th...</td>\n",
       "      <td>female</td>\n",
       "      <td>38.0</td>\n",
       "      <td>1</td>\n",
       "      <td>0</td>\n",
       "      <td>PC 17599</td>\n",
       "      <td>71.2833</td>\n",
       "      <td>C85</td>\n",
       "      <td>C</td>\n",
       "    </tr>\n",
       "    <tr>\n",
       "      <th>2</th>\n",
       "      <td>3</td>\n",
       "      <td>1</td>\n",
       "      <td>3</td>\n",
       "      <td>Heikkinen, Miss. Laina</td>\n",
       "      <td>female</td>\n",
       "      <td>26.0</td>\n",
       "      <td>0</td>\n",
       "      <td>0</td>\n",
       "      <td>STON/O2. 3101282</td>\n",
       "      <td>7.9250</td>\n",
       "      <td>NaN</td>\n",
       "      <td>S</td>\n",
       "    </tr>\n",
       "    <tr>\n",
       "      <th>3</th>\n",
       "      <td>4</td>\n",
       "      <td>1</td>\n",
       "      <td>1</td>\n",
       "      <td>Futrelle, Mrs. Jacques Heath (Lily May Peel)</td>\n",
       "      <td>female</td>\n",
       "      <td>35.0</td>\n",
       "      <td>1</td>\n",
       "      <td>0</td>\n",
       "      <td>113803</td>\n",
       "      <td>53.1000</td>\n",
       "      <td>C123</td>\n",
       "      <td>S</td>\n",
       "    </tr>\n",
       "    <tr>\n",
       "      <th>4</th>\n",
       "      <td>5</td>\n",
       "      <td>0</td>\n",
       "      <td>3</td>\n",
       "      <td>Allen, Mr. William Henry</td>\n",
       "      <td>male</td>\n",
       "      <td>35.0</td>\n",
       "      <td>0</td>\n",
       "      <td>0</td>\n",
       "      <td>373450</td>\n",
       "      <td>8.0500</td>\n",
       "      <td>NaN</td>\n",
       "      <td>S</td>\n",
       "    </tr>\n",
       "  </tbody>\n",
       "</table>\n",
       "</div>"
      ],
      "text/plain": [
       "   PassengerId  Survived  Pclass  \\\n",
       "0            1         0       3   \n",
       "1            2         1       1   \n",
       "2            3         1       3   \n",
       "3            4         1       1   \n",
       "4            5         0       3   \n",
       "\n",
       "                                                Name     Sex   Age  SibSp  \\\n",
       "0                            Braund, Mr. Owen Harris    male  22.0      1   \n",
       "1  Cumings, Mrs. John Bradley (Florence Briggs Th...  female  38.0      1   \n",
       "2                             Heikkinen, Miss. Laina  female  26.0      0   \n",
       "3       Futrelle, Mrs. Jacques Heath (Lily May Peel)  female  35.0      1   \n",
       "4                           Allen, Mr. William Henry    male  35.0      0   \n",
       "\n",
       "   Parch            Ticket     Fare Cabin Embarked  \n",
       "0      0         A/5 21171   7.2500   NaN        S  \n",
       "1      0          PC 17599  71.2833   C85        C  \n",
       "2      0  STON/O2. 3101282   7.9250   NaN        S  \n",
       "3      0            113803  53.1000  C123        S  \n",
       "4      0            373450   8.0500   NaN        S  "
      ]
     },
     "execution_count": 3,
     "metadata": {},
     "output_type": "execute_result"
    }
   ],
   "source": [
    "data.head()"
   ]
  },
  {
   "cell_type": "markdown",
   "metadata": {},
   "source": [
    "### Selecting features for classification\n",
    "\n",
    "Sidenote: cannot use 'nominal' data types in sci-kit learn"
   ]
  },
  {
   "cell_type": "code",
   "execution_count": 4,
   "metadata": {
    "collapsed": false
   },
   "outputs": [],
   "source": [
    "data.drop(['PassengerId', 'Name', 'Parch', 'Ticket', 'Fare', 'Cabin', 'Embarked'], axis=1, inplace=True)"
   ]
  },
  {
   "cell_type": "code",
   "execution_count": 5,
   "metadata": {
    "collapsed": false
   },
   "outputs": [
    {
     "name": "stdout",
     "output_type": "stream",
     "text": [
      "<class 'pandas.core.frame.DataFrame'>\n",
      "RangeIndex: 891 entries, 0 to 890\n",
      "Data columns (total 5 columns):\n",
      "Survived    891 non-null int64\n",
      "Pclass      891 non-null int64\n",
      "Sex         891 non-null object\n",
      "Age         714 non-null float64\n",
      "SibSp       891 non-null int64\n",
      "dtypes: float64(1), int64(3), object(1)\n",
      "memory usage: 34.9+ KB\n"
     ]
    }
   ],
   "source": [
    "data.info()"
   ]
  },
  {
   "cell_type": "markdown",
   "metadata": {},
   "source": [
    "Filling NA data and recoding nominal type to be able to use."
   ]
  },
  {
   "cell_type": "code",
   "execution_count": 6,
   "metadata": {
    "collapsed": false
   },
   "outputs": [],
   "source": [
    "data[\"Age\"].fillna(data[\"Age\"].mean(), inplace=True)\n",
    "data[\"Sex\"] = data[\"Sex\"].apply(lambda sex: 0 if sex == 'male' else 1)"
   ]
  },
  {
   "cell_type": "code",
   "execution_count": 7,
   "metadata": {
    "collapsed": false
   },
   "outputs": [
    {
     "data": {
      "text/html": [
       "<div>\n",
       "<table border=\"1\" class=\"dataframe\">\n",
       "  <thead>\n",
       "    <tr style=\"text-align: right;\">\n",
       "      <th></th>\n",
       "      <th>Survived</th>\n",
       "      <th>Pclass</th>\n",
       "      <th>Sex</th>\n",
       "      <th>Age</th>\n",
       "      <th>SibSp</th>\n",
       "    </tr>\n",
       "  </thead>\n",
       "  <tbody>\n",
       "    <tr>\n",
       "      <th>count</th>\n",
       "      <td>891.000000</td>\n",
       "      <td>891.000000</td>\n",
       "      <td>891.000000</td>\n",
       "      <td>891.000000</td>\n",
       "      <td>891.000000</td>\n",
       "    </tr>\n",
       "    <tr>\n",
       "      <th>mean</th>\n",
       "      <td>0.383838</td>\n",
       "      <td>2.308642</td>\n",
       "      <td>0.352413</td>\n",
       "      <td>29.699118</td>\n",
       "      <td>0.523008</td>\n",
       "    </tr>\n",
       "    <tr>\n",
       "      <th>std</th>\n",
       "      <td>0.486592</td>\n",
       "      <td>0.836071</td>\n",
       "      <td>0.477990</td>\n",
       "      <td>13.002015</td>\n",
       "      <td>1.102743</td>\n",
       "    </tr>\n",
       "    <tr>\n",
       "      <th>min</th>\n",
       "      <td>0.000000</td>\n",
       "      <td>1.000000</td>\n",
       "      <td>0.000000</td>\n",
       "      <td>0.420000</td>\n",
       "      <td>0.000000</td>\n",
       "    </tr>\n",
       "    <tr>\n",
       "      <th>25%</th>\n",
       "      <td>0.000000</td>\n",
       "      <td>2.000000</td>\n",
       "      <td>0.000000</td>\n",
       "      <td>22.000000</td>\n",
       "      <td>0.000000</td>\n",
       "    </tr>\n",
       "    <tr>\n",
       "      <th>50%</th>\n",
       "      <td>0.000000</td>\n",
       "      <td>3.000000</td>\n",
       "      <td>0.000000</td>\n",
       "      <td>29.699118</td>\n",
       "      <td>0.000000</td>\n",
       "    </tr>\n",
       "    <tr>\n",
       "      <th>75%</th>\n",
       "      <td>1.000000</td>\n",
       "      <td>3.000000</td>\n",
       "      <td>1.000000</td>\n",
       "      <td>35.000000</td>\n",
       "      <td>1.000000</td>\n",
       "    </tr>\n",
       "    <tr>\n",
       "      <th>max</th>\n",
       "      <td>1.000000</td>\n",
       "      <td>3.000000</td>\n",
       "      <td>1.000000</td>\n",
       "      <td>80.000000</td>\n",
       "      <td>8.000000</td>\n",
       "    </tr>\n",
       "  </tbody>\n",
       "</table>\n",
       "</div>"
      ],
      "text/plain": [
       "         Survived      Pclass         Sex         Age       SibSp\n",
       "count  891.000000  891.000000  891.000000  891.000000  891.000000\n",
       "mean     0.383838    2.308642    0.352413   29.699118    0.523008\n",
       "std      0.486592    0.836071    0.477990   13.002015    1.102743\n",
       "min      0.000000    1.000000    0.000000    0.420000    0.000000\n",
       "25%      0.000000    2.000000    0.000000   22.000000    0.000000\n",
       "50%      0.000000    3.000000    0.000000   29.699118    0.000000\n",
       "75%      1.000000    3.000000    1.000000   35.000000    1.000000\n",
       "max      1.000000    3.000000    1.000000   80.000000    8.000000"
      ]
     },
     "execution_count": 7,
     "metadata": {},
     "output_type": "execute_result"
    }
   ],
   "source": [
    "data.describe()"
   ]
  },
  {
   "cell_type": "markdown",
   "metadata": {},
   "source": [
    "Splitting the data into training and test sets."
   ]
  },
  {
   "cell_type": "code",
   "execution_count": 8,
   "metadata": {
    "collapsed": false
   },
   "outputs": [
    {
     "data": {
      "text/plain": [
       "((712, 4), (712,), (179, 4), (179,))"
      ]
     },
     "execution_count": 8,
     "metadata": {},
     "output_type": "execute_result"
    }
   ],
   "source": [
    "X = data.drop('Survived', axis=1)  \n",
    "y = data.ix[:, 'Survived']\n",
    "\n",
    "from sklearn.cross_validation import train_test_split\n",
    "\n",
    "X_train, X_test, y_train, y_test = train_test_split(X, y, test_size=0.2, random_state=0)\n",
    "X_train.shape, y_train.shape, X_test.shape, y_test.shape"
   ]
  },
  {
   "cell_type": "markdown",
   "metadata": {},
   "source": [
    "### Building the first decision tree"
   ]
  },
  {
   "cell_type": "code",
   "execution_count": 9,
   "metadata": {
    "collapsed": false
   },
   "outputs": [],
   "source": [
    "from sklearn import tree\n",
    "clf = tree.DecisionTreeClassifier(criterion=\"gini\", max_depth=3, random_state=0)\n",
    "clf = clf.fit(X_train, y_train)"
   ]
  },
  {
   "cell_type": "markdown",
   "metadata": {},
   "source": [
    "Visualizing the tree:"
   ]
  },
  {
   "cell_type": "code",
   "execution_count": 10,
   "metadata": {
    "collapsed": false
   },
   "outputs": [
    {
     "data": {
      "image/svg+xml": [
       "<?xml version=\"1.0\" encoding=\"UTF-8\" standalone=\"no\"?>\n",
       "<!DOCTYPE svg PUBLIC \"-//W3C//DTD SVG 1.1//EN\"\n",
       " \"http://www.w3.org/Graphics/SVG/1.1/DTD/svg11.dtd\">\n",
       "<!-- Generated by graphviz version 2.38.0 (20140413.2041)\n",
       " -->\n",
       "<!-- Title: Tree Pages: 1 -->\n",
       "<svg width=\"1186pt\" height=\"358pt\"\n",
       " viewBox=\"0.00 0.00 1185.69 358.00\" xmlns=\"http://www.w3.org/2000/svg\" xmlns:xlink=\"http://www.w3.org/1999/xlink\">\n",
       "<g id=\"graph0\" class=\"graph\" transform=\"scale(1 1) rotate(0) translate(4 354)\">\n",
       "<title>Tree</title>\n",
       "<polygon fill=\"white\" stroke=\"none\" points=\"-4,4 -4,-354 1181.69,-354 1181.69,4 -4,4\"/>\n",
       "<!-- 0 -->\n",
       "<g id=\"node1\" class=\"node\"><title>0</title>\n",
       "<path fill=\"#e58139\" fill-opacity=\"0.376471\" stroke=\"black\" d=\"M651.719,-350C651.719,-350 539.76,-350 539.76,-350 533.76,-350 527.76,-344 527.76,-338 527.76,-338 527.76,-298 527.76,-298 527.76,-292 533.76,-286 539.76,-286 539.76,-286 651.719,-286 651.719,-286 657.719,-286 663.719,-292 663.719,-298 663.719,-298 663.719,-338 663.719,-338 663.719,-344 657.719,-350 651.719,-350\"/>\n",
       "<text text-anchor=\"middle\" x=\"595.739\" y=\"-334.8\" font-family=\"Helvetica,sans-Serif\" font-size=\"14.00\">Sex &lt;= 0.5</text>\n",
       "<text text-anchor=\"middle\" x=\"595.739\" y=\"-320.8\" font-family=\"Helvetica,sans-Serif\" font-size=\"14.00\">gini = 0.4728</text>\n",
       "<text text-anchor=\"middle\" x=\"595.739\" y=\"-306.8\" font-family=\"Helvetica,sans-Serif\" font-size=\"14.00\">samples = 100.0%</text>\n",
       "<text text-anchor=\"middle\" x=\"595.739\" y=\"-292.8\" font-family=\"Helvetica,sans-Serif\" font-size=\"14.00\">value = [0.62, 0.38]</text>\n",
       "</g>\n",
       "<!-- 1 -->\n",
       "<g id=\"node2\" class=\"node\"><title>1</title>\n",
       "<path fill=\"#e58139\" fill-opacity=\"0.764706\" stroke=\"black\" d=\"M502.719,-250C502.719,-250 390.76,-250 390.76,-250 384.76,-250 378.76,-244 378.76,-238 378.76,-238 378.76,-198 378.76,-198 378.76,-192 384.76,-186 390.76,-186 390.76,-186 502.719,-186 502.719,-186 508.719,-186 514.719,-192 514.719,-198 514.719,-198 514.719,-238 514.719,-238 514.719,-244 508.719,-250 502.719,-250\"/>\n",
       "<text text-anchor=\"middle\" x=\"446.739\" y=\"-234.8\" font-family=\"Helvetica,sans-Serif\" font-size=\"14.00\">Age &lt;= 14.0</text>\n",
       "<text text-anchor=\"middle\" x=\"446.739\" y=\"-220.8\" font-family=\"Helvetica,sans-Serif\" font-size=\"14.00\">gini = 0.3095</text>\n",
       "<text text-anchor=\"middle\" x=\"446.739\" y=\"-206.8\" font-family=\"Helvetica,sans-Serif\" font-size=\"14.00\">samples = 65.3%</text>\n",
       "<text text-anchor=\"middle\" x=\"446.739\" y=\"-192.8\" font-family=\"Helvetica,sans-Serif\" font-size=\"14.00\">value = [0.81, 0.19]</text>\n",
       "</g>\n",
       "<!-- 0&#45;&gt;1 -->\n",
       "<g id=\"edge1\" class=\"edge\"><title>0&#45;&gt;1</title>\n",
       "<path fill=\"none\" stroke=\"black\" d=\"M548.595,-285.992C534.055,-276.429 517.902,-265.805 502.823,-255.887\"/>\n",
       "<polygon fill=\"black\" stroke=\"black\" points=\"504.367,-252.713 494.089,-250.142 500.52,-258.562 504.367,-252.713\"/>\n",
       "<text text-anchor=\"middle\" x=\"499.144\" y=\"-270.426\" font-family=\"Helvetica,sans-Serif\" font-size=\"14.00\">True</text>\n",
       "</g>\n",
       "<!-- 8 -->\n",
       "<g id=\"node9\" class=\"node\"><title>8</title>\n",
       "<path fill=\"#399de5\" fill-opacity=\"0.658824\" stroke=\"black\" d=\"M801.719,-250C801.719,-250 689.76,-250 689.76,-250 683.76,-250 677.76,-244 677.76,-238 677.76,-238 677.76,-198 677.76,-198 677.76,-192 683.76,-186 689.76,-186 689.76,-186 801.719,-186 801.719,-186 807.719,-186 813.719,-192 813.719,-198 813.719,-198 813.719,-238 813.719,-238 813.719,-244 807.719,-250 801.719,-250\"/>\n",
       "<text text-anchor=\"middle\" x=\"745.739\" y=\"-234.8\" font-family=\"Helvetica,sans-Serif\" font-size=\"14.00\">Pclass &lt;= 2.5</text>\n",
       "<text text-anchor=\"middle\" x=\"745.739\" y=\"-220.8\" font-family=\"Helvetica,sans-Serif\" font-size=\"14.00\">gini = 0.38</text>\n",
       "<text text-anchor=\"middle\" x=\"745.739\" y=\"-206.8\" font-family=\"Helvetica,sans-Serif\" font-size=\"14.00\">samples = 34.7%</text>\n",
       "<text text-anchor=\"middle\" x=\"745.739\" y=\"-192.8\" font-family=\"Helvetica,sans-Serif\" font-size=\"14.00\">value = [0.26, 0.74]</text>\n",
       "</g>\n",
       "<!-- 0&#45;&gt;8 -->\n",
       "<g id=\"edge8\" class=\"edge\"><title>0&#45;&gt;8</title>\n",
       "<path fill=\"none\" stroke=\"black\" d=\"M643.2,-285.992C657.837,-276.429 674.099,-265.805 689.279,-255.887\"/>\n",
       "<polygon fill=\"black\" stroke=\"black\" points=\"691.615,-258.542 698.072,-250.142 687.786,-252.682 691.615,-258.542\"/>\n",
       "<text text-anchor=\"middle\" x=\"692.942\" y=\"-270.41\" font-family=\"Helvetica,sans-Serif\" font-size=\"14.00\">False</text>\n",
       "</g>\n",
       "<!-- 2 -->\n",
       "<g id=\"node3\" class=\"node\"><title>2</title>\n",
       "<path fill=\"#399de5\" fill-opacity=\"0.223529\" stroke=\"black\" d=\"M276.719,-150C276.719,-150 164.76,-150 164.76,-150 158.76,-150 152.76,-144 152.76,-138 152.76,-138 152.76,-98 152.76,-98 152.76,-92 158.76,-86 164.76,-86 164.76,-86 276.719,-86 276.719,-86 282.719,-86 288.719,-92 288.719,-98 288.719,-98 288.719,-138 288.719,-138 288.719,-144 282.719,-150 276.719,-150\"/>\n",
       "<text text-anchor=\"middle\" x=\"220.739\" y=\"-134.8\" font-family=\"Helvetica,sans-Serif\" font-size=\"14.00\">SibSp &lt;= 2.5</text>\n",
       "<text text-anchor=\"middle\" x=\"220.739\" y=\"-120.8\" font-family=\"Helvetica,sans-Serif\" font-size=\"14.00\">gini = 0.4922</text>\n",
       "<text text-anchor=\"middle\" x=\"220.739\" y=\"-106.8\" font-family=\"Helvetica,sans-Serif\" font-size=\"14.00\">samples = 4.5%</text>\n",
       "<text text-anchor=\"middle\" x=\"220.739\" y=\"-92.8\" font-family=\"Helvetica,sans-Serif\" font-size=\"14.00\">value = [0.44, 0.56]</text>\n",
       "</g>\n",
       "<!-- 1&#45;&gt;2 -->\n",
       "<g id=\"edge2\" class=\"edge\"><title>1&#45;&gt;2</title>\n",
       "<path fill=\"none\" stroke=\"black\" d=\"M378.932,-187.597C353.344,-176.501 324.056,-163.801 297.691,-152.369\"/>\n",
       "<polygon fill=\"black\" stroke=\"black\" points=\"299.066,-149.15 288.499,-148.382 296.281,-155.572 299.066,-149.15\"/>\n",
       "</g>\n",
       "<!-- 5 -->\n",
       "<g id=\"node6\" class=\"node\"><title>5</title>\n",
       "<path fill=\"#e58139\" fill-opacity=\"0.803922\" stroke=\"black\" d=\"M502.719,-150C502.719,-150 390.76,-150 390.76,-150 384.76,-150 378.76,-144 378.76,-138 378.76,-138 378.76,-98 378.76,-98 378.76,-92 384.76,-86 390.76,-86 390.76,-86 502.719,-86 502.719,-86 508.719,-86 514.719,-92 514.719,-98 514.719,-98 514.719,-138 514.719,-138 514.719,-144 508.719,-150 502.719,-150\"/>\n",
       "<text text-anchor=\"middle\" x=\"446.739\" y=\"-134.8\" font-family=\"Helvetica,sans-Serif\" font-size=\"14.00\">Pclass &lt;= 1.5</text>\n",
       "<text text-anchor=\"middle\" x=\"446.739\" y=\"-120.8\" font-family=\"Helvetica,sans-Serif\" font-size=\"14.00\">gini = 0.2742</text>\n",
       "<text text-anchor=\"middle\" x=\"446.739\" y=\"-106.8\" font-family=\"Helvetica,sans-Serif\" font-size=\"14.00\">samples = 60.8%</text>\n",
       "<text text-anchor=\"middle\" x=\"446.739\" y=\"-92.8\" font-family=\"Helvetica,sans-Serif\" font-size=\"14.00\">value = [0.84, 0.16]</text>\n",
       "</g>\n",
       "<!-- 1&#45;&gt;5 -->\n",
       "<g id=\"edge5\" class=\"edge\"><title>1&#45;&gt;5</title>\n",
       "<path fill=\"none\" stroke=\"black\" d=\"M446.739,-185.992C446.739,-177.859 446.739,-168.959 446.739,-160.378\"/>\n",
       "<polygon fill=\"black\" stroke=\"black\" points=\"450.239,-160.142 446.739,-150.142 443.239,-160.142 450.239,-160.142\"/>\n",
       "</g>\n",
       "<!-- 3 -->\n",
       "<g id=\"node4\" class=\"node\"><title>3</title>\n",
       "<path fill=\"#399de5\" fill-opacity=\"0.941176\" stroke=\"black\" d=\"M123.719,-50C123.719,-50 11.7599,-50 11.7599,-50 5.75989,-50 -0.240106,-44 -0.240106,-38 -0.240106,-38 -0.240106,-12 -0.240106,-12 -0.240106,-6 5.75989,-0 11.7599,-0 11.7599,-0 123.719,-0 123.719,-0 129.719,-0 135.719,-6 135.719,-12 135.719,-12 135.719,-38 135.719,-38 135.719,-44 129.719,-50 123.719,-50\"/>\n",
       "<text text-anchor=\"middle\" x=\"67.7393\" y=\"-34.8\" font-family=\"Helvetica,sans-Serif\" font-size=\"14.00\">gini = 0.1049</text>\n",
       "<text text-anchor=\"middle\" x=\"67.7393\" y=\"-20.8\" font-family=\"Helvetica,sans-Serif\" font-size=\"14.00\">samples = 2.5%</text>\n",
       "<text text-anchor=\"middle\" x=\"67.7393\" y=\"-6.8\" font-family=\"Helvetica,sans-Serif\" font-size=\"14.00\">value = [0.06, 0.94]</text>\n",
       "</g>\n",
       "<!-- 2&#45;&gt;3 -->\n",
       "<g id=\"edge3\" class=\"edge\"><title>2&#45;&gt;3</title>\n",
       "<path fill=\"none\" stroke=\"black\" d=\"M168.513,-85.9375C151.86,-76.0324 133.494,-65.109 117.054,-55.3308\"/>\n",
       "<polygon fill=\"black\" stroke=\"black\" points=\"118.525,-52.1338 108.141,-50.0301 114.947,-58.1501 118.525,-52.1338\"/>\n",
       "</g>\n",
       "<!-- 4 -->\n",
       "<g id=\"node5\" class=\"node\"><title>4</title>\n",
       "<path fill=\"#e58139\" fill-opacity=\"0.921569\" stroke=\"black\" d=\"M276.719,-50C276.719,-50 164.76,-50 164.76,-50 158.76,-50 152.76,-44 152.76,-38 152.76,-38 152.76,-12 152.76,-12 152.76,-6 158.76,-0 164.76,-0 164.76,-0 276.719,-0 276.719,-0 282.719,-0 288.719,-6 288.719,-12 288.719,-12 288.719,-38 288.719,-38 288.719,-44 282.719,-50 276.719,-50\"/>\n",
       "<text text-anchor=\"middle\" x=\"220.739\" y=\"-34.8\" font-family=\"Helvetica,sans-Serif\" font-size=\"14.00\">gini = 0.1327</text>\n",
       "<text text-anchor=\"middle\" x=\"220.739\" y=\"-20.8\" font-family=\"Helvetica,sans-Serif\" font-size=\"14.00\">samples = 2.0%</text>\n",
       "<text text-anchor=\"middle\" x=\"220.739\" y=\"-6.8\" font-family=\"Helvetica,sans-Serif\" font-size=\"14.00\">value = [0.93, 0.07]</text>\n",
       "</g>\n",
       "<!-- 2&#45;&gt;4 -->\n",
       "<g id=\"edge4\" class=\"edge\"><title>2&#45;&gt;4</title>\n",
       "<path fill=\"none\" stroke=\"black\" d=\"M220.739,-85.9375C220.739,-77.6833 220.739,-68.7219 220.739,-60.3053\"/>\n",
       "<polygon fill=\"black\" stroke=\"black\" points=\"224.239,-60.03 220.739,-50.0301 217.239,-60.0301 224.239,-60.03\"/>\n",
       "</g>\n",
       "<!-- 6 -->\n",
       "<g id=\"node7\" class=\"node\"><title>6</title>\n",
       "<path fill=\"#e58139\" fill-opacity=\"0.509804\" stroke=\"black\" d=\"M429.719,-50C429.719,-50 317.76,-50 317.76,-50 311.76,-50 305.76,-44 305.76,-38 305.76,-38 305.76,-12 305.76,-12 305.76,-6 311.76,-0 317.76,-0 317.76,-0 429.719,-0 429.719,-0 435.719,-0 441.719,-6 441.719,-12 441.719,-12 441.719,-38 441.719,-38 441.719,-44 435.719,-50 429.719,-50\"/>\n",
       "<text text-anchor=\"middle\" x=\"373.739\" y=\"-34.8\" font-family=\"Helvetica,sans-Serif\" font-size=\"14.00\">gini = 0.4421</text>\n",
       "<text text-anchor=\"middle\" x=\"373.739\" y=\"-20.8\" font-family=\"Helvetica,sans-Serif\" font-size=\"14.00\">samples = 13.2%</text>\n",
       "<text text-anchor=\"middle\" x=\"373.739\" y=\"-6.8\" font-family=\"Helvetica,sans-Serif\" font-size=\"14.00\">value = [0.67, 0.33]</text>\n",
       "</g>\n",
       "<!-- 5&#45;&gt;6 -->\n",
       "<g id=\"edge6\" class=\"edge\"><title>5&#45;&gt;6</title>\n",
       "<path fill=\"none\" stroke=\"black\" d=\"M421.821,-85.9375C414.611,-76.9496 406.728,-67.1231 399.47,-58.0747\"/>\n",
       "<polygon fill=\"black\" stroke=\"black\" points=\"402.004,-55.6403 393.016,-50.0301 396.543,-60.0205 402.004,-55.6403\"/>\n",
       "</g>\n",
       "<!-- 7 -->\n",
       "<g id=\"node8\" class=\"node\"><title>7</title>\n",
       "<path fill=\"#e58139\" fill-opacity=\"0.866667\" stroke=\"black\" d=\"M582.719,-50C582.719,-50 470.76,-50 470.76,-50 464.76,-50 458.76,-44 458.76,-38 458.76,-38 458.76,-12 458.76,-12 458.76,-6 464.76,-0 470.76,-0 470.76,-0 582.719,-0 582.719,-0 588.719,-0 594.719,-6 594.719,-12 594.719,-12 594.719,-38 594.719,-38 594.719,-44 588.719,-50 582.719,-50\"/>\n",
       "<text text-anchor=\"middle\" x=\"526.739\" y=\"-34.8\" font-family=\"Helvetica,sans-Serif\" font-size=\"14.00\">gini = 0.2081</text>\n",
       "<text text-anchor=\"middle\" x=\"526.739\" y=\"-20.8\" font-family=\"Helvetica,sans-Serif\" font-size=\"14.00\">samples = 47.6%</text>\n",
       "<text text-anchor=\"middle\" x=\"526.739\" y=\"-6.8\" font-family=\"Helvetica,sans-Serif\" font-size=\"14.00\">value = [0.88, 0.12]</text>\n",
       "</g>\n",
       "<!-- 5&#45;&gt;7 -->\n",
       "<g id=\"edge7\" class=\"edge\"><title>5&#45;&gt;7</title>\n",
       "<path fill=\"none\" stroke=\"black\" d=\"M474.047,-85.9375C482.029,-76.8578 490.763,-66.9225 498.785,-57.798\"/>\n",
       "<polygon fill=\"black\" stroke=\"black\" points=\"501.64,-59.8514 505.614,-50.0301 496.383,-55.2296 501.64,-59.8514\"/>\n",
       "</g>\n",
       "<!-- 9 -->\n",
       "<g id=\"node10\" class=\"node\"><title>9</title>\n",
       "<path fill=\"#399de5\" fill-opacity=\"0.937255\" stroke=\"black\" d=\"M801.719,-150C801.719,-150 689.76,-150 689.76,-150 683.76,-150 677.76,-144 677.76,-138 677.76,-138 677.76,-98 677.76,-98 677.76,-92 683.76,-86 689.76,-86 689.76,-86 801.719,-86 801.719,-86 807.719,-86 813.719,-92 813.719,-98 813.719,-98 813.719,-138 813.719,-138 813.719,-144 807.719,-150 801.719,-150\"/>\n",
       "<text text-anchor=\"middle\" x=\"745.739\" y=\"-134.8\" font-family=\"Helvetica,sans-Serif\" font-size=\"14.00\">Age &lt;= 2.5</text>\n",
       "<text text-anchor=\"middle\" x=\"745.739\" y=\"-120.8\" font-family=\"Helvetica,sans-Serif\" font-size=\"14.00\">gini = 0.1139</text>\n",
       "<text text-anchor=\"middle\" x=\"745.739\" y=\"-106.8\" font-family=\"Helvetica,sans-Serif\" font-size=\"14.00\">samples = 18.5%</text>\n",
       "<text text-anchor=\"middle\" x=\"745.739\" y=\"-92.8\" font-family=\"Helvetica,sans-Serif\" font-size=\"14.00\">value = [0.06, 0.94]</text>\n",
       "</g>\n",
       "<!-- 8&#45;&gt;9 -->\n",
       "<g id=\"edge9\" class=\"edge\"><title>8&#45;&gt;9</title>\n",
       "<path fill=\"none\" stroke=\"black\" d=\"M745.739,-185.992C745.739,-177.859 745.739,-168.959 745.739,-160.378\"/>\n",
       "<polygon fill=\"black\" stroke=\"black\" points=\"749.239,-160.142 745.739,-150.142 742.239,-160.142 749.239,-160.142\"/>\n",
       "</g>\n",
       "<!-- 12 -->\n",
       "<g id=\"node13\" class=\"node\"><title>12</title>\n",
       "<path fill=\"#399de5\" fill-opacity=\"0.082353\" stroke=\"black\" d=\"M1027.72,-150C1027.72,-150 915.76,-150 915.76,-150 909.76,-150 903.76,-144 903.76,-138 903.76,-138 903.76,-98 903.76,-98 903.76,-92 909.76,-86 915.76,-86 915.76,-86 1027.72,-86 1027.72,-86 1033.72,-86 1039.72,-92 1039.72,-98 1039.72,-98 1039.72,-138 1039.72,-138 1039.72,-144 1033.72,-150 1027.72,-150\"/>\n",
       "<text text-anchor=\"middle\" x=\"971.739\" y=\"-134.8\" font-family=\"Helvetica,sans-Serif\" font-size=\"14.00\">Age &lt;= 38.5</text>\n",
       "<text text-anchor=\"middle\" x=\"971.739\" y=\"-120.8\" font-family=\"Helvetica,sans-Serif\" font-size=\"14.00\">gini = 0.4991</text>\n",
       "<text text-anchor=\"middle\" x=\"971.739\" y=\"-106.8\" font-family=\"Helvetica,sans-Serif\" font-size=\"14.00\">samples = 16.2%</text>\n",
       "<text text-anchor=\"middle\" x=\"971.739\" y=\"-92.8\" font-family=\"Helvetica,sans-Serif\" font-size=\"14.00\">value = [0.48, 0.52]</text>\n",
       "</g>\n",
       "<!-- 8&#45;&gt;12 -->\n",
       "<g id=\"edge12\" class=\"edge\"><title>8&#45;&gt;12</title>\n",
       "<path fill=\"none\" stroke=\"black\" d=\"M813.547,-187.597C839.134,-176.501 868.423,-163.801 894.787,-152.369\"/>\n",
       "<polygon fill=\"black\" stroke=\"black\" points=\"896.198,-155.572 903.98,-148.382 893.413,-149.15 896.198,-155.572\"/>\n",
       "</g>\n",
       "<!-- 10 -->\n",
       "<g id=\"node11\" class=\"node\"><title>10</title>\n",
       "<path fill=\"#e58139\" stroke=\"black\" d=\"M720.646,-50C720.646,-50 624.833,-50 624.833,-50 618.833,-50 612.833,-44 612.833,-38 612.833,-38 612.833,-12 612.833,-12 612.833,-6 618.833,-0 624.833,-0 624.833,-0 720.646,-0 720.646,-0 726.646,-0 732.646,-6 732.646,-12 732.646,-12 732.646,-38 732.646,-38 732.646,-44 726.646,-50 720.646,-50\"/>\n",
       "<text text-anchor=\"middle\" x=\"672.739\" y=\"-34.8\" font-family=\"Helvetica,sans-Serif\" font-size=\"14.00\">gini = 0.0</text>\n",
       "<text text-anchor=\"middle\" x=\"672.739\" y=\"-20.8\" font-family=\"Helvetica,sans-Serif\" font-size=\"14.00\">samples = 0.1%</text>\n",
       "<text text-anchor=\"middle\" x=\"672.739\" y=\"-6.8\" font-family=\"Helvetica,sans-Serif\" font-size=\"14.00\">value = [1.0, 0.0]</text>\n",
       "</g>\n",
       "<!-- 9&#45;&gt;10 -->\n",
       "<g id=\"edge10\" class=\"edge\"><title>9&#45;&gt;10</title>\n",
       "<path fill=\"none\" stroke=\"black\" d=\"M720.821,-85.9375C713.611,-76.9496 705.728,-67.1231 698.47,-58.0747\"/>\n",
       "<polygon fill=\"black\" stroke=\"black\" points=\"701.004,-55.6403 692.016,-50.0301 695.543,-60.0205 701.004,-55.6403\"/>\n",
       "</g>\n",
       "<!-- 11 -->\n",
       "<g id=\"node12\" class=\"node\"><title>11</title>\n",
       "<path fill=\"#399de5\" fill-opacity=\"0.945098\" stroke=\"black\" d=\"M874.719,-50C874.719,-50 762.76,-50 762.76,-50 756.76,-50 750.76,-44 750.76,-38 750.76,-38 750.76,-12 750.76,-12 750.76,-6 756.76,-0 762.76,-0 762.76,-0 874.719,-0 874.719,-0 880.719,-0 886.719,-6 886.719,-12 886.719,-12 886.719,-38 886.719,-38 886.719,-44 880.719,-50 874.719,-50\"/>\n",
       "<text text-anchor=\"middle\" x=\"818.739\" y=\"-34.8\" font-family=\"Helvetica,sans-Serif\" font-size=\"14.00\">gini = 0.1012</text>\n",
       "<text text-anchor=\"middle\" x=\"818.739\" y=\"-20.8\" font-family=\"Helvetica,sans-Serif\" font-size=\"14.00\">samples = 18.4%</text>\n",
       "<text text-anchor=\"middle\" x=\"818.739\" y=\"-6.8\" font-family=\"Helvetica,sans-Serif\" font-size=\"14.00\">value = [0.05, 0.95]</text>\n",
       "</g>\n",
       "<!-- 9&#45;&gt;11 -->\n",
       "<g id=\"edge11\" class=\"edge\"><title>9&#45;&gt;11</title>\n",
       "<path fill=\"none\" stroke=\"black\" d=\"M770.658,-85.9375C777.868,-76.9496 785.75,-67.1231 793.009,-58.0747\"/>\n",
       "<polygon fill=\"black\" stroke=\"black\" points=\"795.935,-60.0205 799.462,-50.0301 790.475,-55.6403 795.935,-60.0205\"/>\n",
       "</g>\n",
       "<!-- 13 -->\n",
       "<g id=\"node14\" class=\"node\"><title>13</title>\n",
       "<path fill=\"#399de5\" fill-opacity=\"0.215686\" stroke=\"black\" d=\"M1027.72,-50C1027.72,-50 915.76,-50 915.76,-50 909.76,-50 903.76,-44 903.76,-38 903.76,-38 903.76,-12 903.76,-12 903.76,-6 909.76,-0 915.76,-0 915.76,-0 1027.72,-0 1027.72,-0 1033.72,-0 1039.72,-6 1039.72,-12 1039.72,-12 1039.72,-38 1039.72,-38 1039.72,-44 1033.72,-50 1027.72,-50\"/>\n",
       "<text text-anchor=\"middle\" x=\"971.739\" y=\"-34.8\" font-family=\"Helvetica,sans-Serif\" font-size=\"14.00\">gini = 0.4926</text>\n",
       "<text text-anchor=\"middle\" x=\"971.739\" y=\"-20.8\" font-family=\"Helvetica,sans-Serif\" font-size=\"14.00\">samples = 15.0%</text>\n",
       "<text text-anchor=\"middle\" x=\"971.739\" y=\"-6.8\" font-family=\"Helvetica,sans-Serif\" font-size=\"14.00\">value = [0.44, 0.56]</text>\n",
       "</g>\n",
       "<!-- 12&#45;&gt;13 -->\n",
       "<g id=\"edge13\" class=\"edge\"><title>12&#45;&gt;13</title>\n",
       "<path fill=\"none\" stroke=\"black\" d=\"M971.739,-85.9375C971.739,-77.6833 971.739,-68.7219 971.739,-60.3053\"/>\n",
       "<polygon fill=\"black\" stroke=\"black\" points=\"975.239,-60.03 971.739,-50.0301 968.239,-60.0301 975.239,-60.03\"/>\n",
       "</g>\n",
       "<!-- 14 -->\n",
       "<g id=\"node15\" class=\"node\"><title>14</title>\n",
       "<path fill=\"#e58139\" stroke=\"black\" d=\"M1165.65,-50C1165.65,-50 1069.83,-50 1069.83,-50 1063.83,-50 1057.83,-44 1057.83,-38 1057.83,-38 1057.83,-12 1057.83,-12 1057.83,-6 1063.83,-0 1069.83,-0 1069.83,-0 1165.65,-0 1165.65,-0 1171.65,-0 1177.65,-6 1177.65,-12 1177.65,-12 1177.65,-38 1177.65,-38 1177.65,-44 1171.65,-50 1165.65,-50\"/>\n",
       "<text text-anchor=\"middle\" x=\"1117.74\" y=\"-34.8\" font-family=\"Helvetica,sans-Serif\" font-size=\"14.00\">gini = 0.0</text>\n",
       "<text text-anchor=\"middle\" x=\"1117.74\" y=\"-20.8\" font-family=\"Helvetica,sans-Serif\" font-size=\"14.00\">samples = 1.1%</text>\n",
       "<text text-anchor=\"middle\" x=\"1117.74\" y=\"-6.8\" font-family=\"Helvetica,sans-Serif\" font-size=\"14.00\">value = [1.0, 0.0]</text>\n",
       "</g>\n",
       "<!-- 12&#45;&gt;14 -->\n",
       "<g id=\"edge14\" class=\"edge\"><title>12&#45;&gt;14</title>\n",
       "<path fill=\"none\" stroke=\"black\" d=\"M1021.58,-85.9375C1037.47,-76.0324 1054.99,-65.109 1070.68,-55.3308\"/>\n",
       "<polygon fill=\"black\" stroke=\"black\" points=\"1072.55,-58.2899 1079.19,-50.0301 1068.85,-52.3494 1072.55,-58.2899\"/>\n",
       "</g>\n",
       "</g>\n",
       "</svg>\n"
      ],
      "text/plain": [
       "<graphviz.files.Source at 0x10ca55310>"
      ]
     },
     "execution_count": 10,
     "metadata": {},
     "output_type": "execute_result"
    }
   ],
   "source": [
    "from sklearn.tree import export_graphviz\n",
    "import graphviz\n",
    "\n",
    "export_graphviz(clf, out_file=\"mytree.dot\", feature_names=X.columns, filled=True, rounded=True, proportion=True)\n",
    "with open(\"mytree.dot\") as f:\n",
    "    dot_graph = f.read()\n",
    "graphviz.Source(dot_graph)"
   ]
  },
  {
   "cell_type": "markdown",
   "metadata": {},
   "source": [
    "On the tree we can visually observe the path to each leafs."
   ]
  },
  {
   "cell_type": "markdown",
   "metadata": {},
   "source": [
    "### Get info on how good the model is\n",
    "\n",
    "First using the gini then the entropy parameter."
   ]
  },
  {
   "cell_type": "code",
   "execution_count": 11,
   "metadata": {
    "collapsed": false
   },
   "outputs": [
    {
     "data": {
      "text/plain": [
       "0.7810949027498324"
      ]
     },
     "execution_count": 11,
     "metadata": {},
     "output_type": "execute_result"
    }
   ],
   "source": [
    "from sklearn.cross_validation import cross_val_score\n",
    "clf = tree.DecisionTreeClassifier(criterion=\"gini\", random_state=0)\n",
    "cross_val_score(clf, X_train, y_train, cv=10).mean()"
   ]
  },
  {
   "cell_type": "code",
   "execution_count": 12,
   "metadata": {
    "collapsed": false
   },
   "outputs": [
    {
     "data": {
      "text/plain": [
       "0.77968645204560694"
      ]
     },
     "execution_count": 12,
     "metadata": {},
     "output_type": "execute_result"
    }
   ],
   "source": [
    "clf = tree.DecisionTreeClassifier(criterion=\"entropy\", random_state=0)\n",
    "cross_val_score(clf, X_train, y_train, cv=10).mean()"
   ]
  },
  {
   "cell_type": "markdown",
   "metadata": {},
   "source": [
    "We can run the GridSearchCV again to determine the best parameters for constructing the tree."
   ]
  },
  {
   "cell_type": "code",
   "execution_count": 13,
   "metadata": {
    "collapsed": false
   },
   "outputs": [
    {
     "name": "stdout",
     "output_type": "stream",
     "text": [
      "0.827247191011\n",
      "{'min_samples_split': 1, 'splitter': 'random', 'criterion': 'gini', 'max_depth': 6, 'min_samples_leaf': 5}\n"
     ]
    }
   ],
   "source": [
    "from sklearn.grid_search import GridSearchCV\n",
    "\n",
    "criterion = ['gini', 'entropy']\n",
    "splitter = ['best', 'random']\n",
    "max_depth = np.arange(1,10)\n",
    "min_samples_leaf = np.arange(1,20,2)\n",
    "min_samples_split = np.arange(1,20,2)\n",
    "\n",
    "parameters = {'criterion': criterion, 'splitter': splitter, 'max_depth': max_depth, \n",
    "              'min_samples_leaf': min_samples_leaf, 'min_samples_split': min_samples_split}\n",
    "clf = tree.DecisionTreeClassifier(random_state=0)\n",
    "clf = GridSearchCV(clf, parameters, cv=10)\n",
    "clf.fit(X_train, y_train)\n",
    "\n",
    "print clf.best_score_\n",
    "print clf.best_params_"
   ]
  },
  {
   "cell_type": "markdown",
   "metadata": {},
   "source": [
    "### Feature Importance with Decision Trees"
   ]
  },
  {
   "cell_type": "code",
   "execution_count": 14,
   "metadata": {
    "collapsed": false
   },
   "outputs": [
    {
     "name": "stdout",
     "output_type": "stream",
     "text": [
      "Feature ranking:\n",
      "1. feature Sex (0.402842)\n",
      "2. feature Age (0.335211)\n",
      "3. feature Pclass (0.146320)\n",
      "4. feature SibSp (0.115627)\n"
     ]
    },
    {
     "data": {
      "image/png": "[encoded data removed]",
      "text/plain": [
       "<matplotlib.figure.Figure at 0x106f67490>"
      ]
     },
     "metadata": {},
     "output_type": "display_data"
    }
   ],
   "source": [
    "# Build a forest and compute the feature importances\n",
    "clf = tree.DecisionTreeClassifier(random_state=0)\n",
    "\n",
    "clf.fit(X, y)\n",
    "importances = clf.feature_importances_\n",
    "indices = np.argsort(importances)[::-1]\n",
    "feature_order = X.columns[indices]\n",
    "\n",
    "# Print the feature ranking\n",
    "print(\"Feature ranking:\")\n",
    "\n",
    "for f in range(X.shape[1]):\n",
    "    print(\"%d. feature %s (%f)\" % (f + 1, feature_order[f], importances[indices[f]]))\n",
    "\n",
    "# Plot the feature importances of the forest\n",
    "plt.figure()\n",
    "plt.title(\"Feature importances\")\n",
    "plt.bar(range(X.shape[1]), importances[indices],\n",
    "       color=\"r\", align=\"center\")\n",
    "plt.xticks(range(X.shape[1]), feature_order, rotation='vertical')\n",
    "plt.xlim([-1, X.shape[1]])\n",
    "plt.show()"
   ]
  },
  {
   "cell_type": "markdown",
   "metadata": {},
   "source": [
    "## Bank data classification with decision trees"
   ]
  },
  {
   "cell_type": "markdown",
   "metadata": {},
   "source": [
    "### Loading and preparing the data"
   ]
  },
  {
   "cell_type": "code",
   "execution_count": 15,
   "metadata": {
    "collapsed": true
   },
   "outputs": [],
   "source": [
    "data = pd.read_csv(\"../files/bank.csv\")\n",
    "data.drop(data.ix[:,1:10], axis=1, inplace=True)\n",
    "data.drop(\"poutcome\", axis=1, inplace=True)\n",
    "n = 4500\n",
    "sample_yes = data.ix[data.y == \"yes\"].sample(n=n, replace=False, random_state=0)\n",
    "sample_no = data.ix[data.y == \"no\"].sample(n=n, replace=False, random_state=0)\n",
    "df = pd.concat([sample_yes, sample_no])\n",
    "df = df.sample(frac=1, random_state=0)\n",
    "X = df.drop('y', axis=1)  \n",
    "y = df.ix[:, 'y']\n",
    "y.replace(\"yes\", 1, inplace=True)\n",
    "y.replace(\"no\", 0, inplace=True)"
   ]
  },
  {
   "cell_type": "code",
   "execution_count": 16,
   "metadata": {
    "collapsed": false
   },
   "outputs": [
    {
     "data": {
      "text/html": [
       "<div>\n",
       "<table border=\"1\" class=\"dataframe\">\n",
       "  <thead>\n",
       "    <tr style=\"text-align: right;\">\n",
       "      <th></th>\n",
       "      <th>age</th>\n",
       "      <th>duration</th>\n",
       "      <th>campaign</th>\n",
       "      <th>pdays</th>\n",
       "      <th>previous</th>\n",
       "      <th>emp.var.rate</th>\n",
       "      <th>cons.price.idx</th>\n",
       "      <th>cons.conf.idx</th>\n",
       "      <th>euribor3m</th>\n",
       "      <th>nr.employed</th>\n",
       "      <th>y</th>\n",
       "    </tr>\n",
       "  </thead>\n",
       "  <tbody>\n",
       "    <tr>\n",
       "      <th>0</th>\n",
       "      <td>56</td>\n",
       "      <td>261</td>\n",
       "      <td>1</td>\n",
       "      <td>999</td>\n",
       "      <td>0</td>\n",
       "      <td>1.1</td>\n",
       "      <td>93.994</td>\n",
       "      <td>-36.4</td>\n",
       "      <td>4.857</td>\n",
       "      <td>5191.0</td>\n",
       "      <td>no</td>\n",
       "    </tr>\n",
       "    <tr>\n",
       "      <th>1</th>\n",
       "      <td>57</td>\n",
       "      <td>149</td>\n",
       "      <td>1</td>\n",
       "      <td>999</td>\n",
       "      <td>0</td>\n",
       "      <td>1.1</td>\n",
       "      <td>93.994</td>\n",
       "      <td>-36.4</td>\n",
       "      <td>4.857</td>\n",
       "      <td>5191.0</td>\n",
       "      <td>no</td>\n",
       "    </tr>\n",
       "    <tr>\n",
       "      <th>2</th>\n",
       "      <td>37</td>\n",
       "      <td>226</td>\n",
       "      <td>1</td>\n",
       "      <td>999</td>\n",
       "      <td>0</td>\n",
       "      <td>1.1</td>\n",
       "      <td>93.994</td>\n",
       "      <td>-36.4</td>\n",
       "      <td>4.857</td>\n",
       "      <td>5191.0</td>\n",
       "      <td>no</td>\n",
       "    </tr>\n",
       "    <tr>\n",
       "      <th>3</th>\n",
       "      <td>40</td>\n",
       "      <td>151</td>\n",
       "      <td>1</td>\n",
       "      <td>999</td>\n",
       "      <td>0</td>\n",
       "      <td>1.1</td>\n",
       "      <td>93.994</td>\n",
       "      <td>-36.4</td>\n",
       "      <td>4.857</td>\n",
       "      <td>5191.0</td>\n",
       "      <td>no</td>\n",
       "    </tr>\n",
       "    <tr>\n",
       "      <th>4</th>\n",
       "      <td>56</td>\n",
       "      <td>307</td>\n",
       "      <td>1</td>\n",
       "      <td>999</td>\n",
       "      <td>0</td>\n",
       "      <td>1.1</td>\n",
       "      <td>93.994</td>\n",
       "      <td>-36.4</td>\n",
       "      <td>4.857</td>\n",
       "      <td>5191.0</td>\n",
       "      <td>no</td>\n",
       "    </tr>\n",
       "  </tbody>\n",
       "</table>\n",
       "</div>"
      ],
      "text/plain": [
       "   age  duration  campaign  pdays  previous  emp.var.rate  cons.price.idx  \\\n",
       "0   56       261         1    999         0           1.1          93.994   \n",
       "1   57       149         1    999         0           1.1          93.994   \n",
       "2   37       226         1    999         0           1.1          93.994   \n",
       "3   40       151         1    999         0           1.1          93.994   \n",
       "4   56       307         1    999         0           1.1          93.994   \n",
       "\n",
       "   cons.conf.idx  euribor3m  nr.employed   y  \n",
       "0          -36.4      4.857       5191.0  no  \n",
       "1          -36.4      4.857       5191.0  no  \n",
       "2          -36.4      4.857       5191.0  no  \n",
       "3          -36.4      4.857       5191.0  no  \n",
       "4          -36.4      4.857       5191.0  no  "
      ]
     },
     "execution_count": 16,
     "metadata": {},
     "output_type": "execute_result"
    }
   ],
   "source": [
    "data.head()"
   ]
  },
  {
   "cell_type": "markdown",
   "metadata": {},
   "source": [
    "### Splitting the data into test and training sets"
   ]
  },
  {
   "cell_type": "code",
   "execution_count": 17,
   "metadata": {
    "collapsed": false
   },
   "outputs": [
    {
     "data": {
      "text/plain": [
       "((7200, 10), (7200,), (1800, 10), (1800,))"
      ]
     },
     "execution_count": 17,
     "metadata": {},
     "output_type": "execute_result"
    }
   ],
   "source": [
    "X_train, X_test, y_train, y_test = train_test_split(X, y, test_size=0.2, random_state=0)\n",
    "X_train.shape, y_train.shape, X_test.shape, y_test.shape"
   ]
  },
  {
   "cell_type": "markdown",
   "metadata": {},
   "source": [
    "### Building the classification model and getting the scores"
   ]
  },
  {
   "cell_type": "code",
   "execution_count": 18,
   "metadata": {
    "collapsed": false
   },
   "outputs": [
    {
     "data": {
      "text/plain": [
       "0.83555890025508028"
      ]
     },
     "execution_count": 18,
     "metadata": {},
     "output_type": "execute_result"
    }
   ],
   "source": [
    "clf = tree.DecisionTreeClassifier(random_state=0)\n",
    "cross_val_score(clf, X_train, y_train, cv=10).mean()"
   ]
  },
  {
   "cell_type": "markdown",
   "metadata": {},
   "source": [
    "### Running a grid search on the data for best parameters\n",
    "\n",
    "This will take time since we have a bigger dataset and a ton of parameter values."
   ]
  },
  {
   "cell_type": "code",
   "execution_count": 19,
   "metadata": {
    "collapsed": false
   },
   "outputs": [
    {
     "name": "stdout",
     "output_type": "stream",
     "text": [
      "0.880555555556\n",
      "{'min_samples_split': 11, 'splitter': 'random', 'criterion': 'entropy', 'max_depth': 9, 'min_samples_leaf': 5}\n",
      "Duration: 0:04:58.214200\n"
     ]
    }
   ],
   "source": [
    "from sklearn.grid_search import GridSearchCV\n",
    "from datetime import datetime\n",
    "\n",
    "start_time = datetime.now()\n",
    "\n",
    "criterion = ['gini', 'entropy']\n",
    "splitter = ['best', 'random']\n",
    "max_depth = np.arange(1,10)\n",
    "min_samples_leaf = np.arange(1,20,2)\n",
    "min_samples_split = np.arange(1,20,2)\n",
    "\n",
    "parameters = {'criterion': criterion, 'splitter': splitter, 'max_depth': max_depth, \n",
    "              'min_samples_leaf': min_samples_leaf, 'min_samples_split': min_samples_split}\n",
    "clf = tree.DecisionTreeClassifier(random_state=0)\n",
    "clf = GridSearchCV(clf, parameters, cv=10)\n",
    "clf.fit(X_train, y_train)\n",
    "\n",
    "print clf.best_score_\n",
    "print clf.best_params_\n",
    "\n",
    "end_time = datetime.now()\n",
    "print('Duration: {}'.format(end_time - start_time))"
   ]
  },
  {
   "cell_type": "markdown",
   "metadata": {},
   "source": [
    "### Feature importance with best parameters"
   ]
  },
  {
   "cell_type": "code",
   "execution_count": 24,
   "metadata": {
    "collapsed": false
   },
   "outputs": [
    {
     "name": "stdout",
     "output_type": "stream",
     "text": [
      "Feature ranking:\n",
      "1. feature emp.var.rate (0.399695)\n",
      "2. feature duration (0.359676)\n",
      "3. feature nr.employed (0.098061)\n",
      "4. feature cons.conf.idx (0.055842)\n",
      "5. feature pdays (0.024054)\n",
      "6. feature euribor3m (0.023736)\n",
      "7. feature cons.price.idx (0.014837)\n",
      "8. feature age (0.012104)\n",
      "9. feature previous (0.006798)\n",
      "10. feature campaign (0.005198)\n"
     ]
    },
    {
     "data": {
      "image/png": "[encoded data removed]",
      "text/plain": [
       "<matplotlib.figure.Figure at 0x10d3f4f50>"
      ]
     },
     "metadata": {},
     "output_type": "display_data"
    }
   ],
   "source": [
    "clf = tree.DecisionTreeClassifier(min_samples_split=11, splitter='random',\n",
    "                                  criterion='entropy', max_depth=9, min_samples_leaf=5, random_state=0)\n",
    "clf.fit(X_train, y_train)\n",
    "\n",
    "importances = clf.feature_importances_\n",
    "indices = np.argsort(importances)[::-1]\n",
    "feature_order = X.columns[indices]\n",
    "\n",
    "# Print the feature ranking\n",
    "print(\"Feature ranking:\")\n",
    "\n",
    "for f in range(X.shape[1]):\n",
    "    print(\"%d. feature %s (%f)\" % (f + 1, feature_order[f], importances[indices[f]]))\n",
    "\n",
    "# Plot the feature importances of the forest\n",
    "plt.figure()\n",
    "plt.title(\"Feature importances\")\n",
    "plt.bar(range(X.shape[1]), importances[indices],\n",
    "       color=\"r\", align=\"center\")\n",
    "plt.xticks(range(X.shape[1]), feature_order, rotation='vertical')\n",
    "plt.xlim([-1, X.shape[1]])\n",
    "plt.show()"
   ]
  },
  {
   "cell_type": "markdown",
   "metadata": {},
   "source": [
    "### Visualizing the tree\n",
    "\n",
    "First, fit a new model with a lower max_depth parameter to be able to see the tree easily."
   ]
  },
  {
   "cell_type": "code",
   "execution_count": 25,
   "metadata": {
    "collapsed": false
   },
   "outputs": [
    {
     "data": {
      "text/plain": [
       "0.85833333333333328"
      ]
     },
     "execution_count": 25,
     "metadata": {},
     "output_type": "execute_result"
    }
   ],
   "source": [
    "clf = tree.DecisionTreeClassifier(max_depth=3, random_state=0)\n",
    "clf.fit(X_train, y_train)\n",
    "clf.score(X_test, y_test)"
   ]
  },
  {
   "cell_type": "code",
   "execution_count": 26,
   "metadata": {
    "collapsed": false
   },
   "outputs": [
    {
     "data": {
      "image/svg+xml": [
       "<?xml version=\"1.0\" encoding=\"UTF-8\" standalone=\"no\"?>\n",
       "<!DOCTYPE svg PUBLIC \"-//W3C//DTD SVG 1.1//EN\"\n",
       " \"http://www.w3.org/Graphics/SVG/1.1/DTD/svg11.dtd\">\n",
       "<!-- Generated by graphviz version 2.38.0 (20140413.2041)\n",
       " -->\n",
       "<!-- Title: Tree Pages: 1 -->\n",
       "<svg width=\"1186pt\" height=\"358pt\"\n",
       " viewBox=\"0.00 0.00 1185.69 358.00\" xmlns=\"http://www.w3.org/2000/svg\" xmlns:xlink=\"http://www.w3.org/1999/xlink\">\n",
       "<g id=\"graph0\" class=\"graph\" transform=\"scale(1 1) rotate(0) translate(4 354)\">\n",
       "<title>Tree</title>\n",
       "<polygon fill=\"white\" stroke=\"none\" points=\"-4,4 -4,-354 1181.69,-354 1181.69,4 -4,4\"/>\n",
       "<!-- 0 -->\n",
       "<g id=\"node1\" class=\"node\"><title>0</title>\n",
       "<path fill=\"#e58139\" fill-opacity=\"0.011765\" stroke=\"black\" d=\"M627.522,-350C627.522,-350 520.384,-350 520.384,-350 514.384,-350 508.384,-344 508.384,-338 508.384,-338 508.384,-298 508.384,-298 508.384,-292 514.384,-286 520.384,-286 520.384,-286 627.522,-286 627.522,-286 633.522,-286 639.522,-292 639.522,-298 639.522,-298 639.522,-338 639.522,-338 639.522,-344 633.522,-350 627.522,-350\"/>\n",
       "<text text-anchor=\"middle\" x=\"573.953\" y=\"-334.8\" font-family=\"Helvetica,sans-Serif\" font-size=\"14.00\">duration &lt;= 205.5</text>\n",
       "<text text-anchor=\"middle\" x=\"573.953\" y=\"-320.8\" font-family=\"Helvetica,sans-Serif\" font-size=\"14.00\">gini = 0.5</text>\n",
       "<text text-anchor=\"middle\" x=\"573.953\" y=\"-306.8\" font-family=\"Helvetica,sans-Serif\" font-size=\"14.00\">samples = 100.0%</text>\n",
       "<text text-anchor=\"middle\" x=\"573.953\" y=\"-292.8\" font-family=\"Helvetica,sans-Serif\" font-size=\"14.00\">value = [0.5, 0.5]</text>\n",
       "</g>\n",
       "<!-- 1 -->\n",
       "<g id=\"node2\" class=\"node\"><title>1</title>\n",
       "<path fill=\"#e58139\" fill-opacity=\"0.749020\" stroke=\"black\" d=\"M534.039,-250C534.039,-250 375.868,-250 375.868,-250 369.868,-250 363.868,-244 363.868,-238 363.868,-238 363.868,-198 363.868,-198 363.868,-192 369.868,-186 375.868,-186 375.868,-186 534.039,-186 534.039,-186 540.039,-186 546.039,-192 546.039,-198 546.039,-198 546.039,-238 546.039,-238 546.039,-244 540.039,-250 534.039,-250\"/>\n",
       "<text text-anchor=\"middle\" x=\"454.953\" y=\"-234.8\" font-family=\"Helvetica,sans-Serif\" font-size=\"14.00\">nr.employed &lt;= 5087.6504</text>\n",
       "<text text-anchor=\"middle\" x=\"454.953\" y=\"-220.8\" font-family=\"Helvetica,sans-Serif\" font-size=\"14.00\">gini = 0.3206</text>\n",
       "<text text-anchor=\"middle\" x=\"454.953\" y=\"-206.8\" font-family=\"Helvetica,sans-Serif\" font-size=\"14.00\">samples = 40.0%</text>\n",
       "<text text-anchor=\"middle\" x=\"454.953\" y=\"-192.8\" font-family=\"Helvetica,sans-Serif\" font-size=\"14.00\">value = [0.8, 0.2]</text>\n",
       "</g>\n",
       "<!-- 0&#45;&gt;1 -->\n",
       "<g id=\"edge1\" class=\"edge\"><title>0&#45;&gt;1</title>\n",
       "<path fill=\"none\" stroke=\"black\" d=\"M536.301,-285.992C525.014,-276.698 512.51,-266.4 500.76,-256.723\"/>\n",
       "<polygon fill=\"black\" stroke=\"black\" points=\"502.713,-253.798 492.769,-250.142 498.263,-259.201 502.713,-253.798\"/>\n",
       "<text text-anchor=\"middle\" x=\"495.177\" y=\"-270.826\" font-family=\"Helvetica,sans-Serif\" font-size=\"14.00\">True</text>\n",
       "</g>\n",
       "<!-- 8 -->\n",
       "<g id=\"node9\" class=\"node\"><title>8</title>\n",
       "<path fill=\"#399de5\" fill-opacity=\"0.564706\" stroke=\"black\" d=\"M773.039,-250C773.039,-250 614.868,-250 614.868,-250 608.868,-250 602.868,-244 602.868,-238 602.868,-238 602.868,-198 602.868,-198 602.868,-192 608.868,-186 614.868,-186 614.868,-186 773.039,-186 773.039,-186 779.039,-186 785.039,-192 785.039,-198 785.039,-198 785.039,-238 785.039,-238 785.039,-244 779.039,-250 773.039,-250\"/>\n",
       "<text text-anchor=\"middle\" x=\"693.953\" y=\"-234.8\" font-family=\"Helvetica,sans-Serif\" font-size=\"14.00\">nr.employed &lt;= 5087.6504</text>\n",
       "<text text-anchor=\"middle\" x=\"693.953\" y=\"-220.8\" font-family=\"Helvetica,sans-Serif\" font-size=\"14.00\">gini = 0.4233</text>\n",
       "<text text-anchor=\"middle\" x=\"693.953\" y=\"-206.8\" font-family=\"Helvetica,sans-Serif\" font-size=\"14.00\">samples = 60.0%</text>\n",
       "<text text-anchor=\"middle\" x=\"693.953\" y=\"-192.8\" font-family=\"Helvetica,sans-Serif\" font-size=\"14.00\">value = [0.3, 0.7]</text>\n",
       "</g>\n",
       "<!-- 0&#45;&gt;8 -->\n",
       "<g id=\"edge8\" class=\"edge\"><title>0&#45;&gt;8</title>\n",
       "<path fill=\"none\" stroke=\"black\" d=\"M611.922,-285.992C623.303,-276.698 635.912,-266.4 647.762,-256.723\"/>\n",
       "<polygon fill=\"black\" stroke=\"black\" points=\"650.288,-259.179 655.819,-250.142 645.86,-253.757 650.288,-259.179\"/>\n",
       "<text text-anchor=\"middle\" x=\"653.309\" y=\"-270.816\" font-family=\"Helvetica,sans-Serif\" font-size=\"14.00\">False</text>\n",
       "</g>\n",
       "<!-- 2 -->\n",
       "<g id=\"node3\" class=\"node\"><title>2</title>\n",
       "<path fill=\"#399de5\" fill-opacity=\"0.521569\" stroke=\"black\" d=\"M261.932,-150C261.932,-150 149.974,-150 149.974,-150 143.974,-150 137.974,-144 137.974,-138 137.974,-138 137.974,-98 137.974,-98 137.974,-92 143.974,-86 149.974,-86 149.974,-86 261.932,-86 261.932,-86 267.932,-86 273.932,-92 273.932,-98 273.932,-98 273.932,-138 273.932,-138 273.932,-144 267.932,-150 261.932,-150\"/>\n",
       "<text text-anchor=\"middle\" x=\"205.953\" y=\"-134.8\" font-family=\"Helvetica,sans-Serif\" font-size=\"14.00\">duration &lt;= 60.5</text>\n",
       "<text text-anchor=\"middle\" x=\"205.953\" y=\"-120.8\" font-family=\"Helvetica,sans-Serif\" font-size=\"14.00\">gini = 0.4372</text>\n",
       "<text text-anchor=\"middle\" x=\"205.953\" y=\"-106.8\" font-family=\"Helvetica,sans-Serif\" font-size=\"14.00\">samples = 8.4%</text>\n",
       "<text text-anchor=\"middle\" x=\"205.953\" y=\"-92.8\" font-family=\"Helvetica,sans-Serif\" font-size=\"14.00\">value = [0.32, 0.68]</text>\n",
       "</g>\n",
       "<!-- 1&#45;&gt;2 -->\n",
       "<g id=\"edge2\" class=\"edge\"><title>1&#45;&gt;2</title>\n",
       "<path fill=\"none\" stroke=\"black\" d=\"M376.168,-185.992C346.469,-174.304 312.741,-161.029 283.186,-149.397\"/>\n",
       "<polygon fill=\"black\" stroke=\"black\" points=\"284.334,-146.087 273.747,-145.682 281.77,-152.601 284.334,-146.087\"/>\n",
       "</g>\n",
       "<!-- 5 -->\n",
       "<g id=\"node6\" class=\"node\"><title>5</title>\n",
       "<path fill=\"#e58139\" fill-opacity=\"0.921569\" stroke=\"black\" d=\"M523.491,-150C523.491,-150 386.415,-150 386.415,-150 380.415,-150 374.415,-144 374.415,-138 374.415,-138 374.415,-98 374.415,-98 374.415,-92 380.415,-86 386.415,-86 386.415,-86 523.491,-86 523.491,-86 529.491,-86 535.491,-92 535.491,-98 535.491,-98 535.491,-138 535.491,-138 535.491,-144 529.491,-150 523.491,-150\"/>\n",
       "<text text-anchor=\"middle\" x=\"454.953\" y=\"-134.8\" font-family=\"Helvetica,sans-Serif\" font-size=\"14.00\">cons.conf.idx &lt;= &#45;46.65</text>\n",
       "<text text-anchor=\"middle\" x=\"454.953\" y=\"-120.8\" font-family=\"Helvetica,sans-Serif\" font-size=\"14.00\">gini = 0.1373</text>\n",
       "<text text-anchor=\"middle\" x=\"454.953\" y=\"-106.8\" font-family=\"Helvetica,sans-Serif\" font-size=\"14.00\">samples = 31.7%</text>\n",
       "<text text-anchor=\"middle\" x=\"454.953\" y=\"-92.8\" font-family=\"Helvetica,sans-Serif\" font-size=\"14.00\">value = [0.93, 0.07]</text>\n",
       "</g>\n",
       "<!-- 1&#45;&gt;5 -->\n",
       "<g id=\"edge5\" class=\"edge\"><title>1&#45;&gt;5</title>\n",
       "<path fill=\"none\" stroke=\"black\" d=\"M454.953,-185.992C454.953,-177.859 454.953,-168.959 454.953,-160.378\"/>\n",
       "<polygon fill=\"black\" stroke=\"black\" points=\"458.453,-160.142 454.953,-150.142 451.453,-160.142 458.453,-160.142\"/>\n",
       "</g>\n",
       "<!-- 3 -->\n",
       "<g id=\"node4\" class=\"node\"><title>3</title>\n",
       "<path fill=\"#e58139\" stroke=\"black\" d=\"M107.859,-50C107.859,-50 12.0468,-50 12.0468,-50 6.04684,-50 0.0468384,-44 0.0468384,-38 0.0468384,-38 0.0468384,-12 0.0468384,-12 0.0468384,-6 6.04684,-0 12.0468,-0 12.0468,-0 107.859,-0 107.859,-0 113.859,-0 119.859,-6 119.859,-12 119.859,-12 119.859,-38 119.859,-38 119.859,-44 113.859,-50 107.859,-50\"/>\n",
       "<text text-anchor=\"middle\" x=\"59.9531\" y=\"-34.8\" font-family=\"Helvetica,sans-Serif\" font-size=\"14.00\">gini = 0.0</text>\n",
       "<text text-anchor=\"middle\" x=\"59.9531\" y=\"-20.8\" font-family=\"Helvetica,sans-Serif\" font-size=\"14.00\">samples = 0.4%</text>\n",
       "<text text-anchor=\"middle\" x=\"59.9531\" y=\"-6.8\" font-family=\"Helvetica,sans-Serif\" font-size=\"14.00\">value = [1.0, 0.0]</text>\n",
       "</g>\n",
       "<!-- 2&#45;&gt;3 -->\n",
       "<g id=\"edge3\" class=\"edge\"><title>2&#45;&gt;3</title>\n",
       "<path fill=\"none\" stroke=\"black\" d=\"M156.117,-85.9375C140.225,-76.0324 122.699,-65.109 107.011,-55.3308\"/>\n",
       "<polygon fill=\"black\" stroke=\"black\" points=\"108.845,-52.3494 98.5069,-50.0301 105.142,-58.2899 108.845,-52.3494\"/>\n",
       "</g>\n",
       "<!-- 4 -->\n",
       "<g id=\"node5\" class=\"node\"><title>4</title>\n",
       "<path fill=\"#399de5\" fill-opacity=\"0.596078\" stroke=\"black\" d=\"M261.932,-50C261.932,-50 149.974,-50 149.974,-50 143.974,-50 137.974,-44 137.974,-38 137.974,-38 137.974,-12 137.974,-12 137.974,-6 143.974,-0 149.974,-0 149.974,-0 261.932,-0 261.932,-0 267.932,-0 273.932,-6 273.932,-12 273.932,-12 273.932,-38 273.932,-38 273.932,-44 267.932,-50 261.932,-50\"/>\n",
       "<text text-anchor=\"middle\" x=\"205.953\" y=\"-34.8\" font-family=\"Helvetica,sans-Serif\" font-size=\"14.00\">gini = 0.4097</text>\n",
       "<text text-anchor=\"middle\" x=\"205.953\" y=\"-20.8\" font-family=\"Helvetica,sans-Serif\" font-size=\"14.00\">samples = 8.0%</text>\n",
       "<text text-anchor=\"middle\" x=\"205.953\" y=\"-6.8\" font-family=\"Helvetica,sans-Serif\" font-size=\"14.00\">value = [0.29, 0.71]</text>\n",
       "</g>\n",
       "<!-- 2&#45;&gt;4 -->\n",
       "<g id=\"edge4\" class=\"edge\"><title>2&#45;&gt;4</title>\n",
       "<path fill=\"none\" stroke=\"black\" d=\"M205.953,-85.9375C205.953,-77.6833 205.953,-68.7219 205.953,-60.3053\"/>\n",
       "<polygon fill=\"black\" stroke=\"black\" points=\"209.453,-60.03 205.953,-50.0301 202.453,-60.0301 209.453,-60.03\"/>\n",
       "</g>\n",
       "<!-- 6 -->\n",
       "<g id=\"node7\" class=\"node\"><title>6</title>\n",
       "<path fill=\"#e58139\" fill-opacity=\"0.015686\" stroke=\"black\" d=\"M399.859,-50C399.859,-50 304.047,-50 304.047,-50 298.047,-50 292.047,-44 292.047,-38 292.047,-38 292.047,-12 292.047,-12 292.047,-6 298.047,-0 304.047,-0 304.047,-0 399.859,-0 399.859,-0 405.859,-0 411.859,-6 411.859,-12 411.859,-12 411.859,-38 411.859,-38 411.859,-44 405.859,-50 399.859,-50\"/>\n",
       "<text text-anchor=\"middle\" x=\"351.953\" y=\"-34.8\" font-family=\"Helvetica,sans-Serif\" font-size=\"14.00\">gini = 0.5</text>\n",
       "<text text-anchor=\"middle\" x=\"351.953\" y=\"-20.8\" font-family=\"Helvetica,sans-Serif\" font-size=\"14.00\">samples = 3.4%</text>\n",
       "<text text-anchor=\"middle\" x=\"351.953\" y=\"-6.8\" font-family=\"Helvetica,sans-Serif\" font-size=\"14.00\">value = [0.5, 0.5]</text>\n",
       "</g>\n",
       "<!-- 5&#45;&gt;6 -->\n",
       "<g id=\"edge6\" class=\"edge\"><title>5&#45;&gt;6</title>\n",
       "<path fill=\"none\" stroke=\"black\" d=\"M419.794,-85.9375C409.102,-76.491 397.362,-66.1182 386.697,-56.6961\"/>\n",
       "<polygon fill=\"black\" stroke=\"black\" points=\"388.964,-54.0282 379.152,-50.0301 384.329,-59.2741 388.964,-54.0282\"/>\n",
       "</g>\n",
       "<!-- 7 -->\n",
       "<g id=\"node8\" class=\"node\"><title>7</title>\n",
       "<path fill=\"#e58139\" fill-opacity=\"0.976471\" stroke=\"black\" d=\"M553.932,-50C553.932,-50 441.974,-50 441.974,-50 435.974,-50 429.974,-44 429.974,-38 429.974,-38 429.974,-12 429.974,-12 429.974,-6 435.974,-0 441.974,-0 441.974,-0 553.932,-0 553.932,-0 559.932,-0 565.932,-6 565.932,-12 565.932,-12 565.932,-38 565.932,-38 565.932,-44 559.932,-50 553.932,-50\"/>\n",
       "<text text-anchor=\"middle\" x=\"497.953\" y=\"-34.8\" font-family=\"Helvetica,sans-Serif\" font-size=\"14.00\">gini = 0.0443</text>\n",
       "<text text-anchor=\"middle\" x=\"497.953\" y=\"-20.8\" font-family=\"Helvetica,sans-Serif\" font-size=\"14.00\">samples = 28.2%</text>\n",
       "<text text-anchor=\"middle\" x=\"497.953\" y=\"-6.8\" font-family=\"Helvetica,sans-Serif\" font-size=\"14.00\">value = [0.98, 0.02]</text>\n",
       "</g>\n",
       "<!-- 5&#45;&gt;7 -->\n",
       "<g id=\"edge7\" class=\"edge\"><title>5&#45;&gt;7</title>\n",
       "<path fill=\"none\" stroke=\"black\" d=\"M469.631,-85.9375C473.705,-77.3164 478.143,-67.9239 482.272,-59.1865\"/>\n",
       "<polygon fill=\"black\" stroke=\"black\" points=\"485.49,-60.5668 486.598,-50.0301 479.161,-57.5762 485.49,-60.5668\"/>\n",
       "</g>\n",
       "<!-- 9 -->\n",
       "<g id=\"node10\" class=\"node\"><title>9</title>\n",
       "<path fill=\"#399de5\" fill-opacity=\"0.929412\" stroke=\"black\" d=\"M749.932,-150C749.932,-150 637.974,-150 637.974,-150 631.974,-150 625.974,-144 625.974,-138 625.974,-138 625.974,-98 625.974,-98 625.974,-92 631.974,-86 637.974,-86 637.974,-86 749.932,-86 749.932,-86 755.932,-86 761.932,-92 761.932,-98 761.932,-98 761.932,-138 761.932,-138 761.932,-144 755.932,-150 749.932,-150\"/>\n",
       "<text text-anchor=\"middle\" x=\"693.953\" y=\"-134.8\" font-family=\"Helvetica,sans-Serif\" font-size=\"14.00\">pdays &lt;= 16.5</text>\n",
       "<text text-anchor=\"middle\" x=\"693.953\" y=\"-120.8\" font-family=\"Helvetica,sans-Serif\" font-size=\"14.00\">gini = 0.124</text>\n",
       "<text text-anchor=\"middle\" x=\"693.953\" y=\"-106.8\" font-family=\"Helvetica,sans-Serif\" font-size=\"14.00\">samples = 19.0%</text>\n",
       "<text text-anchor=\"middle\" x=\"693.953\" y=\"-92.8\" font-family=\"Helvetica,sans-Serif\" font-size=\"14.00\">value = [0.07, 0.93]</text>\n",
       "</g>\n",
       "<!-- 8&#45;&gt;9 -->\n",
       "<g id=\"edge9\" class=\"edge\"><title>8&#45;&gt;9</title>\n",
       "<path fill=\"none\" stroke=\"black\" d=\"M693.953,-185.992C693.953,-177.859 693.953,-168.959 693.953,-160.378\"/>\n",
       "<polygon fill=\"black\" stroke=\"black\" points=\"697.453,-160.142 693.953,-150.142 690.453,-160.142 697.453,-160.142\"/>\n",
       "</g>\n",
       "<!-- 12 -->\n",
       "<g id=\"node13\" class=\"node\"><title>12</title>\n",
       "<path fill=\"#399de5\" fill-opacity=\"0.290196\" stroke=\"black\" d=\"M1012.93,-150C1012.93,-150 900.974,-150 900.974,-150 894.974,-150 888.974,-144 888.974,-138 888.974,-138 888.974,-98 888.974,-98 888.974,-92 894.974,-86 900.974,-86 900.974,-86 1012.93,-86 1012.93,-86 1018.93,-86 1024.93,-92 1024.93,-98 1024.93,-98 1024.93,-138 1024.93,-138 1024.93,-144 1018.93,-150 1012.93,-150\"/>\n",
       "<text text-anchor=\"middle\" x=\"956.953\" y=\"-134.8\" font-family=\"Helvetica,sans-Serif\" font-size=\"14.00\">duration &lt;= 471.5</text>\n",
       "<text text-anchor=\"middle\" x=\"956.953\" y=\"-120.8\" font-family=\"Helvetica,sans-Serif\" font-size=\"14.00\">gini = 0.4854</text>\n",
       "<text text-anchor=\"middle\" x=\"956.953\" y=\"-106.8\" font-family=\"Helvetica,sans-Serif\" font-size=\"14.00\">samples = 40.9%</text>\n",
       "<text text-anchor=\"middle\" x=\"956.953\" y=\"-92.8\" font-family=\"Helvetica,sans-Serif\" font-size=\"14.00\">value = [0.41, 0.59]</text>\n",
       "</g>\n",
       "<!-- 8&#45;&gt;12 -->\n",
       "<g id=\"edge12\" class=\"edge\"><title>8&#45;&gt;12</title>\n",
       "<path fill=\"none\" stroke=\"black\" d=\"M777.168,-185.992C809.763,-173.846 846.955,-159.988 879.02,-148.04\"/>\n",
       "<polygon fill=\"black\" stroke=\"black\" points=\"880.648,-151.168 888.796,-144.397 878.204,-144.609 880.648,-151.168\"/>\n",
       "</g>\n",
       "<!-- 10 -->\n",
       "<g id=\"node11\" class=\"node\"><title>10</title>\n",
       "<path fill=\"#399de5\" fill-opacity=\"0.968627\" stroke=\"black\" d=\"M706.932,-50C706.932,-50 594.974,-50 594.974,-50 588.974,-50 582.974,-44 582.974,-38 582.974,-38 582.974,-12 582.974,-12 582.974,-6 588.974,-0 594.974,-0 594.974,-0 706.932,-0 706.932,-0 712.932,-0 718.932,-6 718.932,-12 718.932,-12 718.932,-38 718.932,-38 718.932,-44 712.932,-50 706.932,-50\"/>\n",
       "<text text-anchor=\"middle\" x=\"650.953\" y=\"-34.8\" font-family=\"Helvetica,sans-Serif\" font-size=\"14.00\">gini = 0.0571</text>\n",
       "<text text-anchor=\"middle\" x=\"650.953\" y=\"-20.8\" font-family=\"Helvetica,sans-Serif\" font-size=\"14.00\">samples = 7.1%</text>\n",
       "<text text-anchor=\"middle\" x=\"650.953\" y=\"-6.8\" font-family=\"Helvetica,sans-Serif\" font-size=\"14.00\">value = [0.03, 0.97]</text>\n",
       "</g>\n",
       "<!-- 9&#45;&gt;10 -->\n",
       "<g id=\"edge10\" class=\"edge\"><title>9&#45;&gt;10</title>\n",
       "<path fill=\"none\" stroke=\"black\" d=\"M679.275,-85.9375C675.202,-77.3164 670.763,-67.9239 666.635,-59.1865\"/>\n",
       "<polygon fill=\"black\" stroke=\"black\" points=\"669.745,-57.5762 662.308,-50.0301 663.416,-60.5668 669.745,-57.5762\"/>\n",
       "</g>\n",
       "<!-- 11 -->\n",
       "<g id=\"node12\" class=\"node\"><title>11</title>\n",
       "<path fill=\"#399de5\" fill-opacity=\"0.901961\" stroke=\"black\" d=\"M859.932,-50C859.932,-50 747.974,-50 747.974,-50 741.974,-50 735.974,-44 735.974,-38 735.974,-38 735.974,-12 735.974,-12 735.974,-6 741.974,-0 747.974,-0 747.974,-0 859.932,-0 859.932,-0 865.932,-0 871.932,-6 871.932,-12 871.932,-12 871.932,-38 871.932,-38 871.932,-44 865.932,-50 859.932,-50\"/>\n",
       "<text text-anchor=\"middle\" x=\"803.953\" y=\"-34.8\" font-family=\"Helvetica,sans-Serif\" font-size=\"14.00\">gini = 0.1611</text>\n",
       "<text text-anchor=\"middle\" x=\"803.953\" y=\"-20.8\" font-family=\"Helvetica,sans-Serif\" font-size=\"14.00\">samples = 11.9%</text>\n",
       "<text text-anchor=\"middle\" x=\"803.953\" y=\"-6.8\" font-family=\"Helvetica,sans-Serif\" font-size=\"14.00\">value = [0.09, 0.91]</text>\n",
       "</g>\n",
       "<!-- 9&#45;&gt;11 -->\n",
       "<g id=\"edge11\" class=\"edge\"><title>9&#45;&gt;11</title>\n",
       "<path fill=\"none\" stroke=\"black\" d=\"M731.501,-85.9375C743.031,-76.3993 755.702,-65.9167 767.179,-56.4219\"/>\n",
       "<polygon fill=\"black\" stroke=\"black\" points=\"769.432,-59.1012 774.906,-50.0301 764.97,-53.7076 769.432,-59.1012\"/>\n",
       "</g>\n",
       "<!-- 13 -->\n",
       "<g id=\"node14\" class=\"node\"><title>13</title>\n",
       "<path fill=\"#e58139\" fill-opacity=\"0.596078\" stroke=\"black\" d=\"M1012.93,-50C1012.93,-50 900.974,-50 900.974,-50 894.974,-50 888.974,-44 888.974,-38 888.974,-38 888.974,-12 888.974,-12 888.974,-6 894.974,-0 900.974,-0 900.974,-0 1012.93,-0 1012.93,-0 1018.93,-0 1024.93,-6 1024.93,-12 1024.93,-12 1024.93,-38 1024.93,-38 1024.93,-44 1018.93,-50 1012.93,-50\"/>\n",
       "<text text-anchor=\"middle\" x=\"956.953\" y=\"-34.8\" font-family=\"Helvetica,sans-Serif\" font-size=\"14.00\">gini = 0.4106</text>\n",
       "<text text-anchor=\"middle\" x=\"956.953\" y=\"-20.8\" font-family=\"Helvetica,sans-Serif\" font-size=\"14.00\">samples = 18.3%</text>\n",
       "<text text-anchor=\"middle\" x=\"956.953\" y=\"-6.8\" font-family=\"Helvetica,sans-Serif\" font-size=\"14.00\">value = [0.71, 0.29]</text>\n",
       "</g>\n",
       "<!-- 12&#45;&gt;13 -->\n",
       "<g id=\"edge13\" class=\"edge\"><title>12&#45;&gt;13</title>\n",
       "<path fill=\"none\" stroke=\"black\" d=\"M956.953,-85.9375C956.953,-77.6833 956.953,-68.7219 956.953,-60.3053\"/>\n",
       "<polygon fill=\"black\" stroke=\"black\" points=\"960.453,-60.03 956.953,-50.0301 953.453,-60.0301 960.453,-60.03\"/>\n",
       "</g>\n",
       "<!-- 14 -->\n",
       "<g id=\"node15\" class=\"node\"><title>14</title>\n",
       "<path fill=\"#399de5\" fill-opacity=\"0.788235\" stroke=\"black\" d=\"M1165.93,-50C1165.93,-50 1053.97,-50 1053.97,-50 1047.97,-50 1041.97,-44 1041.97,-38 1041.97,-38 1041.97,-12 1041.97,-12 1041.97,-6 1047.97,-0 1053.97,-0 1053.97,-0 1165.93,-0 1165.93,-0 1171.93,-0 1177.93,-6 1177.93,-12 1177.93,-12 1177.93,-38 1177.93,-38 1177.93,-44 1171.93,-50 1165.93,-50\"/>\n",
       "<text text-anchor=\"middle\" x=\"1109.95\" y=\"-34.8\" font-family=\"Helvetica,sans-Serif\" font-size=\"14.00\">gini = 0.2886</text>\n",
       "<text text-anchor=\"middle\" x=\"1109.95\" y=\"-20.8\" font-family=\"Helvetica,sans-Serif\" font-size=\"14.00\">samples = 22.6%</text>\n",
       "<text text-anchor=\"middle\" x=\"1109.95\" y=\"-6.8\" font-family=\"Helvetica,sans-Serif\" font-size=\"14.00\">value = [0.17, 0.83]</text>\n",
       "</g>\n",
       "<!-- 12&#45;&gt;14 -->\n",
       "<g id=\"edge14\" class=\"edge\"><title>12&#45;&gt;14</title>\n",
       "<path fill=\"none\" stroke=\"black\" d=\"M1009.18,-85.9375C1025.83,-76.0324 1044.2,-65.109 1060.64,-55.3308\"/>\n",
       "<polygon fill=\"black\" stroke=\"black\" points=\"1062.75,-58.1501 1069.55,-50.0301 1059.17,-52.1338 1062.75,-58.1501\"/>\n",
       "</g>\n",
       "</g>\n",
       "</svg>\n"
      ],
      "text/plain": [
       "<graphviz.files.Source at 0x10ce5de10>"
      ]
     },
     "execution_count": 26,
     "metadata": {},
     "output_type": "execute_result"
    }
   ],
   "source": [
    "from sklearn.tree import export_graphviz\n",
    "import graphviz\n",
    "\n",
    "export_graphviz(clf, out_file=\"mytree.dot\", feature_names=X.columns, filled=True, rounded=True, proportion=True)\n",
    "with open(\"mytree.dot\") as f:\n",
    "    dot_graph = f.read()\n",
    "graphviz.Source(dot_graph)"
   ]
  },
  {
   "cell_type": "markdown",
   "metadata": {},
   "source": [
    "### Follow trough a path during prediction"
   ]
  },
  {
   "cell_type": "code",
   "execution_count": 27,
   "metadata": {
    "collapsed": false
   },
   "outputs": [
    {
     "data": {
      "text/plain": [
       "array([0])"
      ]
     },
     "execution_count": 27,
     "metadata": {},
     "output_type": "execute_result"
    }
   ],
   "source": [
    "clf.predict([[  3.30000000e+01,   1.00000000e+02,   1.00000000e+00,\n",
    "          9.99000000e+02,   0.00000000e+00,  -1.80000000e+00,\n",
    "          1.08930000e+01,  -4.42000000e+01,   1.00300000e+00,\n",
    "          5.20000000e+03]])"
   ]
  },
  {
   "cell_type": "code",
   "execution_count": 28,
   "metadata": {
    "collapsed": false
   },
   "outputs": [
    {
     "data": {
      "text/html": [
       "<div>\n",
       "<table border=\"1\" class=\"dataframe\">\n",
       "  <thead>\n",
       "    <tr style=\"text-align: right;\">\n",
       "      <th></th>\n",
       "      <th>age</th>\n",
       "      <th>duration</th>\n",
       "      <th>campaign</th>\n",
       "      <th>pdays</th>\n",
       "      <th>previous</th>\n",
       "      <th>emp.var.rate</th>\n",
       "      <th>cons.price.idx</th>\n",
       "      <th>cons.conf.idx</th>\n",
       "      <th>euribor3m</th>\n",
       "      <th>nr.employed</th>\n",
       "    </tr>\n",
       "  </thead>\n",
       "  <tbody>\n",
       "    <tr>\n",
       "      <th>10981</th>\n",
       "      <td>41</td>\n",
       "      <td>1255</td>\n",
       "      <td>1</td>\n",
       "      <td>999</td>\n",
       "      <td>0</td>\n",
       "      <td>1.4</td>\n",
       "      <td>94.465</td>\n",
       "      <td>-41.8</td>\n",
       "      <td>4.962</td>\n",
       "      <td>5228.1</td>\n",
       "    </tr>\n",
       "  </tbody>\n",
       "</table>\n",
       "</div>"
      ],
      "text/plain": [
       "       age  duration  campaign  pdays  previous  emp.var.rate  cons.price.idx  \\\n",
       "10981   41      1255         1    999         0           1.4          94.465   \n",
       "\n",
       "       cons.conf.idx  euribor3m  nr.employed  \n",
       "10981          -41.8      4.962       5228.1  "
      ]
     },
     "execution_count": 28,
     "metadata": {},
     "output_type": "execute_result"
    }
   ],
   "source": [
    "X_train.iloc[:1,:]"
   ]
  },
  {
   "cell_type": "code",
   "execution_count": 29,
   "metadata": {
    "collapsed": false
   },
   "outputs": [
    {
     "data": {
      "text/plain": [
       "array([[  4.10000000e+01,   1.25500000e+03,   1.00000000e+00,\n",
       "          9.99000000e+02,   0.00000000e+00,   1.40000000e+00,\n",
       "          9.44650000e+01,  -4.18000000e+01,   4.96200000e+00,\n",
       "          5.22810000e+03]])"
      ]
     },
     "execution_count": 29,
     "metadata": {},
     "output_type": "execute_result"
    }
   ],
   "source": [
    "X_train.iloc[:1,:].values"
   ]
  },
  {
   "cell_type": "markdown",
   "metadata": {},
   "source": [
    "## Ensemble methods"
   ]
  },
  {
   "cell_type": "markdown",
   "metadata": {},
   "source": [
    "Combine several machine learning techniques into one predictive model in order to decrease the variance (bagging), bias (boosting) or improving the predictive force (stacking alias ensemble).\n",
    "\n",
    "* Bagging (Bootstrap Aggregating) - minimize variance\n",
    "* Boosting (Converting Weak Models to Strong Ones) - minimize bias (increase accuracy)\n",
    "\n",
    "Combination techniques:\n",
    "* Majority Voting, Weighted Voting - classification\n",
    "* Simple Averaging, Weighted Averaging - regression\n",
    "\n",
    "In sci-kit learn examples:\n",
    "* Bagging: Bagging Classifier, Random Forests, Extremely Randomized Trees\n",
    "* Boosting: AdaBoost, Gradient Tree Boosting"
   ]
  },
  {
   "cell_type": "code",
   "execution_count": 30,
   "metadata": {
    "collapsed": false
   },
   "outputs": [
    {
     "name": "stdout",
     "output_type": "stream",
     "text": [
      "Decision Tree Score: 0.836\n",
      "Decision Tree Variance: 0.0085 \n",
      "\n",
      "Bagging Score: 0.859\n",
      "Bagging Variance: 0.0110 \n",
      "\n",
      "Random Forest Score: 0.877\n",
      "Random Forest Variance: 0.0121 \n",
      "\n",
      "Extremely Randomized Trees Score: 0.861\n",
      "Extremely Randomized Trees Variance: 0.0107 \n",
      "\n",
      "AdaBoost Score: 0.869\n",
      "AdaBoost Variance: 0.0072 \n",
      "\n",
      "Gradient Tree Boosting Score: 0.869\n",
      "Gradient Tree Boosting Variance: 0.0099 \n",
      "\n"
     ]
    }
   ],
   "source": [
    "from sklearn.ensemble import RandomForestClassifier\n",
    "from sklearn.ensemble import ExtraTreesClassifier\n",
    "from sklearn.ensemble import BaggingClassifier\n",
    "from sklearn.ensemble import AdaBoostClassifier\n",
    "from sklearn.ensemble import GradientBoostingClassifier\n",
    "from sklearn.neighbors import KNeighborsClassifier\n",
    "\n",
    "cv = 10\n",
    "\n",
    "clf = tree.DecisionTreeClassifier(max_depth=None, min_samples_split=1, random_state=0)\n",
    "scores = cross_val_score(clf, X_train, y_train, cv=cv)\n",
    "print \"Decision Tree Score: %.3f\" % scores.mean()\n",
    "print \"Decision Tree Variance: %.4f \\n\" % scores.std()\n",
    "\n",
    "clf = BaggingClassifier(KNeighborsClassifier(), max_samples=0.5, max_features=0.5, random_state=0)\n",
    "scores = cross_val_score(clf, X_train, y_train, cv=cv)\n",
    "print \"Bagging Score: %.3f\" % scores.mean()\n",
    "print \"Bagging Variance: %.4f \\n\" % scores.std()\n",
    "\n",
    "clf = RandomForestClassifier(n_estimators=10, max_depth=None, min_samples_split=1, random_state=0)\n",
    "scores = cross_val_score(clf, X_train, y_train, cv=cv)\n",
    "print \"Random Forest Score: %.3f\" % scores.mean()\n",
    "print \"Random Forest Variance: %.4f \\n\" % scores.std()\n",
    "\n",
    "clf = ExtraTreesClassifier(n_estimators=10, max_depth=None, min_samples_split=1, random_state=0)\n",
    "scores = cross_val_score(clf, X_train, y_train, cv=cv)\n",
    "print \"Extremely Randomized Trees Score: %.3f\" % scores.mean()\n",
    "print \"Extremely Randomized Trees Variance: %.4f \\n\" % scores.std()\n",
    "\n",
    "clf = AdaBoostClassifier(n_estimators=100, random_state=0)\n",
    "scores = cross_val_score(clf, X_train, y_train, cv=cv)\n",
    "print \"AdaBoost Score: %.3f\" % scores.mean()\n",
    "print \"AdaBoost Variance: %.4f \\n\" % scores.std()\n",
    "\n",
    "clf = GradientBoostingClassifier(n_estimators=100, learning_rate=1.0, max_depth=1, random_state=0)\n",
    "scores = cross_val_score(clf, X_train, y_train, cv=cv)\n",
    "print \"Gradient Tree Boosting Score: %.3f\" % scores.mean()\n",
    "print \"Gradient Tree Boosting Variance: %.4f \\n\" % scores.std()"
   ]
  }
 ],
 "metadata": {
  "kernelspec": {
   "display_name": "Python 2",
   "language": "python",
   "name": "python2"
  },
  "language_info": {
   "codemirror_mode": {
    "name": "ipython",
    "version": 2
   },
   "file_extension": ".py",
   "mimetype": "text/x-python",
   "name": "python",
   "nbconvert_exporter": "python",
   "pygments_lexer": "ipython2",
   "version": "2.7.11"
  }
 },
 "nbformat": 4,
 "nbformat_minor": 0
}
